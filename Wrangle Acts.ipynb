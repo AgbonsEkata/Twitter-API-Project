{
 "cells": [
  {
   "cell_type": "code",
   "execution_count": 2,
   "id": "8fa62a12",
   "metadata": {},
   "outputs": [],
   "source": [
    " #import libraries\n",
    "import numpy as np\n",
    "import pandas as pd\n",
    "import matplotlib.pyplot as plt\n",
    "%matplotlib inline\n",
    "import seaborn as sb\n",
    "import tweepy\n",
    "import requests\n",
    "import json\n",
    "from PIL import Image\n",
    "from io import BytesIO           "
   ]
  },
  {
   "cell_type": "code",
   "execution_count": 3,
   "id": "7af864e2",
   "metadata": {},
   "outputs": [],
   "source": [
    "df = pd.read_csv('dogs/twitter-archive-enhanced.csv')   "
   ]
  },
  {
   "cell_type": "code",
   "execution_count": 4,
   "id": "c3530915",
   "metadata": {},
   "outputs": [
    {
     "data": {
      "text/html": [
       "<div>\n",
       "<style scoped>\n",
       "    .dataframe tbody tr th:only-of-type {\n",
       "        vertical-align: middle;\n",
       "    }\n",
       "\n",
       "    .dataframe tbody tr th {\n",
       "        vertical-align: top;\n",
       "    }\n",
       "\n",
       "    .dataframe thead th {\n",
       "        text-align: right;\n",
       "    }\n",
       "</style>\n",
       "<table border=\"1\" class=\"dataframe\">\n",
       "  <thead>\n",
       "    <tr style=\"text-align: right;\">\n",
       "      <th></th>\n",
       "      <th>tweet_id</th>\n",
       "      <th>in_reply_to_status_id</th>\n",
       "      <th>in_reply_to_user_id</th>\n",
       "      <th>timestamp</th>\n",
       "      <th>source</th>\n",
       "      <th>text</th>\n",
       "      <th>retweeted_status_id</th>\n",
       "      <th>retweeted_status_user_id</th>\n",
       "      <th>retweeted_status_timestamp</th>\n",
       "      <th>expanded_urls</th>\n",
       "      <th>rating_numerator</th>\n",
       "      <th>rating_denominator</th>\n",
       "      <th>name</th>\n",
       "      <th>doggo</th>\n",
       "      <th>floofer</th>\n",
       "      <th>pupper</th>\n",
       "      <th>puppo</th>\n",
       "    </tr>\n",
       "  </thead>\n",
       "  <tbody>\n",
       "    <tr>\n",
       "      <th>0</th>\n",
       "      <td>892420643555336193</td>\n",
       "      <td>NaN</td>\n",
       "      <td>NaN</td>\n",
       "      <td>2017-08-01 16:23:56 +0000</td>\n",
       "      <td>&lt;a href=\"http://twitter.com/download/iphone\" r...</td>\n",
       "      <td>This is Phineas. He's a mystical boy. Only eve...</td>\n",
       "      <td>NaN</td>\n",
       "      <td>NaN</td>\n",
       "      <td>NaN</td>\n",
       "      <td>https://twitter.com/dog_rates/status/892420643...</td>\n",
       "      <td>13</td>\n",
       "      <td>10</td>\n",
       "      <td>Phineas</td>\n",
       "      <td>None</td>\n",
       "      <td>None</td>\n",
       "      <td>None</td>\n",
       "      <td>None</td>\n",
       "    </tr>\n",
       "    <tr>\n",
       "      <th>1</th>\n",
       "      <td>892177421306343426</td>\n",
       "      <td>NaN</td>\n",
       "      <td>NaN</td>\n",
       "      <td>2017-08-01 00:17:27 +0000</td>\n",
       "      <td>&lt;a href=\"http://twitter.com/download/iphone\" r...</td>\n",
       "      <td>This is Tilly. She's just checking pup on you....</td>\n",
       "      <td>NaN</td>\n",
       "      <td>NaN</td>\n",
       "      <td>NaN</td>\n",
       "      <td>https://twitter.com/dog_rates/status/892177421...</td>\n",
       "      <td>13</td>\n",
       "      <td>10</td>\n",
       "      <td>Tilly</td>\n",
       "      <td>None</td>\n",
       "      <td>None</td>\n",
       "      <td>None</td>\n",
       "      <td>None</td>\n",
       "    </tr>\n",
       "    <tr>\n",
       "      <th>2</th>\n",
       "      <td>891815181378084864</td>\n",
       "      <td>NaN</td>\n",
       "      <td>NaN</td>\n",
       "      <td>2017-07-31 00:18:03 +0000</td>\n",
       "      <td>&lt;a href=\"http://twitter.com/download/iphone\" r...</td>\n",
       "      <td>This is Archie. He is a rare Norwegian Pouncin...</td>\n",
       "      <td>NaN</td>\n",
       "      <td>NaN</td>\n",
       "      <td>NaN</td>\n",
       "      <td>https://twitter.com/dog_rates/status/891815181...</td>\n",
       "      <td>12</td>\n",
       "      <td>10</td>\n",
       "      <td>Archie</td>\n",
       "      <td>None</td>\n",
       "      <td>None</td>\n",
       "      <td>None</td>\n",
       "      <td>None</td>\n",
       "    </tr>\n",
       "    <tr>\n",
       "      <th>3</th>\n",
       "      <td>891689557279858688</td>\n",
       "      <td>NaN</td>\n",
       "      <td>NaN</td>\n",
       "      <td>2017-07-30 15:58:51 +0000</td>\n",
       "      <td>&lt;a href=\"http://twitter.com/download/iphone\" r...</td>\n",
       "      <td>This is Darla. She commenced a snooze mid meal...</td>\n",
       "      <td>NaN</td>\n",
       "      <td>NaN</td>\n",
       "      <td>NaN</td>\n",
       "      <td>https://twitter.com/dog_rates/status/891689557...</td>\n",
       "      <td>13</td>\n",
       "      <td>10</td>\n",
       "      <td>Darla</td>\n",
       "      <td>None</td>\n",
       "      <td>None</td>\n",
       "      <td>None</td>\n",
       "      <td>None</td>\n",
       "    </tr>\n",
       "  </tbody>\n",
       "</table>\n",
       "</div>"
      ],
      "text/plain": [
       "             tweet_id  in_reply_to_status_id  in_reply_to_user_id  \\\n",
       "0  892420643555336193                    NaN                  NaN   \n",
       "1  892177421306343426                    NaN                  NaN   \n",
       "2  891815181378084864                    NaN                  NaN   \n",
       "3  891689557279858688                    NaN                  NaN   \n",
       "\n",
       "                   timestamp  \\\n",
       "0  2017-08-01 16:23:56 +0000   \n",
       "1  2017-08-01 00:17:27 +0000   \n",
       "2  2017-07-31 00:18:03 +0000   \n",
       "3  2017-07-30 15:58:51 +0000   \n",
       "\n",
       "                                              source  \\\n",
       "0  <a href=\"http://twitter.com/download/iphone\" r...   \n",
       "1  <a href=\"http://twitter.com/download/iphone\" r...   \n",
       "2  <a href=\"http://twitter.com/download/iphone\" r...   \n",
       "3  <a href=\"http://twitter.com/download/iphone\" r...   \n",
       "\n",
       "                                                text  retweeted_status_id  \\\n",
       "0  This is Phineas. He's a mystical boy. Only eve...                  NaN   \n",
       "1  This is Tilly. She's just checking pup on you....                  NaN   \n",
       "2  This is Archie. He is a rare Norwegian Pouncin...                  NaN   \n",
       "3  This is Darla. She commenced a snooze mid meal...                  NaN   \n",
       "\n",
       "   retweeted_status_user_id retweeted_status_timestamp  \\\n",
       "0                       NaN                        NaN   \n",
       "1                       NaN                        NaN   \n",
       "2                       NaN                        NaN   \n",
       "3                       NaN                        NaN   \n",
       "\n",
       "                                       expanded_urls  rating_numerator  \\\n",
       "0  https://twitter.com/dog_rates/status/892420643...                13   \n",
       "1  https://twitter.com/dog_rates/status/892177421...                13   \n",
       "2  https://twitter.com/dog_rates/status/891815181...                12   \n",
       "3  https://twitter.com/dog_rates/status/891689557...                13   \n",
       "\n",
       "   rating_denominator     name doggo floofer pupper puppo  \n",
       "0                  10  Phineas  None    None   None  None  \n",
       "1                  10    Tilly  None    None   None  None  \n",
       "2                  10   Archie  None    None   None  None  \n",
       "3                  10    Darla  None    None   None  None  "
      ]
     },
     "execution_count": 4,
     "metadata": {},
     "output_type": "execute_result"
    }
   ],
   "source": [
    "df.head(4)"
   ]
  },
  {
   "cell_type": "code",
   "execution_count": 5,
   "id": "773f15e4",
   "metadata": {},
   "outputs": [],
   "source": [
    "#Image predictions File is downloaded programmatically using the Requests library \n",
    "url = 'https://d17h27t6h515a5.cloudfront.net/topher/2017/August/599fd2ad_image-predictions/image-predictions.tsv'\n",
    "response = requests.get(url)\n",
    "with open('image-predictions.tsv',mode='wb') as file:\n",
    "    file.write(response.content)"
   ]
  },
  {
   "cell_type": "code",
   "execution_count": 6,
   "id": "19de7fd8",
   "metadata": {},
   "outputs": [
    {
     "data": {
      "text/html": [
       "<div>\n",
       "<style scoped>\n",
       "    .dataframe tbody tr th:only-of-type {\n",
       "        vertical-align: middle;\n",
       "    }\n",
       "\n",
       "    .dataframe tbody tr th {\n",
       "        vertical-align: top;\n",
       "    }\n",
       "\n",
       "    .dataframe thead th {\n",
       "        text-align: right;\n",
       "    }\n",
       "</style>\n",
       "<table border=\"1\" class=\"dataframe\">\n",
       "  <thead>\n",
       "    <tr style=\"text-align: right;\">\n",
       "      <th></th>\n",
       "      <th>tweet_id</th>\n",
       "      <th>jpg_url</th>\n",
       "      <th>img_num</th>\n",
       "      <th>p1</th>\n",
       "      <th>p1_conf</th>\n",
       "      <th>p1_dog</th>\n",
       "      <th>p2</th>\n",
       "      <th>p2_conf</th>\n",
       "      <th>p2_dog</th>\n",
       "      <th>p3</th>\n",
       "      <th>p3_conf</th>\n",
       "      <th>p3_dog</th>\n",
       "    </tr>\n",
       "  </thead>\n",
       "  <tbody>\n",
       "    <tr>\n",
       "      <th>0</th>\n",
       "      <td>666020888022790149</td>\n",
       "      <td>https://pbs.twimg.com/media/CT4udn0WwAA0aMy.jpg</td>\n",
       "      <td>1</td>\n",
       "      <td>Welsh_springer_spaniel</td>\n",
       "      <td>0.465074</td>\n",
       "      <td>True</td>\n",
       "      <td>collie</td>\n",
       "      <td>0.156665</td>\n",
       "      <td>True</td>\n",
       "      <td>Shetland_sheepdog</td>\n",
       "      <td>0.061428</td>\n",
       "      <td>True</td>\n",
       "    </tr>\n",
       "    <tr>\n",
       "      <th>1</th>\n",
       "      <td>666029285002620928</td>\n",
       "      <td>https://pbs.twimg.com/media/CT42GRgUYAA5iDo.jpg</td>\n",
       "      <td>1</td>\n",
       "      <td>redbone</td>\n",
       "      <td>0.506826</td>\n",
       "      <td>True</td>\n",
       "      <td>miniature_pinscher</td>\n",
       "      <td>0.074192</td>\n",
       "      <td>True</td>\n",
       "      <td>Rhodesian_ridgeback</td>\n",
       "      <td>0.072010</td>\n",
       "      <td>True</td>\n",
       "    </tr>\n",
       "    <tr>\n",
       "      <th>2</th>\n",
       "      <td>666033412701032449</td>\n",
       "      <td>https://pbs.twimg.com/media/CT4521TWwAEvMyu.jpg</td>\n",
       "      <td>1</td>\n",
       "      <td>German_shepherd</td>\n",
       "      <td>0.596461</td>\n",
       "      <td>True</td>\n",
       "      <td>malinois</td>\n",
       "      <td>0.138584</td>\n",
       "      <td>True</td>\n",
       "      <td>bloodhound</td>\n",
       "      <td>0.116197</td>\n",
       "      <td>True</td>\n",
       "    </tr>\n",
       "    <tr>\n",
       "      <th>3</th>\n",
       "      <td>666044226329800704</td>\n",
       "      <td>https://pbs.twimg.com/media/CT5Dr8HUEAA-lEu.jpg</td>\n",
       "      <td>1</td>\n",
       "      <td>Rhodesian_ridgeback</td>\n",
       "      <td>0.408143</td>\n",
       "      <td>True</td>\n",
       "      <td>redbone</td>\n",
       "      <td>0.360687</td>\n",
       "      <td>True</td>\n",
       "      <td>miniature_pinscher</td>\n",
       "      <td>0.222752</td>\n",
       "      <td>True</td>\n",
       "    </tr>\n",
       "    <tr>\n",
       "      <th>4</th>\n",
       "      <td>666049248165822465</td>\n",
       "      <td>https://pbs.twimg.com/media/CT5IQmsXIAAKY4A.jpg</td>\n",
       "      <td>1</td>\n",
       "      <td>miniature_pinscher</td>\n",
       "      <td>0.560311</td>\n",
       "      <td>True</td>\n",
       "      <td>Rottweiler</td>\n",
       "      <td>0.243682</td>\n",
       "      <td>True</td>\n",
       "      <td>Doberman</td>\n",
       "      <td>0.154629</td>\n",
       "      <td>True</td>\n",
       "    </tr>\n",
       "  </tbody>\n",
       "</table>\n",
       "</div>"
      ],
      "text/plain": [
       "             tweet_id                                          jpg_url  \\\n",
       "0  666020888022790149  https://pbs.twimg.com/media/CT4udn0WwAA0aMy.jpg   \n",
       "1  666029285002620928  https://pbs.twimg.com/media/CT42GRgUYAA5iDo.jpg   \n",
       "2  666033412701032449  https://pbs.twimg.com/media/CT4521TWwAEvMyu.jpg   \n",
       "3  666044226329800704  https://pbs.twimg.com/media/CT5Dr8HUEAA-lEu.jpg   \n",
       "4  666049248165822465  https://pbs.twimg.com/media/CT5IQmsXIAAKY4A.jpg   \n",
       "\n",
       "   img_num                      p1   p1_conf  p1_dog                  p2  \\\n",
       "0        1  Welsh_springer_spaniel  0.465074    True              collie   \n",
       "1        1                 redbone  0.506826    True  miniature_pinscher   \n",
       "2        1         German_shepherd  0.596461    True            malinois   \n",
       "3        1     Rhodesian_ridgeback  0.408143    True             redbone   \n",
       "4        1      miniature_pinscher  0.560311    True          Rottweiler   \n",
       "\n",
       "    p2_conf  p2_dog                   p3   p3_conf  p3_dog  \n",
       "0  0.156665    True    Shetland_sheepdog  0.061428    True  \n",
       "1  0.074192    True  Rhodesian_ridgeback  0.072010    True  \n",
       "2  0.138584    True           bloodhound  0.116197    True  \n",
       "3  0.360687    True   miniature_pinscher  0.222752    True  \n",
       "4  0.243682    True             Doberman  0.154629    True  "
      ]
     },
     "execution_count": 6,
     "metadata": {},
     "output_type": "execute_result"
    }
   ],
   "source": [
    "df_image = pd.read_csv('image-predictions.tsv', sep = ('\\t'))\n",
    "df_image.head(5)"
   ]
  },
  {
   "cell_type": "code",
   "execution_count": 348,
   "id": "58e2ca50",
   "metadata": {},
   "outputs": [],
   "source": [
    "#USING TWEEPY LIBRARY TO QUERY DATA\n",
    "consumer_key = '3LgQthLIM3m0jkrKfaiuMxiwd'\n",
    "consumer_secret = 'pDrDRcUNIR8diKy6g1DXppQzFMyM8HtYfq2KlDZ18fzMWBTb4h'\n",
    "access_token = '4918949967-O8cb9zuAw8noeIZdpuXRRyA2Lxw7iPDk3L9yUhx'\n",
    "access_secret = 'Ewz1PZkoj8P4vMBK9f4FqdYiSJ04jfXcMxvgmyrq8LtvY'\n",
    "auth = tweepy.OAuthHandler(consumer_key, consumer_secret)\n",
    "auth.set_access_token(access_token, access_secret)\n",
    "\n",
    "api = tweepy.API(auth,wait_on_rate_limit=True)"
   ]
  },
  {
   "cell_type": "code",
   "execution_count": 349,
   "id": "5ef3519b",
   "metadata": {
    "scrolled": true
   },
   "outputs": [
    {
     "name": "stderr",
     "output_type": "stream",
     "text": [
      "Rate limit reached. Sleeping for: 395\n",
      "Rate limit reached. Sleeping for: 408\n"
     ]
    }
   ],
   "source": [
    "# Fetch tweets from the twitter API using the following loop:\n",
    "list_of_tweets = []\n",
    "# Tweets that can't be found are saved in the list below:\n",
    "cant_find_tweets_for_those_ids = []\n",
    "for tweet_id in df['tweet_id']:   \n",
    "    try:\n",
    "        list_of_tweets.append(api.get_status(tweet_id))\n",
    "    except Exception as e:\n",
    "        cant_find_tweets_for_those_ids.append(tweet_id)\n"
   ]
  },
  {
   "cell_type": "code",
   "execution_count": 7,
   "id": "3f0858c7",
   "metadata": {},
   "outputs": [
    {
     "ename": "NameError",
     "evalue": "name 'list_of_tweets' is not defined",
     "output_type": "error",
     "traceback": [
      "\u001b[0;31m---------------------------------------------------------------------------\u001b[0m",
      "\u001b[0;31mNameError\u001b[0m                                 Traceback (most recent call last)",
      "\u001b[0;32m/var/folders/xx/5rnj4h_n25d5pt02b754brq40000gn/T/ipykernel_90465/718750534.py\u001b[0m in \u001b[0;36m<module>\u001b[0;34m\u001b[0m\n\u001b[1;32m      1\u001b[0m \u001b[0;31m#Isolating the json part of each tweepy status object that we have downloaded and adding them all into a list\u001b[0m\u001b[0;34m\u001b[0m\u001b[0;34m\u001b[0m\u001b[0m\n\u001b[1;32m      2\u001b[0m \u001b[0mmy_list_of_jsondicts\u001b[0m \u001b[0;34m=\u001b[0m \u001b[0;34m[\u001b[0m\u001b[0;34m]\u001b[0m\u001b[0;34m\u001b[0m\u001b[0;34m\u001b[0m\u001b[0m\n\u001b[0;32m----> 3\u001b[0;31m \u001b[0;32mfor\u001b[0m \u001b[0meach_json_tweet\u001b[0m \u001b[0;32min\u001b[0m \u001b[0mlist_of_tweets\u001b[0m\u001b[0;34m:\u001b[0m\u001b[0;34m\u001b[0m\u001b[0;34m\u001b[0m\u001b[0m\n\u001b[0m\u001b[1;32m      4\u001b[0m     \u001b[0mmy_list_of_jsondicts\u001b[0m\u001b[0;34m.\u001b[0m\u001b[0mappend\u001b[0m\u001b[0;34m(\u001b[0m\u001b[0meach_json_tweet\u001b[0m\u001b[0;34m.\u001b[0m\u001b[0m_json\u001b[0m\u001b[0;34m)\u001b[0m\u001b[0;34m\u001b[0m\u001b[0;34m\u001b[0m\u001b[0m\n",
      "\u001b[0;31mNameError\u001b[0m: name 'list_of_tweets' is not defined"
     ]
    }
   ],
   "source": [
    "#Isolating the json part of each tweepy status object that we have downloaded and adding them all into a list\n",
    "my_list_of_jsondicts = []\n",
    "for each_json_tweet in list_of_tweets:\n",
    "    my_list_of_jsondicts.append(each_json_tweet._json)"
   ]
  },
  {
   "cell_type": "code",
   "execution_count": 353,
   "id": "773c7813",
   "metadata": {},
   "outputs": [],
   "source": [
    "with open ('tweet-json.txt', 'w') as file:\n",
    "    file.write(json.dumps(my_list_of_jsondicts, indent = 4))"
   ]
  },
  {
   "cell_type": "code",
   "execution_count": 8,
   "id": "0e0d745d",
   "metadata": {
    "scrolled": false
   },
   "outputs": [],
   "source": [
    "#create a dataframe from the tweet-json.txt file\n",
    "my_demo_list = []\n",
    "with open('tweet-json.txt', encoding = 'utf-8') as json_file:\n",
    "    all_tweet_data = json.load(json_file)\n",
    "    for each_data in all_tweet_data:\n",
    "        tweet_id = each_data['id']\n",
    "        tweet = each_data['text']\n",
    "        only_url = tweet[tweet.find('https'):]\n",
    "        favorite_count = each_data['favorite_count']\n",
    "        retweet_count = each_data['retweet_count']\n",
    "        created_at = each_data['created_at']\n",
    "        whole_source = each_data['source']\n",
    "        device = whole_source[whole_source.find('rel=\"nofollow\">') + 15:-4]\n",
    "        source = device\n",
    "        retweeted_status = each_data['retweeted_status'] = each_data.get('retweeted_status', 'Original tweet')\n",
    "        if retweeted_status == 'Original tweet':\n",
    "            url = only_url\n",
    "        else:\n",
    "            retweeted_status = 'This is a retweet'\n",
    "            url = 'This is a retweet'\n",
    "        my_demo_list.append({'tweet_id': str(tweet_id),\n",
    "                             'created_at': created_at,\n",
    "                            'favorite_count': int(favorite_count),\n",
    "                             'retweet_count': int(retweet_count),\n",
    "                             'source': source,\n",
    "                            'url': url,\n",
    "                            'retweeted_status': retweeted_status})\n",
    "        df_json = pd.DataFrame(my_demo_list, columns = ['tweet_id', 'created_at', 'favorite_count', 'retweet_count', 'source',\n",
    "                                                       'url', 'retweeted_status'])\n",
    "    \n",
    "    \n",
    "        "
   ]
  },
  {
   "cell_type": "code",
   "execution_count": 9,
   "id": "212ab9e3",
   "metadata": {
    "scrolled": true
   },
   "outputs": [
    {
     "data": {
      "text/html": [
       "<div>\n",
       "<style scoped>\n",
       "    .dataframe tbody tr th:only-of-type {\n",
       "        vertical-align: middle;\n",
       "    }\n",
       "\n",
       "    .dataframe tbody tr th {\n",
       "        vertical-align: top;\n",
       "    }\n",
       "\n",
       "    .dataframe thead th {\n",
       "        text-align: right;\n",
       "    }\n",
       "</style>\n",
       "<table border=\"1\" class=\"dataframe\">\n",
       "  <thead>\n",
       "    <tr style=\"text-align: right;\">\n",
       "      <th></th>\n",
       "      <th>tweet_id</th>\n",
       "      <th>created_at</th>\n",
       "      <th>favorite_count</th>\n",
       "      <th>retweet_count</th>\n",
       "      <th>source</th>\n",
       "      <th>url</th>\n",
       "      <th>retweeted_status</th>\n",
       "    </tr>\n",
       "  </thead>\n",
       "  <tbody>\n",
       "    <tr>\n",
       "      <th>0</th>\n",
       "      <td>892420643555336193</td>\n",
       "      <td>Tue Aug 01 16:23:56 +0000 2017</td>\n",
       "      <td>33783</td>\n",
       "      <td>6996</td>\n",
       "      <td>Twitter for iPhone</td>\n",
       "      <td>https://t.co/MgUWQ76dJU</td>\n",
       "      <td>Original tweet</td>\n",
       "    </tr>\n",
       "    <tr>\n",
       "      <th>1</th>\n",
       "      <td>892177421306343426</td>\n",
       "      <td>Tue Aug 01 00:17:27 +0000 2017</td>\n",
       "      <td>29308</td>\n",
       "      <td>5296</td>\n",
       "      <td>Twitter for iPhone</td>\n",
       "      <td>https://t.co/aQFSeaCu9L</td>\n",
       "      <td>Original tweet</td>\n",
       "    </tr>\n",
       "    <tr>\n",
       "      <th>2</th>\n",
       "      <td>891815181378084864</td>\n",
       "      <td>Mon Jul 31 00:18:03 +0000 2017</td>\n",
       "      <td>22036</td>\n",
       "      <td>3475</td>\n",
       "      <td>Twitter for iPhone</td>\n",
       "      <td>https://t.co/r0YlrsGCgy</td>\n",
       "      <td>Original tweet</td>\n",
       "    </tr>\n",
       "    <tr>\n",
       "      <th>3</th>\n",
       "      <td>891689557279858688</td>\n",
       "      <td>Sun Jul 30 15:58:51 +0000 2017</td>\n",
       "      <td>36899</td>\n",
       "      <td>7218</td>\n",
       "      <td>Twitter for iPhone</td>\n",
       "      <td>https://t.co/tD36da7qLQ</td>\n",
       "      <td>Original tweet</td>\n",
       "    </tr>\n",
       "    <tr>\n",
       "      <th>4</th>\n",
       "      <td>891327558926688256</td>\n",
       "      <td>Sat Jul 29 16:00:24 +0000 2017</td>\n",
       "      <td>35286</td>\n",
       "      <td>7750</td>\n",
       "      <td>Twitter for iPhone</td>\n",
       "      <td>https://t.co/0g0KMIVXZ3</td>\n",
       "      <td>Original tweet</td>\n",
       "    </tr>\n",
       "    <tr>\n",
       "      <th>...</th>\n",
       "      <td>...</td>\n",
       "      <td>...</td>\n",
       "      <td>...</td>\n",
       "      <td>...</td>\n",
       "      <td>...</td>\n",
       "      <td>...</td>\n",
       "      <td>...</td>\n",
       "    </tr>\n",
       "    <tr>\n",
       "      <th>2322</th>\n",
       "      <td>666049248165822465</td>\n",
       "      <td>Mon Nov 16 00:24:50 +0000 2015</td>\n",
       "      <td>89</td>\n",
       "      <td>37</td>\n",
       "      <td>Twitter for iPhone</td>\n",
       "      <td>https://t.co/4B7cOc1EDq</td>\n",
       "      <td>Original tweet</td>\n",
       "    </tr>\n",
       "    <tr>\n",
       "      <th>2323</th>\n",
       "      <td>666044226329800704</td>\n",
       "      <td>Mon Nov 16 00:04:52 +0000 2015</td>\n",
       "      <td>247</td>\n",
       "      <td>115</td>\n",
       "      <td>Twitter for iPhone</td>\n",
       "      <td>https://t.co/DWnyCjf2mx</td>\n",
       "      <td>Original tweet</td>\n",
       "    </tr>\n",
       "    <tr>\n",
       "      <th>2324</th>\n",
       "      <td>666033412701032449</td>\n",
       "      <td>Sun Nov 15 23:21:54 +0000 2015</td>\n",
       "      <td>100</td>\n",
       "      <td>36</td>\n",
       "      <td>Twitter for iPhone</td>\n",
       "      <td>https://t.co/y671yMhoiR</td>\n",
       "      <td>Original tweet</td>\n",
       "    </tr>\n",
       "    <tr>\n",
       "      <th>2325</th>\n",
       "      <td>666029285002620928</td>\n",
       "      <td>Sun Nov 15 23:05:30 +0000 2015</td>\n",
       "      <td>112</td>\n",
       "      <td>39</td>\n",
       "      <td>Twitter for iPhone</td>\n",
       "      <td>https://t.co/r7mOb2m0UI</td>\n",
       "      <td>Original tweet</td>\n",
       "    </tr>\n",
       "    <tr>\n",
       "      <th>2326</th>\n",
       "      <td>666020888022790149</td>\n",
       "      <td>Sun Nov 15 22:32:08 +0000 2015</td>\n",
       "      <td>2291</td>\n",
       "      <td>422</td>\n",
       "      <td>Twitter for iPhone</td>\n",
       "      <td>https://t.co/BLDqew2Ijj</td>\n",
       "      <td>Original tweet</td>\n",
       "    </tr>\n",
       "  </tbody>\n",
       "</table>\n",
       "<p>2327 rows × 7 columns</p>\n",
       "</div>"
      ],
      "text/plain": [
       "                tweet_id                      created_at  favorite_count  \\\n",
       "0     892420643555336193  Tue Aug 01 16:23:56 +0000 2017           33783   \n",
       "1     892177421306343426  Tue Aug 01 00:17:27 +0000 2017           29308   \n",
       "2     891815181378084864  Mon Jul 31 00:18:03 +0000 2017           22036   \n",
       "3     891689557279858688  Sun Jul 30 15:58:51 +0000 2017           36899   \n",
       "4     891327558926688256  Sat Jul 29 16:00:24 +0000 2017           35286   \n",
       "...                  ...                             ...             ...   \n",
       "2322  666049248165822465  Mon Nov 16 00:24:50 +0000 2015              89   \n",
       "2323  666044226329800704  Mon Nov 16 00:04:52 +0000 2015             247   \n",
       "2324  666033412701032449  Sun Nov 15 23:21:54 +0000 2015             100   \n",
       "2325  666029285002620928  Sun Nov 15 23:05:30 +0000 2015             112   \n",
       "2326  666020888022790149  Sun Nov 15 22:32:08 +0000 2015            2291   \n",
       "\n",
       "      retweet_count              source                      url  \\\n",
       "0              6996  Twitter for iPhone  https://t.co/MgUWQ76dJU   \n",
       "1              5296  Twitter for iPhone  https://t.co/aQFSeaCu9L   \n",
       "2              3475  Twitter for iPhone  https://t.co/r0YlrsGCgy   \n",
       "3              7218  Twitter for iPhone  https://t.co/tD36da7qLQ   \n",
       "4              7750  Twitter for iPhone  https://t.co/0g0KMIVXZ3   \n",
       "...             ...                 ...                      ...   \n",
       "2322             37  Twitter for iPhone  https://t.co/4B7cOc1EDq   \n",
       "2323            115  Twitter for iPhone  https://t.co/DWnyCjf2mx   \n",
       "2324             36  Twitter for iPhone  https://t.co/y671yMhoiR   \n",
       "2325             39  Twitter for iPhone  https://t.co/r7mOb2m0UI   \n",
       "2326            422  Twitter for iPhone  https://t.co/BLDqew2Ijj   \n",
       "\n",
       "     retweeted_status  \n",
       "0      Original tweet  \n",
       "1      Original tweet  \n",
       "2      Original tweet  \n",
       "3      Original tweet  \n",
       "4      Original tweet  \n",
       "...               ...  \n",
       "2322   Original tweet  \n",
       "2323   Original tweet  \n",
       "2324   Original tweet  \n",
       "2325   Original tweet  \n",
       "2326   Original tweet  \n",
       "\n",
       "[2327 rows x 7 columns]"
      ]
     },
     "execution_count": 9,
     "metadata": {},
     "output_type": "execute_result"
    }
   ],
   "source": [
    "df_json"
   ]
  },
  {
   "cell_type": "code",
   "execution_count": 428,
   "id": "b98a94ef",
   "metadata": {},
   "outputs": [
    {
     "name": "stdout",
     "output_type": "stream",
     "text": [
      "<class 'pandas.core.frame.DataFrame'>\n",
      "RangeIndex: 2327 entries, 0 to 2326\n",
      "Data columns (total 7 columns):\n",
      " #   Column            Non-Null Count  Dtype \n",
      "---  ------            --------------  ----- \n",
      " 0   tweet_id          2327 non-null   object\n",
      " 1   created_at        2327 non-null   object\n",
      " 2   favorite_count    2327 non-null   int64 \n",
      " 3   retweet_count     2327 non-null   int64 \n",
      " 4   source            2327 non-null   object\n",
      " 5   url               2327 non-null   object\n",
      " 6   retweeted_status  2327 non-null   object\n",
      "dtypes: int64(2), object(5)\n",
      "memory usage: 127.4+ KB\n"
     ]
    }
   ],
   "source": [
    "df_json.info()"
   ]
  },
  {
   "cell_type": "markdown",
   "id": "cf9bbb90",
   "metadata": {
    "extensions": {
     "jupyter_dashboards": {
      "version": 1,
      "views": {
       "grid_default": {
        "col": 4,
        "height": 4,
        "hidden": false,
        "row": 28,
        "width": 4
       },
       "report_default": {
        "hidden": false
       }
      }
     }
    }
   },
   "source": [
    "## Assessing Data\n"
   ]
  },
  {
   "cell_type": "markdown",
   "id": "ececbb05",
   "metadata": {
    "extensions": {
     "jupyter_dashboards": {
      "version": 1,
      "views": {
       "grid_default": {
        "col": 4,
        "height": 4,
        "hidden": false,
        "row": 28,
        "width": 4
       },
       "report_default": {
        "hidden": false
       }
      }
     }
    }
   },
   "source": [
    "### Visual Assessment\n",
    "\n",
    "\n",
    "Preview all gathered data so far"
   ]
  },
  {
   "cell_type": "code",
   "execution_count": 10,
   "id": "1867ab6c",
   "metadata": {
    "scrolled": false
   },
   "outputs": [
    {
     "data": {
      "text/html": [
       "<div>\n",
       "<style scoped>\n",
       "    .dataframe tbody tr th:only-of-type {\n",
       "        vertical-align: middle;\n",
       "    }\n",
       "\n",
       "    .dataframe tbody tr th {\n",
       "        vertical-align: top;\n",
       "    }\n",
       "\n",
       "    .dataframe thead th {\n",
       "        text-align: right;\n",
       "    }\n",
       "</style>\n",
       "<table border=\"1\" class=\"dataframe\">\n",
       "  <thead>\n",
       "    <tr style=\"text-align: right;\">\n",
       "      <th></th>\n",
       "      <th>tweet_id</th>\n",
       "      <th>in_reply_to_status_id</th>\n",
       "      <th>in_reply_to_user_id</th>\n",
       "      <th>timestamp</th>\n",
       "      <th>source</th>\n",
       "      <th>text</th>\n",
       "      <th>retweeted_status_id</th>\n",
       "      <th>retweeted_status_user_id</th>\n",
       "      <th>retweeted_status_timestamp</th>\n",
       "      <th>expanded_urls</th>\n",
       "      <th>rating_numerator</th>\n",
       "      <th>rating_denominator</th>\n",
       "      <th>name</th>\n",
       "      <th>doggo</th>\n",
       "      <th>floofer</th>\n",
       "      <th>pupper</th>\n",
       "      <th>puppo</th>\n",
       "    </tr>\n",
       "  </thead>\n",
       "  <tbody>\n",
       "    <tr>\n",
       "      <th>0</th>\n",
       "      <td>892420643555336193</td>\n",
       "      <td>NaN</td>\n",
       "      <td>NaN</td>\n",
       "      <td>2017-08-01 16:23:56 +0000</td>\n",
       "      <td>&lt;a href=\"http://twitter.com/download/iphone\" r...</td>\n",
       "      <td>This is Phineas. He's a mystical boy. Only eve...</td>\n",
       "      <td>NaN</td>\n",
       "      <td>NaN</td>\n",
       "      <td>NaN</td>\n",
       "      <td>https://twitter.com/dog_rates/status/892420643...</td>\n",
       "      <td>13</td>\n",
       "      <td>10</td>\n",
       "      <td>Phineas</td>\n",
       "      <td>None</td>\n",
       "      <td>None</td>\n",
       "      <td>None</td>\n",
       "      <td>None</td>\n",
       "    </tr>\n",
       "    <tr>\n",
       "      <th>1</th>\n",
       "      <td>892177421306343426</td>\n",
       "      <td>NaN</td>\n",
       "      <td>NaN</td>\n",
       "      <td>2017-08-01 00:17:27 +0000</td>\n",
       "      <td>&lt;a href=\"http://twitter.com/download/iphone\" r...</td>\n",
       "      <td>This is Tilly. She's just checking pup on you....</td>\n",
       "      <td>NaN</td>\n",
       "      <td>NaN</td>\n",
       "      <td>NaN</td>\n",
       "      <td>https://twitter.com/dog_rates/status/892177421...</td>\n",
       "      <td>13</td>\n",
       "      <td>10</td>\n",
       "      <td>Tilly</td>\n",
       "      <td>None</td>\n",
       "      <td>None</td>\n",
       "      <td>None</td>\n",
       "      <td>None</td>\n",
       "    </tr>\n",
       "    <tr>\n",
       "      <th>2</th>\n",
       "      <td>891815181378084864</td>\n",
       "      <td>NaN</td>\n",
       "      <td>NaN</td>\n",
       "      <td>2017-07-31 00:18:03 +0000</td>\n",
       "      <td>&lt;a href=\"http://twitter.com/download/iphone\" r...</td>\n",
       "      <td>This is Archie. He is a rare Norwegian Pouncin...</td>\n",
       "      <td>NaN</td>\n",
       "      <td>NaN</td>\n",
       "      <td>NaN</td>\n",
       "      <td>https://twitter.com/dog_rates/status/891815181...</td>\n",
       "      <td>12</td>\n",
       "      <td>10</td>\n",
       "      <td>Archie</td>\n",
       "      <td>None</td>\n",
       "      <td>None</td>\n",
       "      <td>None</td>\n",
       "      <td>None</td>\n",
       "    </tr>\n",
       "    <tr>\n",
       "      <th>3</th>\n",
       "      <td>891689557279858688</td>\n",
       "      <td>NaN</td>\n",
       "      <td>NaN</td>\n",
       "      <td>2017-07-30 15:58:51 +0000</td>\n",
       "      <td>&lt;a href=\"http://twitter.com/download/iphone\" r...</td>\n",
       "      <td>This is Darla. She commenced a snooze mid meal...</td>\n",
       "      <td>NaN</td>\n",
       "      <td>NaN</td>\n",
       "      <td>NaN</td>\n",
       "      <td>https://twitter.com/dog_rates/status/891689557...</td>\n",
       "      <td>13</td>\n",
       "      <td>10</td>\n",
       "      <td>Darla</td>\n",
       "      <td>None</td>\n",
       "      <td>None</td>\n",
       "      <td>None</td>\n",
       "      <td>None</td>\n",
       "    </tr>\n",
       "    <tr>\n",
       "      <th>4</th>\n",
       "      <td>891327558926688256</td>\n",
       "      <td>NaN</td>\n",
       "      <td>NaN</td>\n",
       "      <td>2017-07-29 16:00:24 +0000</td>\n",
       "      <td>&lt;a href=\"http://twitter.com/download/iphone\" r...</td>\n",
       "      <td>This is Franklin. He would like you to stop ca...</td>\n",
       "      <td>NaN</td>\n",
       "      <td>NaN</td>\n",
       "      <td>NaN</td>\n",
       "      <td>https://twitter.com/dog_rates/status/891327558...</td>\n",
       "      <td>12</td>\n",
       "      <td>10</td>\n",
       "      <td>Franklin</td>\n",
       "      <td>None</td>\n",
       "      <td>None</td>\n",
       "      <td>None</td>\n",
       "      <td>None</td>\n",
       "    </tr>\n",
       "  </tbody>\n",
       "</table>\n",
       "</div>"
      ],
      "text/plain": [
       "             tweet_id  in_reply_to_status_id  in_reply_to_user_id  \\\n",
       "0  892420643555336193                    NaN                  NaN   \n",
       "1  892177421306343426                    NaN                  NaN   \n",
       "2  891815181378084864                    NaN                  NaN   \n",
       "3  891689557279858688                    NaN                  NaN   \n",
       "4  891327558926688256                    NaN                  NaN   \n",
       "\n",
       "                   timestamp  \\\n",
       "0  2017-08-01 16:23:56 +0000   \n",
       "1  2017-08-01 00:17:27 +0000   \n",
       "2  2017-07-31 00:18:03 +0000   \n",
       "3  2017-07-30 15:58:51 +0000   \n",
       "4  2017-07-29 16:00:24 +0000   \n",
       "\n",
       "                                              source  \\\n",
       "0  <a href=\"http://twitter.com/download/iphone\" r...   \n",
       "1  <a href=\"http://twitter.com/download/iphone\" r...   \n",
       "2  <a href=\"http://twitter.com/download/iphone\" r...   \n",
       "3  <a href=\"http://twitter.com/download/iphone\" r...   \n",
       "4  <a href=\"http://twitter.com/download/iphone\" r...   \n",
       "\n",
       "                                                text  retweeted_status_id  \\\n",
       "0  This is Phineas. He's a mystical boy. Only eve...                  NaN   \n",
       "1  This is Tilly. She's just checking pup on you....                  NaN   \n",
       "2  This is Archie. He is a rare Norwegian Pouncin...                  NaN   \n",
       "3  This is Darla. She commenced a snooze mid meal...                  NaN   \n",
       "4  This is Franklin. He would like you to stop ca...                  NaN   \n",
       "\n",
       "   retweeted_status_user_id retweeted_status_timestamp  \\\n",
       "0                       NaN                        NaN   \n",
       "1                       NaN                        NaN   \n",
       "2                       NaN                        NaN   \n",
       "3                       NaN                        NaN   \n",
       "4                       NaN                        NaN   \n",
       "\n",
       "                                       expanded_urls  rating_numerator  \\\n",
       "0  https://twitter.com/dog_rates/status/892420643...                13   \n",
       "1  https://twitter.com/dog_rates/status/892177421...                13   \n",
       "2  https://twitter.com/dog_rates/status/891815181...                12   \n",
       "3  https://twitter.com/dog_rates/status/891689557...                13   \n",
       "4  https://twitter.com/dog_rates/status/891327558...                12   \n",
       "\n",
       "   rating_denominator      name doggo floofer pupper puppo  \n",
       "0                  10   Phineas  None    None   None  None  \n",
       "1                  10     Tilly  None    None   None  None  \n",
       "2                  10    Archie  None    None   None  None  \n",
       "3                  10     Darla  None    None   None  None  \n",
       "4                  10  Franklin  None    None   None  None  "
      ]
     },
     "execution_count": 10,
     "metadata": {},
     "output_type": "execute_result"
    }
   ],
   "source": [
    "df.head(5)"
   ]
  },
  {
   "cell_type": "code",
   "execution_count": 11,
   "id": "e366c7eb",
   "metadata": {
    "scrolled": false
   },
   "outputs": [
    {
     "data": {
      "text/html": [
       "<div>\n",
       "<style scoped>\n",
       "    .dataframe tbody tr th:only-of-type {\n",
       "        vertical-align: middle;\n",
       "    }\n",
       "\n",
       "    .dataframe tbody tr th {\n",
       "        vertical-align: top;\n",
       "    }\n",
       "\n",
       "    .dataframe thead th {\n",
       "        text-align: right;\n",
       "    }\n",
       "</style>\n",
       "<table border=\"1\" class=\"dataframe\">\n",
       "  <thead>\n",
       "    <tr style=\"text-align: right;\">\n",
       "      <th></th>\n",
       "      <th>tweet_id</th>\n",
       "      <th>created_at</th>\n",
       "      <th>favorite_count</th>\n",
       "      <th>retweet_count</th>\n",
       "      <th>source</th>\n",
       "      <th>url</th>\n",
       "      <th>retweeted_status</th>\n",
       "    </tr>\n",
       "  </thead>\n",
       "  <tbody>\n",
       "    <tr>\n",
       "      <th>0</th>\n",
       "      <td>892420643555336193</td>\n",
       "      <td>Tue Aug 01 16:23:56 +0000 2017</td>\n",
       "      <td>33783</td>\n",
       "      <td>6996</td>\n",
       "      <td>Twitter for iPhone</td>\n",
       "      <td>https://t.co/MgUWQ76dJU</td>\n",
       "      <td>Original tweet</td>\n",
       "    </tr>\n",
       "    <tr>\n",
       "      <th>1</th>\n",
       "      <td>892177421306343426</td>\n",
       "      <td>Tue Aug 01 00:17:27 +0000 2017</td>\n",
       "      <td>29308</td>\n",
       "      <td>5296</td>\n",
       "      <td>Twitter for iPhone</td>\n",
       "      <td>https://t.co/aQFSeaCu9L</td>\n",
       "      <td>Original tweet</td>\n",
       "    </tr>\n",
       "    <tr>\n",
       "      <th>2</th>\n",
       "      <td>891815181378084864</td>\n",
       "      <td>Mon Jul 31 00:18:03 +0000 2017</td>\n",
       "      <td>22036</td>\n",
       "      <td>3475</td>\n",
       "      <td>Twitter for iPhone</td>\n",
       "      <td>https://t.co/r0YlrsGCgy</td>\n",
       "      <td>Original tweet</td>\n",
       "    </tr>\n",
       "    <tr>\n",
       "      <th>3</th>\n",
       "      <td>891689557279858688</td>\n",
       "      <td>Sun Jul 30 15:58:51 +0000 2017</td>\n",
       "      <td>36899</td>\n",
       "      <td>7218</td>\n",
       "      <td>Twitter for iPhone</td>\n",
       "      <td>https://t.co/tD36da7qLQ</td>\n",
       "      <td>Original tweet</td>\n",
       "    </tr>\n",
       "    <tr>\n",
       "      <th>4</th>\n",
       "      <td>891327558926688256</td>\n",
       "      <td>Sat Jul 29 16:00:24 +0000 2017</td>\n",
       "      <td>35286</td>\n",
       "      <td>7750</td>\n",
       "      <td>Twitter for iPhone</td>\n",
       "      <td>https://t.co/0g0KMIVXZ3</td>\n",
       "      <td>Original tweet</td>\n",
       "    </tr>\n",
       "    <tr>\n",
       "      <th>...</th>\n",
       "      <td>...</td>\n",
       "      <td>...</td>\n",
       "      <td>...</td>\n",
       "      <td>...</td>\n",
       "      <td>...</td>\n",
       "      <td>...</td>\n",
       "      <td>...</td>\n",
       "    </tr>\n",
       "    <tr>\n",
       "      <th>2322</th>\n",
       "      <td>666049248165822465</td>\n",
       "      <td>Mon Nov 16 00:24:50 +0000 2015</td>\n",
       "      <td>89</td>\n",
       "      <td>37</td>\n",
       "      <td>Twitter for iPhone</td>\n",
       "      <td>https://t.co/4B7cOc1EDq</td>\n",
       "      <td>Original tweet</td>\n",
       "    </tr>\n",
       "    <tr>\n",
       "      <th>2323</th>\n",
       "      <td>666044226329800704</td>\n",
       "      <td>Mon Nov 16 00:04:52 +0000 2015</td>\n",
       "      <td>247</td>\n",
       "      <td>115</td>\n",
       "      <td>Twitter for iPhone</td>\n",
       "      <td>https://t.co/DWnyCjf2mx</td>\n",
       "      <td>Original tweet</td>\n",
       "    </tr>\n",
       "    <tr>\n",
       "      <th>2324</th>\n",
       "      <td>666033412701032449</td>\n",
       "      <td>Sun Nov 15 23:21:54 +0000 2015</td>\n",
       "      <td>100</td>\n",
       "      <td>36</td>\n",
       "      <td>Twitter for iPhone</td>\n",
       "      <td>https://t.co/y671yMhoiR</td>\n",
       "      <td>Original tweet</td>\n",
       "    </tr>\n",
       "    <tr>\n",
       "      <th>2325</th>\n",
       "      <td>666029285002620928</td>\n",
       "      <td>Sun Nov 15 23:05:30 +0000 2015</td>\n",
       "      <td>112</td>\n",
       "      <td>39</td>\n",
       "      <td>Twitter for iPhone</td>\n",
       "      <td>https://t.co/r7mOb2m0UI</td>\n",
       "      <td>Original tweet</td>\n",
       "    </tr>\n",
       "    <tr>\n",
       "      <th>2326</th>\n",
       "      <td>666020888022790149</td>\n",
       "      <td>Sun Nov 15 22:32:08 +0000 2015</td>\n",
       "      <td>2291</td>\n",
       "      <td>422</td>\n",
       "      <td>Twitter for iPhone</td>\n",
       "      <td>https://t.co/BLDqew2Ijj</td>\n",
       "      <td>Original tweet</td>\n",
       "    </tr>\n",
       "  </tbody>\n",
       "</table>\n",
       "<p>2327 rows × 7 columns</p>\n",
       "</div>"
      ],
      "text/plain": [
       "                tweet_id                      created_at  favorite_count  \\\n",
       "0     892420643555336193  Tue Aug 01 16:23:56 +0000 2017           33783   \n",
       "1     892177421306343426  Tue Aug 01 00:17:27 +0000 2017           29308   \n",
       "2     891815181378084864  Mon Jul 31 00:18:03 +0000 2017           22036   \n",
       "3     891689557279858688  Sun Jul 30 15:58:51 +0000 2017           36899   \n",
       "4     891327558926688256  Sat Jul 29 16:00:24 +0000 2017           35286   \n",
       "...                  ...                             ...             ...   \n",
       "2322  666049248165822465  Mon Nov 16 00:24:50 +0000 2015              89   \n",
       "2323  666044226329800704  Mon Nov 16 00:04:52 +0000 2015             247   \n",
       "2324  666033412701032449  Sun Nov 15 23:21:54 +0000 2015             100   \n",
       "2325  666029285002620928  Sun Nov 15 23:05:30 +0000 2015             112   \n",
       "2326  666020888022790149  Sun Nov 15 22:32:08 +0000 2015            2291   \n",
       "\n",
       "      retweet_count              source                      url  \\\n",
       "0              6996  Twitter for iPhone  https://t.co/MgUWQ76dJU   \n",
       "1              5296  Twitter for iPhone  https://t.co/aQFSeaCu9L   \n",
       "2              3475  Twitter for iPhone  https://t.co/r0YlrsGCgy   \n",
       "3              7218  Twitter for iPhone  https://t.co/tD36da7qLQ   \n",
       "4              7750  Twitter for iPhone  https://t.co/0g0KMIVXZ3   \n",
       "...             ...                 ...                      ...   \n",
       "2322             37  Twitter for iPhone  https://t.co/4B7cOc1EDq   \n",
       "2323            115  Twitter for iPhone  https://t.co/DWnyCjf2mx   \n",
       "2324             36  Twitter for iPhone  https://t.co/y671yMhoiR   \n",
       "2325             39  Twitter for iPhone  https://t.co/r7mOb2m0UI   \n",
       "2326            422  Twitter for iPhone  https://t.co/BLDqew2Ijj   \n",
       "\n",
       "     retweeted_status  \n",
       "0      Original tweet  \n",
       "1      Original tweet  \n",
       "2      Original tweet  \n",
       "3      Original tweet  \n",
       "4      Original tweet  \n",
       "...               ...  \n",
       "2322   Original tweet  \n",
       "2323   Original tweet  \n",
       "2324   Original tweet  \n",
       "2325   Original tweet  \n",
       "2326   Original tweet  \n",
       "\n",
       "[2327 rows x 7 columns]"
      ]
     },
     "execution_count": 11,
     "metadata": {},
     "output_type": "execute_result"
    }
   ],
   "source": [
    "df_json"
   ]
  },
  {
   "cell_type": "code",
   "execution_count": 12,
   "id": "c6b90b82",
   "metadata": {},
   "outputs": [
    {
     "data": {
      "text/html": [
       "<div>\n",
       "<style scoped>\n",
       "    .dataframe tbody tr th:only-of-type {\n",
       "        vertical-align: middle;\n",
       "    }\n",
       "\n",
       "    .dataframe tbody tr th {\n",
       "        vertical-align: top;\n",
       "    }\n",
       "\n",
       "    .dataframe thead th {\n",
       "        text-align: right;\n",
       "    }\n",
       "</style>\n",
       "<table border=\"1\" class=\"dataframe\">\n",
       "  <thead>\n",
       "    <tr style=\"text-align: right;\">\n",
       "      <th></th>\n",
       "      <th>tweet_id</th>\n",
       "      <th>jpg_url</th>\n",
       "      <th>img_num</th>\n",
       "      <th>p1</th>\n",
       "      <th>p1_conf</th>\n",
       "      <th>p1_dog</th>\n",
       "      <th>p2</th>\n",
       "      <th>p2_conf</th>\n",
       "      <th>p2_dog</th>\n",
       "      <th>p3</th>\n",
       "      <th>p3_conf</th>\n",
       "      <th>p3_dog</th>\n",
       "    </tr>\n",
       "  </thead>\n",
       "  <tbody>\n",
       "    <tr>\n",
       "      <th>0</th>\n",
       "      <td>666020888022790149</td>\n",
       "      <td>https://pbs.twimg.com/media/CT4udn0WwAA0aMy.jpg</td>\n",
       "      <td>1</td>\n",
       "      <td>Welsh_springer_spaniel</td>\n",
       "      <td>0.465074</td>\n",
       "      <td>True</td>\n",
       "      <td>collie</td>\n",
       "      <td>0.156665</td>\n",
       "      <td>True</td>\n",
       "      <td>Shetland_sheepdog</td>\n",
       "      <td>0.061428</td>\n",
       "      <td>True</td>\n",
       "    </tr>\n",
       "    <tr>\n",
       "      <th>1</th>\n",
       "      <td>666029285002620928</td>\n",
       "      <td>https://pbs.twimg.com/media/CT42GRgUYAA5iDo.jpg</td>\n",
       "      <td>1</td>\n",
       "      <td>redbone</td>\n",
       "      <td>0.506826</td>\n",
       "      <td>True</td>\n",
       "      <td>miniature_pinscher</td>\n",
       "      <td>0.074192</td>\n",
       "      <td>True</td>\n",
       "      <td>Rhodesian_ridgeback</td>\n",
       "      <td>0.072010</td>\n",
       "      <td>True</td>\n",
       "    </tr>\n",
       "    <tr>\n",
       "      <th>2</th>\n",
       "      <td>666033412701032449</td>\n",
       "      <td>https://pbs.twimg.com/media/CT4521TWwAEvMyu.jpg</td>\n",
       "      <td>1</td>\n",
       "      <td>German_shepherd</td>\n",
       "      <td>0.596461</td>\n",
       "      <td>True</td>\n",
       "      <td>malinois</td>\n",
       "      <td>0.138584</td>\n",
       "      <td>True</td>\n",
       "      <td>bloodhound</td>\n",
       "      <td>0.116197</td>\n",
       "      <td>True</td>\n",
       "    </tr>\n",
       "    <tr>\n",
       "      <th>3</th>\n",
       "      <td>666044226329800704</td>\n",
       "      <td>https://pbs.twimg.com/media/CT5Dr8HUEAA-lEu.jpg</td>\n",
       "      <td>1</td>\n",
       "      <td>Rhodesian_ridgeback</td>\n",
       "      <td>0.408143</td>\n",
       "      <td>True</td>\n",
       "      <td>redbone</td>\n",
       "      <td>0.360687</td>\n",
       "      <td>True</td>\n",
       "      <td>miniature_pinscher</td>\n",
       "      <td>0.222752</td>\n",
       "      <td>True</td>\n",
       "    </tr>\n",
       "    <tr>\n",
       "      <th>4</th>\n",
       "      <td>666049248165822465</td>\n",
       "      <td>https://pbs.twimg.com/media/CT5IQmsXIAAKY4A.jpg</td>\n",
       "      <td>1</td>\n",
       "      <td>miniature_pinscher</td>\n",
       "      <td>0.560311</td>\n",
       "      <td>True</td>\n",
       "      <td>Rottweiler</td>\n",
       "      <td>0.243682</td>\n",
       "      <td>True</td>\n",
       "      <td>Doberman</td>\n",
       "      <td>0.154629</td>\n",
       "      <td>True</td>\n",
       "    </tr>\n",
       "    <tr>\n",
       "      <th>...</th>\n",
       "      <td>...</td>\n",
       "      <td>...</td>\n",
       "      <td>...</td>\n",
       "      <td>...</td>\n",
       "      <td>...</td>\n",
       "      <td>...</td>\n",
       "      <td>...</td>\n",
       "      <td>...</td>\n",
       "      <td>...</td>\n",
       "      <td>...</td>\n",
       "      <td>...</td>\n",
       "      <td>...</td>\n",
       "    </tr>\n",
       "    <tr>\n",
       "      <th>2070</th>\n",
       "      <td>891327558926688256</td>\n",
       "      <td>https://pbs.twimg.com/media/DF6hr6BUMAAzZgT.jpg</td>\n",
       "      <td>2</td>\n",
       "      <td>basset</td>\n",
       "      <td>0.555712</td>\n",
       "      <td>True</td>\n",
       "      <td>English_springer</td>\n",
       "      <td>0.225770</td>\n",
       "      <td>True</td>\n",
       "      <td>German_short-haired_pointer</td>\n",
       "      <td>0.175219</td>\n",
       "      <td>True</td>\n",
       "    </tr>\n",
       "    <tr>\n",
       "      <th>2071</th>\n",
       "      <td>891689557279858688</td>\n",
       "      <td>https://pbs.twimg.com/media/DF_q7IAWsAEuuN8.jpg</td>\n",
       "      <td>1</td>\n",
       "      <td>paper_towel</td>\n",
       "      <td>0.170278</td>\n",
       "      <td>False</td>\n",
       "      <td>Labrador_retriever</td>\n",
       "      <td>0.168086</td>\n",
       "      <td>True</td>\n",
       "      <td>spatula</td>\n",
       "      <td>0.040836</td>\n",
       "      <td>False</td>\n",
       "    </tr>\n",
       "    <tr>\n",
       "      <th>2072</th>\n",
       "      <td>891815181378084864</td>\n",
       "      <td>https://pbs.twimg.com/media/DGBdLU1WsAANxJ9.jpg</td>\n",
       "      <td>1</td>\n",
       "      <td>Chihuahua</td>\n",
       "      <td>0.716012</td>\n",
       "      <td>True</td>\n",
       "      <td>malamute</td>\n",
       "      <td>0.078253</td>\n",
       "      <td>True</td>\n",
       "      <td>kelpie</td>\n",
       "      <td>0.031379</td>\n",
       "      <td>True</td>\n",
       "    </tr>\n",
       "    <tr>\n",
       "      <th>2073</th>\n",
       "      <td>892177421306343426</td>\n",
       "      <td>https://pbs.twimg.com/media/DGGmoV4XsAAUL6n.jpg</td>\n",
       "      <td>1</td>\n",
       "      <td>Chihuahua</td>\n",
       "      <td>0.323581</td>\n",
       "      <td>True</td>\n",
       "      <td>Pekinese</td>\n",
       "      <td>0.090647</td>\n",
       "      <td>True</td>\n",
       "      <td>papillon</td>\n",
       "      <td>0.068957</td>\n",
       "      <td>True</td>\n",
       "    </tr>\n",
       "    <tr>\n",
       "      <th>2074</th>\n",
       "      <td>892420643555336193</td>\n",
       "      <td>https://pbs.twimg.com/media/DGKD1-bXoAAIAUK.jpg</td>\n",
       "      <td>1</td>\n",
       "      <td>orange</td>\n",
       "      <td>0.097049</td>\n",
       "      <td>False</td>\n",
       "      <td>bagel</td>\n",
       "      <td>0.085851</td>\n",
       "      <td>False</td>\n",
       "      <td>banana</td>\n",
       "      <td>0.076110</td>\n",
       "      <td>False</td>\n",
       "    </tr>\n",
       "  </tbody>\n",
       "</table>\n",
       "<p>2075 rows × 12 columns</p>\n",
       "</div>"
      ],
      "text/plain": [
       "                tweet_id                                          jpg_url  \\\n",
       "0     666020888022790149  https://pbs.twimg.com/media/CT4udn0WwAA0aMy.jpg   \n",
       "1     666029285002620928  https://pbs.twimg.com/media/CT42GRgUYAA5iDo.jpg   \n",
       "2     666033412701032449  https://pbs.twimg.com/media/CT4521TWwAEvMyu.jpg   \n",
       "3     666044226329800704  https://pbs.twimg.com/media/CT5Dr8HUEAA-lEu.jpg   \n",
       "4     666049248165822465  https://pbs.twimg.com/media/CT5IQmsXIAAKY4A.jpg   \n",
       "...                  ...                                              ...   \n",
       "2070  891327558926688256  https://pbs.twimg.com/media/DF6hr6BUMAAzZgT.jpg   \n",
       "2071  891689557279858688  https://pbs.twimg.com/media/DF_q7IAWsAEuuN8.jpg   \n",
       "2072  891815181378084864  https://pbs.twimg.com/media/DGBdLU1WsAANxJ9.jpg   \n",
       "2073  892177421306343426  https://pbs.twimg.com/media/DGGmoV4XsAAUL6n.jpg   \n",
       "2074  892420643555336193  https://pbs.twimg.com/media/DGKD1-bXoAAIAUK.jpg   \n",
       "\n",
       "      img_num                      p1   p1_conf  p1_dog                  p2  \\\n",
       "0           1  Welsh_springer_spaniel  0.465074    True              collie   \n",
       "1           1                 redbone  0.506826    True  miniature_pinscher   \n",
       "2           1         German_shepherd  0.596461    True            malinois   \n",
       "3           1     Rhodesian_ridgeback  0.408143    True             redbone   \n",
       "4           1      miniature_pinscher  0.560311    True          Rottweiler   \n",
       "...       ...                     ...       ...     ...                 ...   \n",
       "2070        2                  basset  0.555712    True    English_springer   \n",
       "2071        1             paper_towel  0.170278   False  Labrador_retriever   \n",
       "2072        1               Chihuahua  0.716012    True            malamute   \n",
       "2073        1               Chihuahua  0.323581    True            Pekinese   \n",
       "2074        1                  orange  0.097049   False               bagel   \n",
       "\n",
       "       p2_conf  p2_dog                           p3   p3_conf  p3_dog  \n",
       "0     0.156665    True            Shetland_sheepdog  0.061428    True  \n",
       "1     0.074192    True          Rhodesian_ridgeback  0.072010    True  \n",
       "2     0.138584    True                   bloodhound  0.116197    True  \n",
       "3     0.360687    True           miniature_pinscher  0.222752    True  \n",
       "4     0.243682    True                     Doberman  0.154629    True  \n",
       "...        ...     ...                          ...       ...     ...  \n",
       "2070  0.225770    True  German_short-haired_pointer  0.175219    True  \n",
       "2071  0.168086    True                      spatula  0.040836   False  \n",
       "2072  0.078253    True                       kelpie  0.031379    True  \n",
       "2073  0.090647    True                     papillon  0.068957    True  \n",
       "2074  0.085851   False                       banana  0.076110   False  \n",
       "\n",
       "[2075 rows x 12 columns]"
      ]
     },
     "execution_count": 12,
     "metadata": {},
     "output_type": "execute_result"
    }
   ],
   "source": [
    "df_image"
   ]
  },
  {
   "cell_type": "markdown",
   "id": "c3f2fd18",
   "metadata": {},
   "source": [
    "## PROGRAMMATIC ASSESSMENT"
   ]
  },
  {
   "cell_type": "markdown",
   "id": "1a48e512",
   "metadata": {},
   "source": [
    "### Firstly, lets examine the twitter archive enhanced csv file saved in df"
   ]
  },
  {
   "cell_type": "code",
   "execution_count": 13,
   "id": "49e988df",
   "metadata": {
    "scrolled": true
   },
   "outputs": [
    {
     "data": {
      "text/html": [
       "<div>\n",
       "<style scoped>\n",
       "    .dataframe tbody tr th:only-of-type {\n",
       "        vertical-align: middle;\n",
       "    }\n",
       "\n",
       "    .dataframe tbody tr th {\n",
       "        vertical-align: top;\n",
       "    }\n",
       "\n",
       "    .dataframe thead th {\n",
       "        text-align: right;\n",
       "    }\n",
       "</style>\n",
       "<table border=\"1\" class=\"dataframe\">\n",
       "  <thead>\n",
       "    <tr style=\"text-align: right;\">\n",
       "      <th></th>\n",
       "      <th>tweet_id</th>\n",
       "      <th>in_reply_to_status_id</th>\n",
       "      <th>in_reply_to_user_id</th>\n",
       "      <th>timestamp</th>\n",
       "      <th>source</th>\n",
       "      <th>text</th>\n",
       "      <th>retweeted_status_id</th>\n",
       "      <th>retweeted_status_user_id</th>\n",
       "      <th>retweeted_status_timestamp</th>\n",
       "      <th>expanded_urls</th>\n",
       "      <th>rating_numerator</th>\n",
       "      <th>rating_denominator</th>\n",
       "      <th>name</th>\n",
       "      <th>doggo</th>\n",
       "      <th>floofer</th>\n",
       "      <th>pupper</th>\n",
       "      <th>puppo</th>\n",
       "    </tr>\n",
       "  </thead>\n",
       "  <tbody>\n",
       "    <tr>\n",
       "      <th>2161</th>\n",
       "      <td>669564461267722241</td>\n",
       "      <td>NaN</td>\n",
       "      <td>NaN</td>\n",
       "      <td>2015-11-25 17:13:02 +0000</td>\n",
       "      <td>&lt;a href=\"http://twitter.com/download/iphone\" r...</td>\n",
       "      <td>This is a Coriander Baton Rouge named Alfredo....</td>\n",
       "      <td>NaN</td>\n",
       "      <td>NaN</td>\n",
       "      <td>NaN</td>\n",
       "      <td>https://twitter.com/dog_rates/status/669564461...</td>\n",
       "      <td>10</td>\n",
       "      <td>10</td>\n",
       "      <td>a</td>\n",
       "      <td>None</td>\n",
       "      <td>None</td>\n",
       "      <td>None</td>\n",
       "      <td>None</td>\n",
       "    </tr>\n",
       "    <tr>\n",
       "      <th>1144</th>\n",
       "      <td>727286334147182592</td>\n",
       "      <td>NaN</td>\n",
       "      <td>NaN</td>\n",
       "      <td>2016-05-02 23:59:09 +0000</td>\n",
       "      <td>&lt;a href=\"http://twitter.com/download/iphone\" r...</td>\n",
       "      <td>I swear to god if we get sent another Blue Mad...</td>\n",
       "      <td>NaN</td>\n",
       "      <td>NaN</td>\n",
       "      <td>NaN</td>\n",
       "      <td>https://twitter.com/dog_rates/status/727286334...</td>\n",
       "      <td>9</td>\n",
       "      <td>10</td>\n",
       "      <td>None</td>\n",
       "      <td>None</td>\n",
       "      <td>None</td>\n",
       "      <td>None</td>\n",
       "      <td>None</td>\n",
       "    </tr>\n",
       "    <tr>\n",
       "      <th>2076</th>\n",
       "      <td>670838202509447168</td>\n",
       "      <td>NaN</td>\n",
       "      <td>NaN</td>\n",
       "      <td>2015-11-29 05:34:25 +0000</td>\n",
       "      <td>&lt;a href=\"http://twitter.com/download/iphone\" r...</td>\n",
       "      <td>Pink dogs here. Unreasonably long necks. Left ...</td>\n",
       "      <td>NaN</td>\n",
       "      <td>NaN</td>\n",
       "      <td>NaN</td>\n",
       "      <td>https://twitter.com/dog_rates/status/670838202...</td>\n",
       "      <td>4</td>\n",
       "      <td>10</td>\n",
       "      <td>None</td>\n",
       "      <td>None</td>\n",
       "      <td>None</td>\n",
       "      <td>None</td>\n",
       "      <td>None</td>\n",
       "    </tr>\n",
       "    <tr>\n",
       "      <th>2055</th>\n",
       "      <td>671362598324076544</td>\n",
       "      <td>NaN</td>\n",
       "      <td>NaN</td>\n",
       "      <td>2015-11-30 16:18:11 +0000</td>\n",
       "      <td>&lt;a href=\"http://twitter.com/download/iphone\" r...</td>\n",
       "      <td>This is Tanner. He accidentally dropped all hi...</td>\n",
       "      <td>NaN</td>\n",
       "      <td>NaN</td>\n",
       "      <td>NaN</td>\n",
       "      <td>https://twitter.com/dog_rates/status/671362598...</td>\n",
       "      <td>11</td>\n",
       "      <td>10</td>\n",
       "      <td>Tanner</td>\n",
       "      <td>None</td>\n",
       "      <td>None</td>\n",
       "      <td>None</td>\n",
       "      <td>None</td>\n",
       "    </tr>\n",
       "    <tr>\n",
       "      <th>1233</th>\n",
       "      <td>712809025985978368</td>\n",
       "      <td>NaN</td>\n",
       "      <td>NaN</td>\n",
       "      <td>2016-03-24 01:11:29 +0000</td>\n",
       "      <td>&lt;a href=\"http://twitter.com/download/iphone\" r...</td>\n",
       "      <td>This is Stubert. He just arrived. 10/10 https:...</td>\n",
       "      <td>NaN</td>\n",
       "      <td>NaN</td>\n",
       "      <td>NaN</td>\n",
       "      <td>https://twitter.com/dog_rates/status/712809025...</td>\n",
       "      <td>10</td>\n",
       "      <td>10</td>\n",
       "      <td>Stubert</td>\n",
       "      <td>None</td>\n",
       "      <td>None</td>\n",
       "      <td>None</td>\n",
       "      <td>None</td>\n",
       "    </tr>\n",
       "    <tr>\n",
       "      <th>2005</th>\n",
       "      <td>672272411274932228</td>\n",
       "      <td>NaN</td>\n",
       "      <td>NaN</td>\n",
       "      <td>2015-12-03 04:33:27 +0000</td>\n",
       "      <td>&lt;a href=\"http://twitter.com/download/iphone\" r...</td>\n",
       "      <td>This is Pippin. He is terrified of his new lit...</td>\n",
       "      <td>NaN</td>\n",
       "      <td>NaN</td>\n",
       "      <td>NaN</td>\n",
       "      <td>https://twitter.com/dog_rates/status/672272411...</td>\n",
       "      <td>11</td>\n",
       "      <td>10</td>\n",
       "      <td>Pippin</td>\n",
       "      <td>None</td>\n",
       "      <td>None</td>\n",
       "      <td>None</td>\n",
       "      <td>None</td>\n",
       "    </tr>\n",
       "    <tr>\n",
       "      <th>328</th>\n",
       "      <td>833722901757046785</td>\n",
       "      <td>NaN</td>\n",
       "      <td>NaN</td>\n",
       "      <td>2017-02-20 17:00:04 +0000</td>\n",
       "      <td>&lt;a href=\"http://twitter.com/download/iphone\" r...</td>\n",
       "      <td>This is Bronte. She's fairly h*ckin aerodynami...</td>\n",
       "      <td>NaN</td>\n",
       "      <td>NaN</td>\n",
       "      <td>NaN</td>\n",
       "      <td>https://twitter.com/dog_rates/status/833722901...</td>\n",
       "      <td>13</td>\n",
       "      <td>10</td>\n",
       "      <td>Bronte</td>\n",
       "      <td>None</td>\n",
       "      <td>None</td>\n",
       "      <td>None</td>\n",
       "      <td>None</td>\n",
       "    </tr>\n",
       "    <tr>\n",
       "      <th>2295</th>\n",
       "      <td>667119796878725120</td>\n",
       "      <td>NaN</td>\n",
       "      <td>NaN</td>\n",
       "      <td>2015-11-18 23:18:48 +0000</td>\n",
       "      <td>&lt;a href=\"http://twitter.com/download/iphone\" r...</td>\n",
       "      <td>This is Gabe. He is a southern Baklava. Gabe h...</td>\n",
       "      <td>NaN</td>\n",
       "      <td>NaN</td>\n",
       "      <td>NaN</td>\n",
       "      <td>https://twitter.com/dog_rates/status/667119796...</td>\n",
       "      <td>10</td>\n",
       "      <td>10</td>\n",
       "      <td>Gabe</td>\n",
       "      <td>None</td>\n",
       "      <td>None</td>\n",
       "      <td>None</td>\n",
       "      <td>None</td>\n",
       "    </tr>\n",
       "    <tr>\n",
       "      <th>1128</th>\n",
       "      <td>729823566028484608</td>\n",
       "      <td>NaN</td>\n",
       "      <td>NaN</td>\n",
       "      <td>2016-05-10 00:01:12 +0000</td>\n",
       "      <td>&lt;a href=\"http://twitter.com/download/iphone\" r...</td>\n",
       "      <td>This is Stefan. He's a downright remarkable pu...</td>\n",
       "      <td>NaN</td>\n",
       "      <td>NaN</td>\n",
       "      <td>NaN</td>\n",
       "      <td>https://twitter.com/dog_rates/status/729823566...</td>\n",
       "      <td>13</td>\n",
       "      <td>10</td>\n",
       "      <td>Stefan</td>\n",
       "      <td>None</td>\n",
       "      <td>None</td>\n",
       "      <td>None</td>\n",
       "      <td>None</td>\n",
       "    </tr>\n",
       "    <tr>\n",
       "      <th>1685</th>\n",
       "      <td>681654059175129088</td>\n",
       "      <td>NaN</td>\n",
       "      <td>NaN</td>\n",
       "      <td>2015-12-29 01:52:46 +0000</td>\n",
       "      <td>&lt;a href=\"http://twitter.com/download/iphone\" r...</td>\n",
       "      <td>This is Toffee. He's a happy pupper. Appears d...</td>\n",
       "      <td>NaN</td>\n",
       "      <td>NaN</td>\n",
       "      <td>NaN</td>\n",
       "      <td>https://twitter.com/dog_rates/status/681654059...</td>\n",
       "      <td>12</td>\n",
       "      <td>10</td>\n",
       "      <td>Toffee</td>\n",
       "      <td>None</td>\n",
       "      <td>None</td>\n",
       "      <td>pupper</td>\n",
       "      <td>None</td>\n",
       "    </tr>\n",
       "  </tbody>\n",
       "</table>\n",
       "</div>"
      ],
      "text/plain": [
       "                tweet_id  in_reply_to_status_id  in_reply_to_user_id  \\\n",
       "2161  669564461267722241                    NaN                  NaN   \n",
       "1144  727286334147182592                    NaN                  NaN   \n",
       "2076  670838202509447168                    NaN                  NaN   \n",
       "2055  671362598324076544                    NaN                  NaN   \n",
       "1233  712809025985978368                    NaN                  NaN   \n",
       "2005  672272411274932228                    NaN                  NaN   \n",
       "328   833722901757046785                    NaN                  NaN   \n",
       "2295  667119796878725120                    NaN                  NaN   \n",
       "1128  729823566028484608                    NaN                  NaN   \n",
       "1685  681654059175129088                    NaN                  NaN   \n",
       "\n",
       "                      timestamp  \\\n",
       "2161  2015-11-25 17:13:02 +0000   \n",
       "1144  2016-05-02 23:59:09 +0000   \n",
       "2076  2015-11-29 05:34:25 +0000   \n",
       "2055  2015-11-30 16:18:11 +0000   \n",
       "1233  2016-03-24 01:11:29 +0000   \n",
       "2005  2015-12-03 04:33:27 +0000   \n",
       "328   2017-02-20 17:00:04 +0000   \n",
       "2295  2015-11-18 23:18:48 +0000   \n",
       "1128  2016-05-10 00:01:12 +0000   \n",
       "1685  2015-12-29 01:52:46 +0000   \n",
       "\n",
       "                                                 source  \\\n",
       "2161  <a href=\"http://twitter.com/download/iphone\" r...   \n",
       "1144  <a href=\"http://twitter.com/download/iphone\" r...   \n",
       "2076  <a href=\"http://twitter.com/download/iphone\" r...   \n",
       "2055  <a href=\"http://twitter.com/download/iphone\" r...   \n",
       "1233  <a href=\"http://twitter.com/download/iphone\" r...   \n",
       "2005  <a href=\"http://twitter.com/download/iphone\" r...   \n",
       "328   <a href=\"http://twitter.com/download/iphone\" r...   \n",
       "2295  <a href=\"http://twitter.com/download/iphone\" r...   \n",
       "1128  <a href=\"http://twitter.com/download/iphone\" r...   \n",
       "1685  <a href=\"http://twitter.com/download/iphone\" r...   \n",
       "\n",
       "                                                   text  retweeted_status_id  \\\n",
       "2161  This is a Coriander Baton Rouge named Alfredo....                  NaN   \n",
       "1144  I swear to god if we get sent another Blue Mad...                  NaN   \n",
       "2076  Pink dogs here. Unreasonably long necks. Left ...                  NaN   \n",
       "2055  This is Tanner. He accidentally dropped all hi...                  NaN   \n",
       "1233  This is Stubert. He just arrived. 10/10 https:...                  NaN   \n",
       "2005  This is Pippin. He is terrified of his new lit...                  NaN   \n",
       "328   This is Bronte. She's fairly h*ckin aerodynami...                  NaN   \n",
       "2295  This is Gabe. He is a southern Baklava. Gabe h...                  NaN   \n",
       "1128  This is Stefan. He's a downright remarkable pu...                  NaN   \n",
       "1685  This is Toffee. He's a happy pupper. Appears d...                  NaN   \n",
       "\n",
       "      retweeted_status_user_id retweeted_status_timestamp  \\\n",
       "2161                       NaN                        NaN   \n",
       "1144                       NaN                        NaN   \n",
       "2076                       NaN                        NaN   \n",
       "2055                       NaN                        NaN   \n",
       "1233                       NaN                        NaN   \n",
       "2005                       NaN                        NaN   \n",
       "328                        NaN                        NaN   \n",
       "2295                       NaN                        NaN   \n",
       "1128                       NaN                        NaN   \n",
       "1685                       NaN                        NaN   \n",
       "\n",
       "                                          expanded_urls  rating_numerator  \\\n",
       "2161  https://twitter.com/dog_rates/status/669564461...                10   \n",
       "1144  https://twitter.com/dog_rates/status/727286334...                 9   \n",
       "2076  https://twitter.com/dog_rates/status/670838202...                 4   \n",
       "2055  https://twitter.com/dog_rates/status/671362598...                11   \n",
       "1233  https://twitter.com/dog_rates/status/712809025...                10   \n",
       "2005  https://twitter.com/dog_rates/status/672272411...                11   \n",
       "328   https://twitter.com/dog_rates/status/833722901...                13   \n",
       "2295  https://twitter.com/dog_rates/status/667119796...                10   \n",
       "1128  https://twitter.com/dog_rates/status/729823566...                13   \n",
       "1685  https://twitter.com/dog_rates/status/681654059...                12   \n",
       "\n",
       "      rating_denominator     name doggo floofer  pupper puppo  \n",
       "2161                  10        a  None    None    None  None  \n",
       "1144                  10     None  None    None    None  None  \n",
       "2076                  10     None  None    None    None  None  \n",
       "2055                  10   Tanner  None    None    None  None  \n",
       "1233                  10  Stubert  None    None    None  None  \n",
       "2005                  10   Pippin  None    None    None  None  \n",
       "328                   10   Bronte  None    None    None  None  \n",
       "2295                  10     Gabe  None    None    None  None  \n",
       "1128                  10   Stefan  None    None    None  None  \n",
       "1685                  10   Toffee  None    None  pupper  None  "
      ]
     },
     "execution_count": 13,
     "metadata": {},
     "output_type": "execute_result"
    }
   ],
   "source": [
    "df.sample(10)"
   ]
  },
  {
   "cell_type": "code",
   "execution_count": 14,
   "id": "7389eb80",
   "metadata": {
    "scrolled": true
   },
   "outputs": [
    {
     "name": "stdout",
     "output_type": "stream",
     "text": [
      "<class 'pandas.core.frame.DataFrame'>\n",
      "RangeIndex: 2356 entries, 0 to 2355\n",
      "Data columns (total 17 columns):\n",
      " #   Column                      Non-Null Count  Dtype  \n",
      "---  ------                      --------------  -----  \n",
      " 0   tweet_id                    2356 non-null   int64  \n",
      " 1   in_reply_to_status_id       78 non-null     float64\n",
      " 2   in_reply_to_user_id         78 non-null     float64\n",
      " 3   timestamp                   2356 non-null   object \n",
      " 4   source                      2356 non-null   object \n",
      " 5   text                        2356 non-null   object \n",
      " 6   retweeted_status_id         181 non-null    float64\n",
      " 7   retweeted_status_user_id    181 non-null    float64\n",
      " 8   retweeted_status_timestamp  181 non-null    object \n",
      " 9   expanded_urls               2297 non-null   object \n",
      " 10  rating_numerator            2356 non-null   int64  \n",
      " 11  rating_denominator          2356 non-null   int64  \n",
      " 12  name                        2356 non-null   object \n",
      " 13  doggo                       2356 non-null   object \n",
      " 14  floofer                     2356 non-null   object \n",
      " 15  pupper                      2356 non-null   object \n",
      " 16  puppo                       2356 non-null   object \n",
      "dtypes: float64(4), int64(3), object(10)\n",
      "memory usage: 313.0+ KB\n"
     ]
    }
   ],
   "source": [
    "df.info()"
   ]
  },
  {
   "cell_type": "code",
   "execution_count": 15,
   "id": "134421f8",
   "metadata": {},
   "outputs": [
    {
     "data": {
      "text/plain": [
       "0"
      ]
     },
     "execution_count": 15,
     "metadata": {},
     "output_type": "execute_result"
    }
   ],
   "source": [
    "df.duplicated().sum()"
   ]
  },
  {
   "cell_type": "code",
   "execution_count": 16,
   "id": "b6730270",
   "metadata": {
    "scrolled": true
   },
   "outputs": [
    {
     "data": {
      "text/plain": [
       "tweet_id                         0\n",
       "in_reply_to_status_id         2278\n",
       "in_reply_to_user_id           2278\n",
       "timestamp                        0\n",
       "source                           0\n",
       "text                             0\n",
       "retweeted_status_id           2175\n",
       "retweeted_status_user_id      2175\n",
       "retweeted_status_timestamp    2175\n",
       "expanded_urls                   59\n",
       "rating_numerator                 0\n",
       "rating_denominator               0\n",
       "name                             0\n",
       "doggo                            0\n",
       "floofer                          0\n",
       "pupper                           0\n",
       "puppo                            0\n",
       "dtype: int64"
      ]
     },
     "execution_count": 16,
     "metadata": {},
     "output_type": "execute_result"
    }
   ],
   "source": [
    "df.isnull().sum()"
   ]
  },
  {
   "cell_type": "code",
   "execution_count": 17,
   "id": "ef67161c",
   "metadata": {
    "scrolled": true
   },
   "outputs": [
    {
     "data": {
      "text/plain": [
       "12      558\n",
       "11      464\n",
       "10      461\n",
       "13      351\n",
       "9       158\n",
       "8       102\n",
       "7        55\n",
       "14       54\n",
       "5        37\n",
       "6        32\n",
       "3        19\n",
       "4        17\n",
       "2         9\n",
       "1         9\n",
       "75        2\n",
       "15        2\n",
       "420       2\n",
       "0         2\n",
       "80        1\n",
       "144       1\n",
       "17        1\n",
       "26        1\n",
       "20        1\n",
       "121       1\n",
       "143       1\n",
       "44        1\n",
       "60        1\n",
       "45        1\n",
       "50        1\n",
       "99        1\n",
       "204       1\n",
       "1776      1\n",
       "165       1\n",
       "666       1\n",
       "27        1\n",
       "182       1\n",
       "24        1\n",
       "960       1\n",
       "84        1\n",
       "88        1\n",
       "Name: rating_numerator, dtype: int64"
      ]
     },
     "execution_count": 17,
     "metadata": {},
     "output_type": "execute_result"
    }
   ],
   "source": [
    "df.rating_numerator.value_counts()"
   ]
  },
  {
   "cell_type": "markdown",
   "id": "845b7f14",
   "metadata": {},
   "source": [
    "The standard denominator rating for thid dataset is 10. Any other figure seems to be an error and must be corrected"
   ]
  },
  {
   "cell_type": "markdown",
   "id": "edf12773",
   "metadata": {},
   "source": [
    "### Image prediction data is next to be assessed programmatically"
   ]
  },
  {
   "cell_type": "code",
   "execution_count": 18,
   "id": "ae283ffd",
   "metadata": {
    "scrolled": true
   },
   "outputs": [
    {
     "data": {
      "text/html": [
       "<div>\n",
       "<style scoped>\n",
       "    .dataframe tbody tr th:only-of-type {\n",
       "        vertical-align: middle;\n",
       "    }\n",
       "\n",
       "    .dataframe tbody tr th {\n",
       "        vertical-align: top;\n",
       "    }\n",
       "\n",
       "    .dataframe thead th {\n",
       "        text-align: right;\n",
       "    }\n",
       "</style>\n",
       "<table border=\"1\" class=\"dataframe\">\n",
       "  <thead>\n",
       "    <tr style=\"text-align: right;\">\n",
       "      <th></th>\n",
       "      <th>tweet_id</th>\n",
       "      <th>jpg_url</th>\n",
       "      <th>img_num</th>\n",
       "      <th>p1</th>\n",
       "      <th>p1_conf</th>\n",
       "      <th>p1_dog</th>\n",
       "      <th>p2</th>\n",
       "      <th>p2_conf</th>\n",
       "      <th>p2_dog</th>\n",
       "      <th>p3</th>\n",
       "      <th>p3_conf</th>\n",
       "      <th>p3_dog</th>\n",
       "    </tr>\n",
       "  </thead>\n",
       "  <tbody>\n",
       "    <tr>\n",
       "      <th>857</th>\n",
       "      <td>696877980375769088</td>\n",
       "      <td>https://pbs.twimg.com/media/CavO0uuWEAE96Ed.jpg</td>\n",
       "      <td>1</td>\n",
       "      <td>space_heater</td>\n",
       "      <td>0.206876</td>\n",
       "      <td>False</td>\n",
       "      <td>spatula</td>\n",
       "      <td>0.123450</td>\n",
       "      <td>False</td>\n",
       "      <td>vacuum</td>\n",
       "      <td>0.119218</td>\n",
       "      <td>False</td>\n",
       "    </tr>\n",
       "    <tr>\n",
       "      <th>1602</th>\n",
       "      <td>800018252395122689</td>\n",
       "      <td>https://pbs.twimg.com/ext_tw_video_thumb/80001...</td>\n",
       "      <td>1</td>\n",
       "      <td>vacuum</td>\n",
       "      <td>0.289485</td>\n",
       "      <td>False</td>\n",
       "      <td>punching_bag</td>\n",
       "      <td>0.243297</td>\n",
       "      <td>False</td>\n",
       "      <td>barbell</td>\n",
       "      <td>0.143630</td>\n",
       "      <td>False</td>\n",
       "    </tr>\n",
       "    <tr>\n",
       "      <th>1986</th>\n",
       "      <td>872486979161796608</td>\n",
       "      <td>https://pbs.twimg.com/media/DBuyRlTUwAAYhG9.jpg</td>\n",
       "      <td>1</td>\n",
       "      <td>Pembroke</td>\n",
       "      <td>0.931861</td>\n",
       "      <td>True</td>\n",
       "      <td>Cardigan</td>\n",
       "      <td>0.037721</td>\n",
       "      <td>True</td>\n",
       "      <td>Chihuahua</td>\n",
       "      <td>0.011967</td>\n",
       "      <td>True</td>\n",
       "    </tr>\n",
       "    <tr>\n",
       "      <th>1500</th>\n",
       "      <td>783839966405230592</td>\n",
       "      <td>https://pbs.twimg.com/media/CuDCSM-XEAAJw1W.jpg</td>\n",
       "      <td>1</td>\n",
       "      <td>quilt</td>\n",
       "      <td>0.333739</td>\n",
       "      <td>False</td>\n",
       "      <td>Siamese_cat</td>\n",
       "      <td>0.136245</td>\n",
       "      <td>False</td>\n",
       "      <td>three-toed_sloth</td>\n",
       "      <td>0.117464</td>\n",
       "      <td>False</td>\n",
       "    </tr>\n",
       "    <tr>\n",
       "      <th>110</th>\n",
       "      <td>667886921285246976</td>\n",
       "      <td>https://pbs.twimg.com/media/CUTPnPCW4AI7R0y.jpg</td>\n",
       "      <td>1</td>\n",
       "      <td>Pomeranian</td>\n",
       "      <td>0.800432</td>\n",
       "      <td>True</td>\n",
       "      <td>Pekinese</td>\n",
       "      <td>0.168445</td>\n",
       "      <td>True</td>\n",
       "      <td>Chihuahua</td>\n",
       "      <td>0.008950</td>\n",
       "      <td>True</td>\n",
       "    </tr>\n",
       "    <tr>\n",
       "      <th>1365</th>\n",
       "      <td>761599872357261312</td>\n",
       "      <td>https://pbs.twimg.com/media/CpG_CrlWYAYyuP3.jpg</td>\n",
       "      <td>1</td>\n",
       "      <td>Gordon_setter</td>\n",
       "      <td>0.240427</td>\n",
       "      <td>True</td>\n",
       "      <td>Saluki</td>\n",
       "      <td>0.224269</td>\n",
       "      <td>True</td>\n",
       "      <td>Doberman</td>\n",
       "      <td>0.129730</td>\n",
       "      <td>True</td>\n",
       "    </tr>\n",
       "    <tr>\n",
       "      <th>1374</th>\n",
       "      <td>762699858130116608</td>\n",
       "      <td>https://pbs.twimg.com/media/CpWnecZWIAAUFwt.jpg</td>\n",
       "      <td>1</td>\n",
       "      <td>kelpie</td>\n",
       "      <td>0.519047</td>\n",
       "      <td>True</td>\n",
       "      <td>German_shepherd</td>\n",
       "      <td>0.296069</td>\n",
       "      <td>True</td>\n",
       "      <td>dingo</td>\n",
       "      <td>0.061005</td>\n",
       "      <td>False</td>\n",
       "    </tr>\n",
       "    <tr>\n",
       "      <th>640</th>\n",
       "      <td>681302363064414209</td>\n",
       "      <td>https://pbs.twimg.com/media/CXR44l9WcAAcG_N.jpg</td>\n",
       "      <td>1</td>\n",
       "      <td>frilled_lizard</td>\n",
       "      <td>0.326259</td>\n",
       "      <td>False</td>\n",
       "      <td>tailed_frog</td>\n",
       "      <td>0.104539</td>\n",
       "      <td>False</td>\n",
       "      <td>axolotl</td>\n",
       "      <td>0.072479</td>\n",
       "      <td>False</td>\n",
       "    </tr>\n",
       "    <tr>\n",
       "      <th>953</th>\n",
       "      <td>705102439679201280</td>\n",
       "      <td>https://pbs.twimg.com/media/CckG63qUsAALbIr.jpg</td>\n",
       "      <td>1</td>\n",
       "      <td>collie</td>\n",
       "      <td>0.457672</td>\n",
       "      <td>True</td>\n",
       "      <td>chow</td>\n",
       "      <td>0.279101</td>\n",
       "      <td>True</td>\n",
       "      <td>Pomeranian</td>\n",
       "      <td>0.076922</td>\n",
       "      <td>True</td>\n",
       "    </tr>\n",
       "    <tr>\n",
       "      <th>381</th>\n",
       "      <td>673317986296586240</td>\n",
       "      <td>https://pbs.twimg.com/media/CVgbIobUYAEaeI3.jpg</td>\n",
       "      <td>2</td>\n",
       "      <td>miniature_pinscher</td>\n",
       "      <td>0.384099</td>\n",
       "      <td>True</td>\n",
       "      <td>bloodhound</td>\n",
       "      <td>0.079923</td>\n",
       "      <td>True</td>\n",
       "      <td>Rottweiler</td>\n",
       "      <td>0.068594</td>\n",
       "      <td>True</td>\n",
       "    </tr>\n",
       "  </tbody>\n",
       "</table>\n",
       "</div>"
      ],
      "text/plain": [
       "                tweet_id                                            jpg_url  \\\n",
       "857   696877980375769088    https://pbs.twimg.com/media/CavO0uuWEAE96Ed.jpg   \n",
       "1602  800018252395122689  https://pbs.twimg.com/ext_tw_video_thumb/80001...   \n",
       "1986  872486979161796608    https://pbs.twimg.com/media/DBuyRlTUwAAYhG9.jpg   \n",
       "1500  783839966405230592    https://pbs.twimg.com/media/CuDCSM-XEAAJw1W.jpg   \n",
       "110   667886921285246976    https://pbs.twimg.com/media/CUTPnPCW4AI7R0y.jpg   \n",
       "1365  761599872357261312    https://pbs.twimg.com/media/CpG_CrlWYAYyuP3.jpg   \n",
       "1374  762699858130116608    https://pbs.twimg.com/media/CpWnecZWIAAUFwt.jpg   \n",
       "640   681302363064414209    https://pbs.twimg.com/media/CXR44l9WcAAcG_N.jpg   \n",
       "953   705102439679201280    https://pbs.twimg.com/media/CckG63qUsAALbIr.jpg   \n",
       "381   673317986296586240    https://pbs.twimg.com/media/CVgbIobUYAEaeI3.jpg   \n",
       "\n",
       "      img_num                  p1   p1_conf  p1_dog               p2  \\\n",
       "857         1        space_heater  0.206876   False          spatula   \n",
       "1602        1              vacuum  0.289485   False     punching_bag   \n",
       "1986        1            Pembroke  0.931861    True         Cardigan   \n",
       "1500        1               quilt  0.333739   False      Siamese_cat   \n",
       "110         1          Pomeranian  0.800432    True         Pekinese   \n",
       "1365        1       Gordon_setter  0.240427    True           Saluki   \n",
       "1374        1              kelpie  0.519047    True  German_shepherd   \n",
       "640         1      frilled_lizard  0.326259   False      tailed_frog   \n",
       "953         1              collie  0.457672    True             chow   \n",
       "381         2  miniature_pinscher  0.384099    True       bloodhound   \n",
       "\n",
       "       p2_conf  p2_dog                p3   p3_conf  p3_dog  \n",
       "857   0.123450   False            vacuum  0.119218   False  \n",
       "1602  0.243297   False           barbell  0.143630   False  \n",
       "1986  0.037721    True         Chihuahua  0.011967    True  \n",
       "1500  0.136245   False  three-toed_sloth  0.117464   False  \n",
       "110   0.168445    True         Chihuahua  0.008950    True  \n",
       "1365  0.224269    True          Doberman  0.129730    True  \n",
       "1374  0.296069    True             dingo  0.061005   False  \n",
       "640   0.104539   False           axolotl  0.072479   False  \n",
       "953   0.279101    True        Pomeranian  0.076922    True  \n",
       "381   0.079923    True        Rottweiler  0.068594    True  "
      ]
     },
     "execution_count": 18,
     "metadata": {},
     "output_type": "execute_result"
    }
   ],
   "source": [
    "df_image.sample(10)"
   ]
  },
  {
   "cell_type": "code",
   "execution_count": 19,
   "id": "e027ec15",
   "metadata": {},
   "outputs": [
    {
     "name": "stdout",
     "output_type": "stream",
     "text": [
      "<class 'pandas.core.frame.DataFrame'>\n",
      "RangeIndex: 2075 entries, 0 to 2074\n",
      "Data columns (total 12 columns):\n",
      " #   Column    Non-Null Count  Dtype  \n",
      "---  ------    --------------  -----  \n",
      " 0   tweet_id  2075 non-null   int64  \n",
      " 1   jpg_url   2075 non-null   object \n",
      " 2   img_num   2075 non-null   int64  \n",
      " 3   p1        2075 non-null   object \n",
      " 4   p1_conf   2075 non-null   float64\n",
      " 5   p1_dog    2075 non-null   bool   \n",
      " 6   p2        2075 non-null   object \n",
      " 7   p2_conf   2075 non-null   float64\n",
      " 8   p2_dog    2075 non-null   bool   \n",
      " 9   p3        2075 non-null   object \n",
      " 10  p3_conf   2075 non-null   float64\n",
      " 11  p3_dog    2075 non-null   bool   \n",
      "dtypes: bool(3), float64(3), int64(2), object(4)\n",
      "memory usage: 152.1+ KB\n"
     ]
    }
   ],
   "source": [
    "df_image.info()"
   ]
  },
  {
   "cell_type": "code",
   "execution_count": 20,
   "id": "14a3f623",
   "metadata": {
    "scrolled": true
   },
   "outputs": [
    {
     "data": {
      "text/plain": [
       "0"
      ]
     },
     "execution_count": 20,
     "metadata": {},
     "output_type": "execute_result"
    }
   ],
   "source": [
    "df_image.duplicated().sum()"
   ]
  },
  {
   "cell_type": "code",
   "execution_count": 21,
   "id": "bf378504",
   "metadata": {
    "scrolled": true
   },
   "outputs": [
    {
     "data": {
      "text/plain": [
       "66"
      ]
     },
     "execution_count": 21,
     "metadata": {},
     "output_type": "execute_result"
    }
   ],
   "source": [
    "#CHECK FOR DUPLICATES IN THE URL\n",
    "df_image.jpg_url.duplicated().sum()"
   ]
  },
  {
   "cell_type": "code",
   "execution_count": 22,
   "id": "1922d6e1",
   "metadata": {
    "scrolled": true
   },
   "outputs": [
    {
     "data": {
      "text/plain": [
       "tweet_id    0\n",
       "jpg_url     0\n",
       "img_num     0\n",
       "p1          0\n",
       "p1_conf     0\n",
       "p1_dog      0\n",
       "p2          0\n",
       "p2_conf     0\n",
       "p2_dog      0\n",
       "p3          0\n",
       "p3_conf     0\n",
       "p3_dog      0\n",
       "dtype: int64"
      ]
     },
     "execution_count": 22,
     "metadata": {},
     "output_type": "execute_result"
    }
   ],
   "source": [
    "df_image.isnull().sum()"
   ]
  },
  {
   "cell_type": "code",
   "execution_count": 23,
   "id": "790b4793",
   "metadata": {
    "scrolled": true
   },
   "outputs": [
    {
     "data": {
      "text/plain": [
       "True     1532\n",
       "False     543\n",
       "Name: p1_dog, dtype: int64"
      ]
     },
     "execution_count": 23,
     "metadata": {},
     "output_type": "execute_result"
    }
   ],
   "source": [
    "df_image.p1_dog.value_counts()"
   ]
  },
  {
   "cell_type": "code",
   "execution_count": 24,
   "id": "7e359478",
   "metadata": {
    "scrolled": true
   },
   "outputs": [
    {
     "data": {
      "text/plain": [
       "True     1553\n",
       "False     522\n",
       "Name: p2_dog, dtype: int64"
      ]
     },
     "execution_count": 24,
     "metadata": {},
     "output_type": "execute_result"
    }
   ],
   "source": [
    "df_image.p2_dog.value_counts()"
   ]
  },
  {
   "cell_type": "code",
   "execution_count": 25,
   "id": "0707539e",
   "metadata": {
    "scrolled": false
   },
   "outputs": [
    {
     "data": {
      "text/plain": [
       "True     1499\n",
       "False     576\n",
       "Name: p3_dog, dtype: int64"
      ]
     },
     "execution_count": 25,
     "metadata": {},
     "output_type": "execute_result"
    }
   ],
   "source": [
    "df_image.p3_dog.value_counts()"
   ]
  },
  {
   "cell_type": "markdown",
   "id": "b6fdb6ad",
   "metadata": {},
   "source": [
    "### Lastly, we will examine json tweet data"
   ]
  },
  {
   "cell_type": "code",
   "execution_count": 26,
   "id": "390e798d",
   "metadata": {
    "scrolled": true
   },
   "outputs": [
    {
     "data": {
      "text/html": [
       "<div>\n",
       "<style scoped>\n",
       "    .dataframe tbody tr th:only-of-type {\n",
       "        vertical-align: middle;\n",
       "    }\n",
       "\n",
       "    .dataframe tbody tr th {\n",
       "        vertical-align: top;\n",
       "    }\n",
       "\n",
       "    .dataframe thead th {\n",
       "        text-align: right;\n",
       "    }\n",
       "</style>\n",
       "<table border=\"1\" class=\"dataframe\">\n",
       "  <thead>\n",
       "    <tr style=\"text-align: right;\">\n",
       "      <th></th>\n",
       "      <th>tweet_id</th>\n",
       "      <th>created_at</th>\n",
       "      <th>favorite_count</th>\n",
       "      <th>retweet_count</th>\n",
       "      <th>source</th>\n",
       "      <th>url</th>\n",
       "      <th>retweeted_status</th>\n",
       "    </tr>\n",
       "  </thead>\n",
       "  <tbody>\n",
       "    <tr>\n",
       "      <th>181</th>\n",
       "      <td>855857698524602368</td>\n",
       "      <td>Sat Apr 22 18:55:51 +0000 2017</td>\n",
       "      <td>10852</td>\n",
       "      <td>1862</td>\n",
       "      <td>Twitter for iPhone</td>\n",
       "      <td>https://t.co/sb73bV5Y7S</td>\n",
       "      <td>Original tweet</td>\n",
       "    </tr>\n",
       "    <tr>\n",
       "      <th>1094</th>\n",
       "      <td>730573383004487680</td>\n",
       "      <td>Thu May 12 01:40:42 +0000 2016</td>\n",
       "      <td>4468</td>\n",
       "      <td>1916</td>\n",
       "      <td>Twitter for iPhone</td>\n",
       "      <td>https://t.co/CnUl2uDBBV</td>\n",
       "      <td>Original tweet</td>\n",
       "    </tr>\n",
       "    <tr>\n",
       "      <th>1431</th>\n",
       "      <td>695064344191721472</td>\n",
       "      <td>Thu Feb 04 02:00:27 +0000 2016</td>\n",
       "      <td>1479</td>\n",
       "      <td>529</td>\n",
       "      <td>Twitter for iPhone</td>\n",
       "      <td>https://t.co/uaJmNgXR2P</td>\n",
       "      <td>Original tweet</td>\n",
       "    </tr>\n",
       "    <tr>\n",
       "      <th>220</th>\n",
       "      <td>847971574464610304</td>\n",
       "      <td>Sat Apr 01 00:39:12 +0000 2017</td>\n",
       "      <td>0</td>\n",
       "      <td>396</td>\n",
       "      <td>Twitter for iPhone</td>\n",
       "      <td>This is a retweet</td>\n",
       "      <td>This is a retweet</td>\n",
       "    </tr>\n",
       "    <tr>\n",
       "      <th>1462</th>\n",
       "      <td>692901601640583168</td>\n",
       "      <td>Fri Jan 29 02:46:29 +0000 2016</td>\n",
       "      <td>1619</td>\n",
       "      <td>539</td>\n",
       "      <td>Twitter for iPhone</td>\n",
       "      <td>https://t.co/N0OADmCnVV</td>\n",
       "      <td>Original tweet</td>\n",
       "    </tr>\n",
       "    <tr>\n",
       "      <th>1623</th>\n",
       "      <td>683498322573824003</td>\n",
       "      <td>Sun Jan 03 04:01:13 +0000 2016</td>\n",
       "      <td>2935</td>\n",
       "      <td>873</td>\n",
       "      <td>Twitter for iPhone</td>\n",
       "      <td>https://t.co/ObWcOEekt0</td>\n",
       "      <td>Original tweet</td>\n",
       "    </tr>\n",
       "    <tr>\n",
       "      <th>2310</th>\n",
       "      <td>666102155909144576</td>\n",
       "      <td>Mon Nov 16 03:55:04 +0000 2015</td>\n",
       "      <td>66</td>\n",
       "      <td>11</td>\n",
       "      <td>Twitter for iPhone</td>\n",
       "      <td>https://t.co/11LvqN4WLq</td>\n",
       "      <td>Original tweet</td>\n",
       "    </tr>\n",
       "    <tr>\n",
       "      <th>59</th>\n",
       "      <td>880465832366813184</td>\n",
       "      <td>Thu Jun 29 16:39:47 +0000 2017</td>\n",
       "      <td>25009</td>\n",
       "      <td>5207</td>\n",
       "      <td>Twitter for iPhone</td>\n",
       "      <td>https://t.co/4VsFysDmiw</td>\n",
       "      <td>Original tweet</td>\n",
       "    </tr>\n",
       "    <tr>\n",
       "      <th>1540</th>\n",
       "      <td>687818504314159109</td>\n",
       "      <td>Fri Jan 15 02:08:05 +0000 2016</td>\n",
       "      <td>2281</td>\n",
       "      <td>865</td>\n",
       "      <td>Twitter for iPhone</td>\n",
       "      <td>https://t.co/hK6xB042EP</td>\n",
       "      <td>Original tweet</td>\n",
       "    </tr>\n",
       "    <tr>\n",
       "      <th>2198</th>\n",
       "      <td>668268907921326080</td>\n",
       "      <td>Sun Nov 22 03:24:58 +0000 2015</td>\n",
       "      <td>485</td>\n",
       "      <td>206</td>\n",
       "      <td>Twitter for iPhone</td>\n",
       "      <td>https://t.co/aeZykWwiJN</td>\n",
       "      <td>Original tweet</td>\n",
       "    </tr>\n",
       "  </tbody>\n",
       "</table>\n",
       "</div>"
      ],
      "text/plain": [
       "                tweet_id                      created_at  favorite_count  \\\n",
       "181   855857698524602368  Sat Apr 22 18:55:51 +0000 2017           10852   \n",
       "1094  730573383004487680  Thu May 12 01:40:42 +0000 2016            4468   \n",
       "1431  695064344191721472  Thu Feb 04 02:00:27 +0000 2016            1479   \n",
       "220   847971574464610304  Sat Apr 01 00:39:12 +0000 2017               0   \n",
       "1462  692901601640583168  Fri Jan 29 02:46:29 +0000 2016            1619   \n",
       "1623  683498322573824003  Sun Jan 03 04:01:13 +0000 2016            2935   \n",
       "2310  666102155909144576  Mon Nov 16 03:55:04 +0000 2015              66   \n",
       "59    880465832366813184  Thu Jun 29 16:39:47 +0000 2017           25009   \n",
       "1540  687818504314159109  Fri Jan 15 02:08:05 +0000 2016            2281   \n",
       "2198  668268907921326080  Sun Nov 22 03:24:58 +0000 2015             485   \n",
       "\n",
       "      retweet_count              source                      url  \\\n",
       "181            1862  Twitter for iPhone  https://t.co/sb73bV5Y7S   \n",
       "1094           1916  Twitter for iPhone  https://t.co/CnUl2uDBBV   \n",
       "1431            529  Twitter for iPhone  https://t.co/uaJmNgXR2P   \n",
       "220             396  Twitter for iPhone        This is a retweet   \n",
       "1462            539  Twitter for iPhone  https://t.co/N0OADmCnVV   \n",
       "1623            873  Twitter for iPhone  https://t.co/ObWcOEekt0   \n",
       "2310             11  Twitter for iPhone  https://t.co/11LvqN4WLq   \n",
       "59             5207  Twitter for iPhone  https://t.co/4VsFysDmiw   \n",
       "1540            865  Twitter for iPhone  https://t.co/hK6xB042EP   \n",
       "2198            206  Twitter for iPhone  https://t.co/aeZykWwiJN   \n",
       "\n",
       "       retweeted_status  \n",
       "181      Original tweet  \n",
       "1094     Original tweet  \n",
       "1431     Original tweet  \n",
       "220   This is a retweet  \n",
       "1462     Original tweet  \n",
       "1623     Original tweet  \n",
       "2310     Original tweet  \n",
       "59       Original tweet  \n",
       "1540     Original tweet  \n",
       "2198     Original tweet  "
      ]
     },
     "execution_count": 26,
     "metadata": {},
     "output_type": "execute_result"
    }
   ],
   "source": [
    "df_json.sample(10)"
   ]
  },
  {
   "cell_type": "code",
   "execution_count": 27,
   "id": "8a862e22",
   "metadata": {
    "scrolled": true
   },
   "outputs": [
    {
     "name": "stdout",
     "output_type": "stream",
     "text": [
      "<class 'pandas.core.frame.DataFrame'>\n",
      "RangeIndex: 2327 entries, 0 to 2326\n",
      "Data columns (total 7 columns):\n",
      " #   Column            Non-Null Count  Dtype \n",
      "---  ------            --------------  ----- \n",
      " 0   tweet_id          2327 non-null   object\n",
      " 1   created_at        2327 non-null   object\n",
      " 2   favorite_count    2327 non-null   int64 \n",
      " 3   retweet_count     2327 non-null   int64 \n",
      " 4   source            2327 non-null   object\n",
      " 5   url               2327 non-null   object\n",
      " 6   retweeted_status  2327 non-null   object\n",
      "dtypes: int64(2), object(5)\n",
      "memory usage: 127.4+ KB\n"
     ]
    }
   ],
   "source": [
    "df_json.info()"
   ]
  },
  {
   "cell_type": "code",
   "execution_count": 28,
   "id": "e86d045c",
   "metadata": {},
   "outputs": [
    {
     "data": {
      "text/plain": [
       "0"
      ]
     },
     "execution_count": 28,
     "metadata": {},
     "output_type": "execute_result"
    }
   ],
   "source": [
    "df_json.duplicated().sum()"
   ]
  },
  {
   "cell_type": "code",
   "execution_count": 29,
   "id": "46e1c68a",
   "metadata": {
    "scrolled": true
   },
   "outputs": [
    {
     "data": {
      "text/plain": [
       "tweet_id            0\n",
       "created_at          0\n",
       "favorite_count      0\n",
       "retweet_count       0\n",
       "source              0\n",
       "url                 0\n",
       "retweeted_status    0\n",
       "dtype: int64"
      ]
     },
     "execution_count": 29,
     "metadata": {},
     "output_type": "execute_result"
    }
   ],
   "source": [
    "df_json.isnull().sum()"
   ]
  },
  {
   "cell_type": "markdown",
   "id": "1b970e2d",
   "metadata": {},
   "source": [
    "## Quality Issues\n",
    "\n",
    "1 The datatype of \"timestamp\" is not correct in twitter archive weratedogs (df). It is of type 'object'\n",
    "\n",
    "2.We only want original ratings(no retweets) that have images\n",
    "\n",
    "3.The standard \"rating_denominator\" is 10 and not correct for all data in twitter archive weratedogs(df)\n",
    "\n",
    "4.The dog names format should be consistent. Make the first letter capital for all the names in twitter archive weratedogs data\n",
    "\n",
    "5.Drop duplicate values from jpg_url from image predictions data (df_image)\n",
    "\n",
    "6.The column header names such as p1,p2,p3 are not descriptive from image predictions data(df_image)\n",
    "\n",
    "7.The prediction dog breeds involve both uppercase and lowercase for the first letter from image predictions data\n",
    "\n",
    "8.Delete columns that won't be used for analysis in twitter archive weratedogs data(df)\n",
    "\n",
    "9.Delete columns that won't be used for analysis in tweet json data\n",
    "\n",
    "10 Convert tweet_id column to object\n",
    "\n",
    "11 Change stage column with multiple stage names into more readable form"
   ]
  },
  {
   "cell_type": "markdown",
   "id": "526128df",
   "metadata": {},
   "source": [
    "## Tidiness Issues"
   ]
  },
  {
   "cell_type": "markdown",
   "id": "699a37cd",
   "metadata": {},
   "source": [
    "1.Columns 'doggo', 'floofer', 'pupper', 'puppo' in df should be a single column\n",
    "\n",
    "2.Change tweet_id to type int64 for tweet json data in order to merge with the other 2 tables"
   ]
  },
  {
   "cell_type": "markdown",
   "id": "999586a9",
   "metadata": {},
   "source": [
    "# Data Cleaning"
   ]
  },
  {
   "cell_type": "code",
   "execution_count": 30,
   "id": "8d400ebd",
   "metadata": {},
   "outputs": [],
   "source": [
    "# Make copies of original pieces of data\n",
    "df_clean= df.copy()\n",
    "df_image_clean = df_image.copy()\n",
    "df_json_clean = df_json.copy()"
   ]
  },
  {
   "cell_type": "markdown",
   "id": "5a09efb3",
   "metadata": {},
   "source": [
    "### 1. The datatype of \"timestamp\" is not correct in twitter archive weratedogs (df). It is of type 'object"
   ]
  },
  {
   "cell_type": "markdown",
   "id": "b8e3fe7b",
   "metadata": {},
   "source": [
    "#### Define: The datatype of timestap is not correct as it is supposed to be datetime"
   ]
  },
  {
   "cell_type": "markdown",
   "id": "90ec566b",
   "metadata": {},
   "source": [
    "#### Code"
   ]
  },
  {
   "cell_type": "code",
   "execution_count": 91,
   "id": "efdb0679",
   "metadata": {},
   "outputs": [
    {
     "name": "stdout",
     "output_type": "stream",
     "text": [
      "<class 'pandas.core.frame.DataFrame'>\n",
      "Int64Index: 2175 entries, 0 to 2355\n",
      "Data columns (total 7 columns):\n",
      " #   Column              Non-Null Count  Dtype              \n",
      "---  ------              --------------  -----              \n",
      " 0   tweet_id            2175 non-null   int64              \n",
      " 1   timestamp           2175 non-null   datetime64[ns, UTC]\n",
      " 2   text                2175 non-null   object             \n",
      " 3   rating_numerator    2175 non-null   int64              \n",
      " 4   rating_denominator  2175 non-null   int64              \n",
      " 5   name                2175 non-null   object             \n",
      " 6   stage               344 non-null    object             \n",
      "dtypes: datetime64[ns, UTC](1), int64(3), object(3)\n",
      "memory usage: 135.9+ KB\n"
     ]
    }
   ],
   "source": [
    "df_clean.info()"
   ]
  },
  {
   "cell_type": "code",
   "execution_count": null,
   "id": "817d8357",
   "metadata": {},
   "outputs": [],
   "source": []
  },
  {
   "cell_type": "code",
   "execution_count": 31,
   "id": "9a2e3ab3",
   "metadata": {},
   "outputs": [],
   "source": [
    "df_clean.timestamp = pd.to_datetime(df_clean.timestamp)"
   ]
  },
  {
   "cell_type": "markdown",
   "id": "765437a5",
   "metadata": {},
   "source": [
    "#### Test"
   ]
  },
  {
   "cell_type": "code",
   "execution_count": 32,
   "id": "fa550dfd",
   "metadata": {},
   "outputs": [
    {
     "name": "stdout",
     "output_type": "stream",
     "text": [
      "<class 'pandas.core.frame.DataFrame'>\n",
      "RangeIndex: 2356 entries, 0 to 2355\n",
      "Data columns (total 17 columns):\n",
      " #   Column                      Non-Null Count  Dtype              \n",
      "---  ------                      --------------  -----              \n",
      " 0   tweet_id                    2356 non-null   int64              \n",
      " 1   in_reply_to_status_id       78 non-null     float64            \n",
      " 2   in_reply_to_user_id         78 non-null     float64            \n",
      " 3   timestamp                   2356 non-null   datetime64[ns, UTC]\n",
      " 4   source                      2356 non-null   object             \n",
      " 5   text                        2356 non-null   object             \n",
      " 6   retweeted_status_id         181 non-null    float64            \n",
      " 7   retweeted_status_user_id    181 non-null    float64            \n",
      " 8   retweeted_status_timestamp  181 non-null    object             \n",
      " 9   expanded_urls               2297 non-null   object             \n",
      " 10  rating_numerator            2356 non-null   int64              \n",
      " 11  rating_denominator          2356 non-null   int64              \n",
      " 12  name                        2356 non-null   object             \n",
      " 13  doggo                       2356 non-null   object             \n",
      " 14  floofer                     2356 non-null   object             \n",
      " 15  pupper                      2356 non-null   object             \n",
      " 16  puppo                       2356 non-null   object             \n",
      "dtypes: datetime64[ns, UTC](1), float64(4), int64(3), object(9)\n",
      "memory usage: 313.0+ KB\n"
     ]
    }
   ],
   "source": [
    "df_clean.info()"
   ]
  },
  {
   "cell_type": "markdown",
   "id": "d701ec33",
   "metadata": {},
   "source": [
    "### 2. We only want original ratings(no retweets) that have images"
   ]
  },
  {
   "cell_type": "markdown",
   "id": "2c814f71",
   "metadata": {},
   "source": [
    "#### Code"
   ]
  },
  {
   "cell_type": "code",
   "execution_count": 33,
   "id": "041d52ce",
   "metadata": {},
   "outputs": [],
   "source": [
    "df_clean = df_clean[pd.isnull(df_clean.retweeted_status_id)]\n",
    "df_clean = df_clean.drop('retweeted_status_id', axis = 1)\n",
    "df_clean = df_clean.drop('retweeted_status_user_id', axis = 1)\n",
    "df_clean = df_clean.drop('retweeted_status_timestamp', axis = 1)"
   ]
  },
  {
   "cell_type": "markdown",
   "id": "76de46ab",
   "metadata": {},
   "source": [
    "#### Test"
   ]
  },
  {
   "cell_type": "code",
   "execution_count": 34,
   "id": "999014a8",
   "metadata": {},
   "outputs": [
    {
     "name": "stdout",
     "output_type": "stream",
     "text": [
      "<class 'pandas.core.frame.DataFrame'>\n",
      "Int64Index: 2175 entries, 0 to 2355\n",
      "Data columns (total 14 columns):\n",
      " #   Column                 Non-Null Count  Dtype              \n",
      "---  ------                 --------------  -----              \n",
      " 0   tweet_id               2175 non-null   int64              \n",
      " 1   in_reply_to_status_id  78 non-null     float64            \n",
      " 2   in_reply_to_user_id    78 non-null     float64            \n",
      " 3   timestamp              2175 non-null   datetime64[ns, UTC]\n",
      " 4   source                 2175 non-null   object             \n",
      " 5   text                   2175 non-null   object             \n",
      " 6   expanded_urls          2117 non-null   object             \n",
      " 7   rating_numerator       2175 non-null   int64              \n",
      " 8   rating_denominator     2175 non-null   int64              \n",
      " 9   name                   2175 non-null   object             \n",
      " 10  doggo                  2175 non-null   object             \n",
      " 11  floofer                2175 non-null   object             \n",
      " 12  pupper                 2175 non-null   object             \n",
      " 13  puppo                  2175 non-null   object             \n",
      "dtypes: datetime64[ns, UTC](1), float64(2), int64(3), object(8)\n",
      "memory usage: 254.9+ KB\n"
     ]
    }
   ],
   "source": [
    "df_clean.info()"
   ]
  },
  {
   "cell_type": "markdown",
   "id": "432e6e13",
   "metadata": {},
   "source": [
    "### 3.The standard \"rating_denominator\" is 10 and not correct for all data in twitter archive weratedogs(df)"
   ]
  },
  {
   "cell_type": "markdown",
   "id": "ffddc0c4",
   "metadata": {},
   "source": [
    "#### Define: Correct all denominator ratings that are not '10' to 10"
   ]
  },
  {
   "cell_type": "markdown",
   "id": "ee69932d",
   "metadata": {},
   "source": [
    "#### Code"
   ]
  },
  {
   "cell_type": "code",
   "execution_count": 35,
   "id": "73a5324a",
   "metadata": {},
   "outputs": [],
   "source": [
    "df_clean.loc[df['rating_denominator'] > 10, 'rating_denominator'] = 10"
   ]
  },
  {
   "cell_type": "code",
   "execution_count": 36,
   "id": "4a304d94",
   "metadata": {},
   "outputs": [],
   "source": [
    "df_clean.loc[df['rating_denominator'] < 10, 'rating_denominator'] = 10"
   ]
  },
  {
   "cell_type": "markdown",
   "id": "5e086238",
   "metadata": {},
   "source": [
    "#### Test"
   ]
  },
  {
   "cell_type": "code",
   "execution_count": 37,
   "id": "e74f60aa",
   "metadata": {},
   "outputs": [
    {
     "data": {
      "text/plain": [
       "10    2175\n",
       "Name: rating_denominator, dtype: int64"
      ]
     },
     "execution_count": 37,
     "metadata": {},
     "output_type": "execute_result"
    }
   ],
   "source": [
    "df_clean.rating_denominator.value_counts()"
   ]
  },
  {
   "cell_type": "markdown",
   "id": "ad44f195",
   "metadata": {},
   "source": [
    "### 4.The dog names format should be consistent. Make the first letter capital for all the names in twitter archive weratedogs data"
   ]
  },
  {
   "cell_type": "markdown",
   "id": "afe6d377",
   "metadata": {},
   "source": [
    "#### Define: Make the first letter capital for all the names in twitter archive weratedogs data"
   ]
  },
  {
   "cell_type": "markdown",
   "id": "5a942ff2",
   "metadata": {},
   "source": [
    "#### Code"
   ]
  },
  {
   "cell_type": "code",
   "execution_count": 38,
   "id": "0f055f75",
   "metadata": {},
   "outputs": [
    {
     "data": {
      "text/plain": [
       "104"
      ]
     },
     "execution_count": 38,
     "metadata": {},
     "output_type": "execute_result"
    }
   ],
   "source": [
    "df_clean.name.str.islower().sum()\n"
   ]
  },
  {
   "cell_type": "code",
   "execution_count": 39,
   "id": "4eb64005",
   "metadata": {},
   "outputs": [],
   "source": [
    "df_clean.name = df_clean.name.str.capitalize()"
   ]
  },
  {
   "cell_type": "markdown",
   "id": "3d0fb645",
   "metadata": {},
   "source": [
    "#### Test"
   ]
  },
  {
   "cell_type": "code",
   "execution_count": 40,
   "id": "d290eb86",
   "metadata": {
    "scrolled": true
   },
   "outputs": [
    {
     "data": {
      "text/plain": [
       "0"
      ]
     },
     "execution_count": 40,
     "metadata": {},
     "output_type": "execute_result"
    }
   ],
   "source": [
    "df_clean.name.str.islower().sum()"
   ]
  },
  {
   "cell_type": "markdown",
   "id": "775bba71",
   "metadata": {},
   "source": [
    "### 5. Drop duplicate values from jpg_url from image predictions data (df_image)"
   ]
  },
  {
   "cell_type": "code",
   "execution_count": 41,
   "id": "96217328",
   "metadata": {},
   "outputs": [],
   "source": [
    "df_image_clean = df_image_clean.drop_duplicates(['jpg_url'], keep = 'first')"
   ]
  },
  {
   "cell_type": "markdown",
   "id": "a28ed03a",
   "metadata": {},
   "source": [
    "#### Test"
   ]
  },
  {
   "cell_type": "code",
   "execution_count": 42,
   "id": "10dc3af1",
   "metadata": {
    "scrolled": true
   },
   "outputs": [
    {
     "data": {
      "text/plain": [
       "0"
      ]
     },
     "execution_count": 42,
     "metadata": {},
     "output_type": "execute_result"
    }
   ],
   "source": [
    "df_image_clean.jpg_url.duplicated().sum()"
   ]
  },
  {
   "cell_type": "markdown",
   "id": "45453ed8",
   "metadata": {},
   "source": [
    "### 6.The column header names p1,p2,p3 are not descriptive enough from image predictions data(df_image)"
   ]
  },
  {
   "cell_type": "markdown",
   "id": "03cd51fd",
   "metadata": {},
   "source": [
    "#### Code"
   ]
  },
  {
   "cell_type": "code",
   "execution_count": 43,
   "id": "e7b0a167",
   "metadata": {},
   "outputs": [],
   "source": [
    "df_image_clean.rename(columns = {'p1':'first_prediction', 'p1_conf': 'first_confidence', 'p1_dog': 'first_dog',\n",
    "                                  'p2': 'second_prediction', 'p2_conf': 'second_confidence', 'p2_dog': 'second_dog',\n",
    "                                  'p3': 'third_prediction', 'p3_conf': 'third_confidence', 'p3_dog': 'third_dog'}, inplace = True)"
   ]
  },
  {
   "cell_type": "markdown",
   "id": "1caac4a4",
   "metadata": {},
   "source": [
    "#### Test"
   ]
  },
  {
   "cell_type": "code",
   "execution_count": 44,
   "id": "22a3d902",
   "metadata": {
    "scrolled": false
   },
   "outputs": [
    {
     "data": {
      "text/html": [
       "<div>\n",
       "<style scoped>\n",
       "    .dataframe tbody tr th:only-of-type {\n",
       "        vertical-align: middle;\n",
       "    }\n",
       "\n",
       "    .dataframe tbody tr th {\n",
       "        vertical-align: top;\n",
       "    }\n",
       "\n",
       "    .dataframe thead th {\n",
       "        text-align: right;\n",
       "    }\n",
       "</style>\n",
       "<table border=\"1\" class=\"dataframe\">\n",
       "  <thead>\n",
       "    <tr style=\"text-align: right;\">\n",
       "      <th></th>\n",
       "      <th>tweet_id</th>\n",
       "      <th>jpg_url</th>\n",
       "      <th>img_num</th>\n",
       "      <th>first_prediction</th>\n",
       "      <th>first_confidence</th>\n",
       "      <th>first_dog</th>\n",
       "      <th>second_prediction</th>\n",
       "      <th>second_confidence</th>\n",
       "      <th>second_dog</th>\n",
       "      <th>third_prediction</th>\n",
       "      <th>third_confidence</th>\n",
       "      <th>third_dog</th>\n",
       "    </tr>\n",
       "  </thead>\n",
       "  <tbody>\n",
       "    <tr>\n",
       "      <th>0</th>\n",
       "      <td>666020888022790149</td>\n",
       "      <td>https://pbs.twimg.com/media/CT4udn0WwAA0aMy.jpg</td>\n",
       "      <td>1</td>\n",
       "      <td>Welsh_springer_spaniel</td>\n",
       "      <td>0.465074</td>\n",
       "      <td>True</td>\n",
       "      <td>collie</td>\n",
       "      <td>0.156665</td>\n",
       "      <td>True</td>\n",
       "      <td>Shetland_sheepdog</td>\n",
       "      <td>0.061428</td>\n",
       "      <td>True</td>\n",
       "    </tr>\n",
       "    <tr>\n",
       "      <th>1</th>\n",
       "      <td>666029285002620928</td>\n",
       "      <td>https://pbs.twimg.com/media/CT42GRgUYAA5iDo.jpg</td>\n",
       "      <td>1</td>\n",
       "      <td>redbone</td>\n",
       "      <td>0.506826</td>\n",
       "      <td>True</td>\n",
       "      <td>miniature_pinscher</td>\n",
       "      <td>0.074192</td>\n",
       "      <td>True</td>\n",
       "      <td>Rhodesian_ridgeback</td>\n",
       "      <td>0.072010</td>\n",
       "      <td>True</td>\n",
       "    </tr>\n",
       "    <tr>\n",
       "      <th>2</th>\n",
       "      <td>666033412701032449</td>\n",
       "      <td>https://pbs.twimg.com/media/CT4521TWwAEvMyu.jpg</td>\n",
       "      <td>1</td>\n",
       "      <td>German_shepherd</td>\n",
       "      <td>0.596461</td>\n",
       "      <td>True</td>\n",
       "      <td>malinois</td>\n",
       "      <td>0.138584</td>\n",
       "      <td>True</td>\n",
       "      <td>bloodhound</td>\n",
       "      <td>0.116197</td>\n",
       "      <td>True</td>\n",
       "    </tr>\n",
       "    <tr>\n",
       "      <th>3</th>\n",
       "      <td>666044226329800704</td>\n",
       "      <td>https://pbs.twimg.com/media/CT5Dr8HUEAA-lEu.jpg</td>\n",
       "      <td>1</td>\n",
       "      <td>Rhodesian_ridgeback</td>\n",
       "      <td>0.408143</td>\n",
       "      <td>True</td>\n",
       "      <td>redbone</td>\n",
       "      <td>0.360687</td>\n",
       "      <td>True</td>\n",
       "      <td>miniature_pinscher</td>\n",
       "      <td>0.222752</td>\n",
       "      <td>True</td>\n",
       "    </tr>\n",
       "    <tr>\n",
       "      <th>4</th>\n",
       "      <td>666049248165822465</td>\n",
       "      <td>https://pbs.twimg.com/media/CT5IQmsXIAAKY4A.jpg</td>\n",
       "      <td>1</td>\n",
       "      <td>miniature_pinscher</td>\n",
       "      <td>0.560311</td>\n",
       "      <td>True</td>\n",
       "      <td>Rottweiler</td>\n",
       "      <td>0.243682</td>\n",
       "      <td>True</td>\n",
       "      <td>Doberman</td>\n",
       "      <td>0.154629</td>\n",
       "      <td>True</td>\n",
       "    </tr>\n",
       "  </tbody>\n",
       "</table>\n",
       "</div>"
      ],
      "text/plain": [
       "             tweet_id                                          jpg_url  \\\n",
       "0  666020888022790149  https://pbs.twimg.com/media/CT4udn0WwAA0aMy.jpg   \n",
       "1  666029285002620928  https://pbs.twimg.com/media/CT42GRgUYAA5iDo.jpg   \n",
       "2  666033412701032449  https://pbs.twimg.com/media/CT4521TWwAEvMyu.jpg   \n",
       "3  666044226329800704  https://pbs.twimg.com/media/CT5Dr8HUEAA-lEu.jpg   \n",
       "4  666049248165822465  https://pbs.twimg.com/media/CT5IQmsXIAAKY4A.jpg   \n",
       "\n",
       "   img_num        first_prediction  first_confidence  first_dog  \\\n",
       "0        1  Welsh_springer_spaniel          0.465074       True   \n",
       "1        1                 redbone          0.506826       True   \n",
       "2        1         German_shepherd          0.596461       True   \n",
       "3        1     Rhodesian_ridgeback          0.408143       True   \n",
       "4        1      miniature_pinscher          0.560311       True   \n",
       "\n",
       "    second_prediction  second_confidence  second_dog     third_prediction  \\\n",
       "0              collie           0.156665        True    Shetland_sheepdog   \n",
       "1  miniature_pinscher           0.074192        True  Rhodesian_ridgeback   \n",
       "2            malinois           0.138584        True           bloodhound   \n",
       "3             redbone           0.360687        True   miniature_pinscher   \n",
       "4          Rottweiler           0.243682        True             Doberman   \n",
       "\n",
       "   third_confidence  third_dog  \n",
       "0          0.061428       True  \n",
       "1          0.072010       True  \n",
       "2          0.116197       True  \n",
       "3          0.222752       True  \n",
       "4          0.154629       True  "
      ]
     },
     "execution_count": 44,
     "metadata": {},
     "output_type": "execute_result"
    }
   ],
   "source": [
    "df_image_clean.head()"
   ]
  },
  {
   "cell_type": "markdown",
   "id": "390216fe",
   "metadata": {},
   "source": [
    "### 7. The prediction dog breeds involve both uppercase and lowercase for the first letter from image predictions data"
   ]
  },
  {
   "cell_type": "markdown",
   "id": "1c4b4c08",
   "metadata": {},
   "source": [
    "#### Define:  specified columns must have initial caps"
   ]
  },
  {
   "cell_type": "code",
   "execution_count": 45,
   "id": "763d56cd",
   "metadata": {},
   "outputs": [],
   "source": [
    "df_image_clean.first_prediction = df_image_clean.first_prediction.str.capitalize()\n",
    "df_image_clean.second_prediction = df_image_clean.second_prediction.str.capitalize()\n",
    "df_image_clean.third_prediction = df_image_clean.third_prediction.str.capitalize()\n"
   ]
  },
  {
   "cell_type": "markdown",
   "id": "10c2d1b7",
   "metadata": {},
   "source": [
    "#### Test"
   ]
  },
  {
   "cell_type": "code",
   "execution_count": 46,
   "id": "d55990fd",
   "metadata": {},
   "outputs": [
    {
     "data": {
      "text/plain": [
       "Golden_retriever      139\n",
       "Labrador_retriever     95\n",
       "Pembroke               88\n",
       "Chihuahua              79\n",
       "Pug                    55\n",
       "Name: first_prediction, dtype: int64"
      ]
     },
     "execution_count": 46,
     "metadata": {},
     "output_type": "execute_result"
    }
   ],
   "source": [
    "df_image_clean.first_prediction.value_counts().head()"
   ]
  },
  {
   "cell_type": "code",
   "execution_count": 47,
   "id": "7ebcc138",
   "metadata": {},
   "outputs": [
    {
     "data": {
      "text/plain": [
       "Labrador_retriever    96\n",
       "Golden_retriever      83\n",
       "Cardigan              73\n",
       "Chihuahua             43\n",
       "French_bulldog        40\n",
       "Name: second_prediction, dtype: int64"
      ]
     },
     "execution_count": 47,
     "metadata": {},
     "output_type": "execute_result"
    }
   ],
   "source": [
    "df_image_clean.second_prediction.value_counts().head()"
   ]
  },
  {
   "cell_type": "code",
   "execution_count": 48,
   "id": "14470ff1",
   "metadata": {
    "scrolled": true
   },
   "outputs": [
    {
     "data": {
      "text/plain": [
       "Labrador_retriever    76\n",
       "Chihuahua             57\n",
       "Golden_retriever      46\n",
       "Eskimo_dog            36\n",
       "Kelpie                33\n",
       "Name: third_prediction, dtype: int64"
      ]
     },
     "execution_count": 48,
     "metadata": {},
     "output_type": "execute_result"
    }
   ],
   "source": [
    "df_image_clean.third_prediction.value_counts().head()"
   ]
  },
  {
   "cell_type": "markdown",
   "id": "af8d0d27",
   "metadata": {},
   "source": [
    "### 8.Delete columns that won't be used for analysis in twitter archive weratedogs data(df)"
   ]
  },
  {
   "cell_type": "markdown",
   "id": "f3ddd8c2",
   "metadata": {},
   "source": [
    "#### Code"
   ]
  },
  {
   "cell_type": "code",
   "execution_count": 49,
   "id": "7553d3dc",
   "metadata": {},
   "outputs": [],
   "source": [
    "df_clean = df_clean.drop(['source','in_reply_to_status_id','in_reply_to_user_id', 'expanded_urls'], axis = 1)"
   ]
  },
  {
   "cell_type": "markdown",
   "id": "9fc1e1a6",
   "metadata": {},
   "source": [
    "#### Test"
   ]
  },
  {
   "cell_type": "code",
   "execution_count": 50,
   "id": "815ed495",
   "metadata": {},
   "outputs": [
    {
     "name": "stdout",
     "output_type": "stream",
     "text": [
      "<class 'pandas.core.frame.DataFrame'>\n",
      "Int64Index: 2175 entries, 0 to 2355\n",
      "Data columns (total 10 columns):\n",
      " #   Column              Non-Null Count  Dtype              \n",
      "---  ------              --------------  -----              \n",
      " 0   tweet_id            2175 non-null   int64              \n",
      " 1   timestamp           2175 non-null   datetime64[ns, UTC]\n",
      " 2   text                2175 non-null   object             \n",
      " 3   rating_numerator    2175 non-null   int64              \n",
      " 4   rating_denominator  2175 non-null   int64              \n",
      " 5   name                2175 non-null   object             \n",
      " 6   doggo               2175 non-null   object             \n",
      " 7   floofer             2175 non-null   object             \n",
      " 8   pupper              2175 non-null   object             \n",
      " 9   puppo               2175 non-null   object             \n",
      "dtypes: datetime64[ns, UTC](1), int64(3), object(6)\n",
      "memory usage: 186.9+ KB\n"
     ]
    }
   ],
   "source": [
    "df_clean.info()"
   ]
  },
  {
   "cell_type": "markdown",
   "id": "9549dc2c",
   "metadata": {},
   "source": [
    "### 9.Delete columns that won't be used for analysis in tweet json data"
   ]
  },
  {
   "cell_type": "code",
   "execution_count": 51,
   "id": "922f5a66",
   "metadata": {},
   "outputs": [],
   "source": [
    "df_json_clean = df_json_clean.drop(['created_at','source','retweeted_status','url'], axis = 1)"
   ]
  },
  {
   "cell_type": "code",
   "execution_count": 52,
   "id": "6dd74536",
   "metadata": {
    "scrolled": false
   },
   "outputs": [
    {
     "name": "stdout",
     "output_type": "stream",
     "text": [
      "<class 'pandas.core.frame.DataFrame'>\n",
      "RangeIndex: 2327 entries, 0 to 2326\n",
      "Data columns (total 3 columns):\n",
      " #   Column          Non-Null Count  Dtype \n",
      "---  ------          --------------  ----- \n",
      " 0   tweet_id        2327 non-null   object\n",
      " 1   favorite_count  2327 non-null   int64 \n",
      " 2   retweet_count   2327 non-null   int64 \n",
      "dtypes: int64(2), object(1)\n",
      "memory usage: 54.7+ KB\n"
     ]
    }
   ],
   "source": [
    "df_json_clean.info()"
   ]
  },
  {
   "cell_type": "markdown",
   "id": "8f63a128",
   "metadata": {},
   "source": [
    "### 10. Convert tweet_id column to object"
   ]
  },
  {
   "cell_type": "markdown",
   "id": "4bd2919f",
   "metadata": {},
   "source": [
    "#### Code"
   ]
  },
  {
   "cell_type": "code",
   "execution_count": 92,
   "id": "ad4f17b4",
   "metadata": {},
   "outputs": [],
   "source": [
    "df_clean.tweet_id = df_clean.tweet_id.astype(object)"
   ]
  },
  {
   "cell_type": "markdown",
   "id": "8ecfe783",
   "metadata": {},
   "source": [
    "#### Test"
   ]
  },
  {
   "cell_type": "code",
   "execution_count": 93,
   "id": "ff64bd3e",
   "metadata": {
    "scrolled": true
   },
   "outputs": [
    {
     "name": "stdout",
     "output_type": "stream",
     "text": [
      "<class 'pandas.core.frame.DataFrame'>\n",
      "Int64Index: 2175 entries, 0 to 2355\n",
      "Data columns (total 7 columns):\n",
      " #   Column              Non-Null Count  Dtype              \n",
      "---  ------              --------------  -----              \n",
      " 0   tweet_id            2175 non-null   object             \n",
      " 1   timestamp           2175 non-null   datetime64[ns, UTC]\n",
      " 2   text                2175 non-null   object             \n",
      " 3   rating_numerator    2175 non-null   int64              \n",
      " 4   rating_denominator  2175 non-null   int64              \n",
      " 5   name                2175 non-null   object             \n",
      " 6   stage               344 non-null    object             \n",
      "dtypes: datetime64[ns, UTC](1), int64(2), object(4)\n",
      "memory usage: 135.9+ KB\n"
     ]
    }
   ],
   "source": [
    "df_clean.info()"
   ]
  },
  {
   "cell_type": "markdown",
   "id": "64124b8e",
   "metadata": {},
   "source": [
    "### 11 Change stage column with multiple stage names into more readable form"
   ]
  },
  {
   "cell_type": "markdown",
   "id": "82f6dfe7",
   "metadata": {},
   "source": [
    "#### Code"
   ]
  },
  {
   "cell_type": "code",
   "execution_count": 104,
   "id": "35a8e050",
   "metadata": {},
   "outputs": [],
   "source": [
    "df_clean.loc[df_clean.stage == 'doggopupper', 'stage'] = 'doggo, pupper'"
   ]
  },
  {
   "cell_type": "code",
   "execution_count": 105,
   "id": "d34ac4d1",
   "metadata": {},
   "outputs": [],
   "source": [
    "df_clean.loc[df_clean.stage == 'doggopuppo', 'stage'] = 'doggo, pupper'"
   ]
  },
  {
   "cell_type": "code",
   "execution_count": 106,
   "id": "acce6041",
   "metadata": {},
   "outputs": [],
   "source": [
    "df_clean.loc[df_clean.stage == 'doggofloofer', 'stage'] = 'doggo, pupper'"
   ]
  },
  {
   "cell_type": "markdown",
   "id": "e32afd3d",
   "metadata": {},
   "source": [
    "#### Test"
   ]
  },
  {
   "cell_type": "code",
   "execution_count": 108,
   "id": "d4421032",
   "metadata": {
    "scrolled": true
   },
   "outputs": [
    {
     "data": {
      "text/plain": [
       "pupper           224\n",
       "doggo             75\n",
       "puppo             24\n",
       "doggo, pupper     12\n",
       "floofer            9\n",
       "Name: stage, dtype: int64"
      ]
     },
     "execution_count": 108,
     "metadata": {},
     "output_type": "execute_result"
    }
   ],
   "source": [
    "df_clean.stage.value_counts()"
   ]
  },
  {
   "cell_type": "markdown",
   "id": "c83dce02",
   "metadata": {},
   "source": [
    "### TIDINESS ISSUES"
   ]
  },
  {
   "cell_type": "markdown",
   "id": "b3ab2a6f",
   "metadata": {},
   "source": [
    "### 1- Columns 'doggo', 'floofer', 'pupper', 'puppo' in df should be a single column\n"
   ]
  },
  {
   "cell_type": "markdown",
   "id": "870bac02",
   "metadata": {},
   "source": [
    "#### Code"
   ]
  },
  {
   "cell_type": "code",
   "execution_count": 109,
   "id": "95abfb68",
   "metadata": {},
   "outputs": [
    {
     "ename": "KeyError",
     "evalue": "'doggo'",
     "output_type": "error",
     "traceback": [
      "\u001b[0;31m---------------------------------------------------------------------------\u001b[0m",
      "\u001b[0;31mKeyError\u001b[0m                                  Traceback (most recent call last)",
      "\u001b[0;32m~/opt/anaconda3/lib/python3.9/site-packages/pandas/core/indexes/base.py\u001b[0m in \u001b[0;36mget_loc\u001b[0;34m(self, key, method, tolerance)\u001b[0m\n\u001b[1;32m   3360\u001b[0m             \u001b[0;32mtry\u001b[0m\u001b[0;34m:\u001b[0m\u001b[0;34m\u001b[0m\u001b[0;34m\u001b[0m\u001b[0m\n\u001b[0;32m-> 3361\u001b[0;31m                 \u001b[0;32mreturn\u001b[0m \u001b[0mself\u001b[0m\u001b[0;34m.\u001b[0m\u001b[0m_engine\u001b[0m\u001b[0;34m.\u001b[0m\u001b[0mget_loc\u001b[0m\u001b[0;34m(\u001b[0m\u001b[0mcasted_key\u001b[0m\u001b[0;34m)\u001b[0m\u001b[0;34m\u001b[0m\u001b[0;34m\u001b[0m\u001b[0m\n\u001b[0m\u001b[1;32m   3362\u001b[0m             \u001b[0;32mexcept\u001b[0m \u001b[0mKeyError\u001b[0m \u001b[0;32mas\u001b[0m \u001b[0merr\u001b[0m\u001b[0;34m:\u001b[0m\u001b[0;34m\u001b[0m\u001b[0;34m\u001b[0m\u001b[0m\n",
      "\u001b[0;32m~/opt/anaconda3/lib/python3.9/site-packages/pandas/_libs/index.pyx\u001b[0m in \u001b[0;36mpandas._libs.index.IndexEngine.get_loc\u001b[0;34m()\u001b[0m\n",
      "\u001b[0;32m~/opt/anaconda3/lib/python3.9/site-packages/pandas/_libs/index.pyx\u001b[0m in \u001b[0;36mpandas._libs.index.IndexEngine.get_loc\u001b[0;34m()\u001b[0m\n",
      "\u001b[0;32mpandas/_libs/hashtable_class_helper.pxi\u001b[0m in \u001b[0;36mpandas._libs.hashtable.PyObjectHashTable.get_item\u001b[0;34m()\u001b[0m\n",
      "\u001b[0;32mpandas/_libs/hashtable_class_helper.pxi\u001b[0m in \u001b[0;36mpandas._libs.hashtable.PyObjectHashTable.get_item\u001b[0;34m()\u001b[0m\n",
      "\u001b[0;31mKeyError\u001b[0m: 'doggo'",
      "\nThe above exception was the direct cause of the following exception:\n",
      "\u001b[0;31mKeyError\u001b[0m                                  Traceback (most recent call last)",
      "\u001b[0;32m/var/folders/xx/5rnj4h_n25d5pt02b754brq40000gn/T/ipykernel_90465/531143682.py\u001b[0m in \u001b[0;36m<module>\u001b[0;34m\u001b[0m\n\u001b[1;32m      2\u001b[0m \u001b[0mstage\u001b[0m \u001b[0;34m=\u001b[0m \u001b[0;34m[\u001b[0m\u001b[0;34m'doggo'\u001b[0m\u001b[0;34m,\u001b[0m\u001b[0;34m'pupper'\u001b[0m\u001b[0;34m,\u001b[0m \u001b[0;34m'floofer'\u001b[0m\u001b[0;34m,\u001b[0m \u001b[0;34m'puppo'\u001b[0m \u001b[0;34m]\u001b[0m\u001b[0;34m\u001b[0m\u001b[0;34m\u001b[0m\u001b[0m\n\u001b[1;32m      3\u001b[0m \u001b[0;32mfor\u001b[0m \u001b[0mi\u001b[0m \u001b[0;32min\u001b[0m \u001b[0mstage\u001b[0m\u001b[0;34m:\u001b[0m\u001b[0;34m\u001b[0m\u001b[0;34m\u001b[0m\u001b[0m\n\u001b[0;32m----> 4\u001b[0;31m         \u001b[0mdf_clean\u001b[0m\u001b[0;34m[\u001b[0m\u001b[0mi\u001b[0m\u001b[0;34m]\u001b[0m \u001b[0;34m=\u001b[0m \u001b[0mdf_clean\u001b[0m\u001b[0;34m[\u001b[0m\u001b[0mi\u001b[0m\u001b[0;34m]\u001b[0m\u001b[0;34m.\u001b[0m\u001b[0mreplace\u001b[0m\u001b[0;34m(\u001b[0m\u001b[0;34m'None'\u001b[0m\u001b[0;34m,\u001b[0m \u001b[0;34m''\u001b[0m\u001b[0;34m)\u001b[0m\u001b[0;34m\u001b[0m\u001b[0;34m\u001b[0m\u001b[0m\n\u001b[0m",
      "\u001b[0;32m~/opt/anaconda3/lib/python3.9/site-packages/pandas/core/frame.py\u001b[0m in \u001b[0;36m__getitem__\u001b[0;34m(self, key)\u001b[0m\n\u001b[1;32m   3456\u001b[0m             \u001b[0;32mif\u001b[0m \u001b[0mself\u001b[0m\u001b[0;34m.\u001b[0m\u001b[0mcolumns\u001b[0m\u001b[0;34m.\u001b[0m\u001b[0mnlevels\u001b[0m \u001b[0;34m>\u001b[0m \u001b[0;36m1\u001b[0m\u001b[0;34m:\u001b[0m\u001b[0;34m\u001b[0m\u001b[0;34m\u001b[0m\u001b[0m\n\u001b[1;32m   3457\u001b[0m                 \u001b[0;32mreturn\u001b[0m \u001b[0mself\u001b[0m\u001b[0;34m.\u001b[0m\u001b[0m_getitem_multilevel\u001b[0m\u001b[0;34m(\u001b[0m\u001b[0mkey\u001b[0m\u001b[0;34m)\u001b[0m\u001b[0;34m\u001b[0m\u001b[0;34m\u001b[0m\u001b[0m\n\u001b[0;32m-> 3458\u001b[0;31m             \u001b[0mindexer\u001b[0m \u001b[0;34m=\u001b[0m \u001b[0mself\u001b[0m\u001b[0;34m.\u001b[0m\u001b[0mcolumns\u001b[0m\u001b[0;34m.\u001b[0m\u001b[0mget_loc\u001b[0m\u001b[0;34m(\u001b[0m\u001b[0mkey\u001b[0m\u001b[0;34m)\u001b[0m\u001b[0;34m\u001b[0m\u001b[0;34m\u001b[0m\u001b[0m\n\u001b[0m\u001b[1;32m   3459\u001b[0m             \u001b[0;32mif\u001b[0m \u001b[0mis_integer\u001b[0m\u001b[0;34m(\u001b[0m\u001b[0mindexer\u001b[0m\u001b[0;34m)\u001b[0m\u001b[0;34m:\u001b[0m\u001b[0;34m\u001b[0m\u001b[0;34m\u001b[0m\u001b[0m\n\u001b[1;32m   3460\u001b[0m                 \u001b[0mindexer\u001b[0m \u001b[0;34m=\u001b[0m \u001b[0;34m[\u001b[0m\u001b[0mindexer\u001b[0m\u001b[0;34m]\u001b[0m\u001b[0;34m\u001b[0m\u001b[0;34m\u001b[0m\u001b[0m\n",
      "\u001b[0;32m~/opt/anaconda3/lib/python3.9/site-packages/pandas/core/indexes/base.py\u001b[0m in \u001b[0;36mget_loc\u001b[0;34m(self, key, method, tolerance)\u001b[0m\n\u001b[1;32m   3361\u001b[0m                 \u001b[0;32mreturn\u001b[0m \u001b[0mself\u001b[0m\u001b[0;34m.\u001b[0m\u001b[0m_engine\u001b[0m\u001b[0;34m.\u001b[0m\u001b[0mget_loc\u001b[0m\u001b[0;34m(\u001b[0m\u001b[0mcasted_key\u001b[0m\u001b[0;34m)\u001b[0m\u001b[0;34m\u001b[0m\u001b[0;34m\u001b[0m\u001b[0m\n\u001b[1;32m   3362\u001b[0m             \u001b[0;32mexcept\u001b[0m \u001b[0mKeyError\u001b[0m \u001b[0;32mas\u001b[0m \u001b[0merr\u001b[0m\u001b[0;34m:\u001b[0m\u001b[0;34m\u001b[0m\u001b[0;34m\u001b[0m\u001b[0m\n\u001b[0;32m-> 3363\u001b[0;31m                 \u001b[0;32mraise\u001b[0m \u001b[0mKeyError\u001b[0m\u001b[0;34m(\u001b[0m\u001b[0mkey\u001b[0m\u001b[0;34m)\u001b[0m \u001b[0;32mfrom\u001b[0m \u001b[0merr\u001b[0m\u001b[0;34m\u001b[0m\u001b[0;34m\u001b[0m\u001b[0m\n\u001b[0m\u001b[1;32m   3364\u001b[0m \u001b[0;34m\u001b[0m\u001b[0m\n\u001b[1;32m   3365\u001b[0m         \u001b[0;32mif\u001b[0m \u001b[0mis_scalar\u001b[0m\u001b[0;34m(\u001b[0m\u001b[0mkey\u001b[0m\u001b[0;34m)\u001b[0m \u001b[0;32mand\u001b[0m \u001b[0misna\u001b[0m\u001b[0;34m(\u001b[0m\u001b[0mkey\u001b[0m\u001b[0;34m)\u001b[0m \u001b[0;32mand\u001b[0m \u001b[0;32mnot\u001b[0m \u001b[0mself\u001b[0m\u001b[0;34m.\u001b[0m\u001b[0mhasnans\u001b[0m\u001b[0;34m:\u001b[0m\u001b[0;34m\u001b[0m\u001b[0;34m\u001b[0m\u001b[0m\n",
      "\u001b[0;31mKeyError\u001b[0m: 'doggo'"
     ]
    }
   ],
   "source": [
    "# use a for loop to replace all the 'None' before combining the columns\n",
    "stage = ['doggo','pupper', 'floofer', 'puppo' ]\n",
    "for i in stage:\n",
    "        df_clean[i] = df_clean[i].replace('None', '')"
   ]
  },
  {
   "cell_type": "code",
   "execution_count": null,
   "id": "8ae50ae6",
   "metadata": {
    "scrolled": true
   },
   "outputs": [],
   "source": [
    "# use cat to combine columns\n",
    "df_clean['stage'] = df_clean.doggo.str.cat(df_clean.floofer).str.cat(df_clean.pupper).str.cat(df_clean.puppo)\n",
    "\n",
    " \n",
    "# drop the four old colomns\n",
    "df_clean = df_clean.drop(['doggo','floofer','pupper','puppo'], axis = 1)"
   ]
  },
  {
   "cell_type": "code",
   "execution_count": null,
   "id": "c9cb68bd",
   "metadata": {},
   "outputs": [],
   "source": [
    "# use np.nan to fill the empty cells\n",
    "df_clean['stage'] = df_clean['stage'].replace('', np.nan)"
   ]
  },
  {
   "cell_type": "markdown",
   "id": "499aad08",
   "metadata": {},
   "source": [
    "#### Test"
   ]
  },
  {
   "cell_type": "code",
   "execution_count": 110,
   "id": "a7865bc8",
   "metadata": {
    "scrolled": true
   },
   "outputs": [
    {
     "data": {
      "text/html": [
       "<div>\n",
       "<style scoped>\n",
       "    .dataframe tbody tr th:only-of-type {\n",
       "        vertical-align: middle;\n",
       "    }\n",
       "\n",
       "    .dataframe tbody tr th {\n",
       "        vertical-align: top;\n",
       "    }\n",
       "\n",
       "    .dataframe thead th {\n",
       "        text-align: right;\n",
       "    }\n",
       "</style>\n",
       "<table border=\"1\" class=\"dataframe\">\n",
       "  <thead>\n",
       "    <tr style=\"text-align: right;\">\n",
       "      <th></th>\n",
       "      <th>tweet_id</th>\n",
       "      <th>timestamp</th>\n",
       "      <th>text</th>\n",
       "      <th>rating_numerator</th>\n",
       "      <th>rating_denominator</th>\n",
       "      <th>name</th>\n",
       "      <th>stage</th>\n",
       "    </tr>\n",
       "  </thead>\n",
       "  <tbody>\n",
       "    <tr>\n",
       "      <th>0</th>\n",
       "      <td>892420643555336193</td>\n",
       "      <td>2017-08-01 16:23:56+00:00</td>\n",
       "      <td>This is Phineas. He's a mystical boy. Only eve...</td>\n",
       "      <td>13</td>\n",
       "      <td>10</td>\n",
       "      <td>Phineas</td>\n",
       "      <td>NaN</td>\n",
       "    </tr>\n",
       "    <tr>\n",
       "      <th>1</th>\n",
       "      <td>892177421306343426</td>\n",
       "      <td>2017-08-01 00:17:27+00:00</td>\n",
       "      <td>This is Tilly. She's just checking pup on you....</td>\n",
       "      <td>13</td>\n",
       "      <td>10</td>\n",
       "      <td>Tilly</td>\n",
       "      <td>NaN</td>\n",
       "    </tr>\n",
       "    <tr>\n",
       "      <th>2</th>\n",
       "      <td>891815181378084864</td>\n",
       "      <td>2017-07-31 00:18:03+00:00</td>\n",
       "      <td>This is Archie. He is a rare Norwegian Pouncin...</td>\n",
       "      <td>12</td>\n",
       "      <td>10</td>\n",
       "      <td>Archie</td>\n",
       "      <td>NaN</td>\n",
       "    </tr>\n",
       "    <tr>\n",
       "      <th>3</th>\n",
       "      <td>891689557279858688</td>\n",
       "      <td>2017-07-30 15:58:51+00:00</td>\n",
       "      <td>This is Darla. She commenced a snooze mid meal...</td>\n",
       "      <td>13</td>\n",
       "      <td>10</td>\n",
       "      <td>Darla</td>\n",
       "      <td>NaN</td>\n",
       "    </tr>\n",
       "    <tr>\n",
       "      <th>4</th>\n",
       "      <td>891327558926688256</td>\n",
       "      <td>2017-07-29 16:00:24+00:00</td>\n",
       "      <td>This is Franklin. He would like you to stop ca...</td>\n",
       "      <td>12</td>\n",
       "      <td>10</td>\n",
       "      <td>Franklin</td>\n",
       "      <td>NaN</td>\n",
       "    </tr>\n",
       "  </tbody>\n",
       "</table>\n",
       "</div>"
      ],
      "text/plain": [
       "             tweet_id                 timestamp  \\\n",
       "0  892420643555336193 2017-08-01 16:23:56+00:00   \n",
       "1  892177421306343426 2017-08-01 00:17:27+00:00   \n",
       "2  891815181378084864 2017-07-31 00:18:03+00:00   \n",
       "3  891689557279858688 2017-07-30 15:58:51+00:00   \n",
       "4  891327558926688256 2017-07-29 16:00:24+00:00   \n",
       "\n",
       "                                                text  rating_numerator  \\\n",
       "0  This is Phineas. He's a mystical boy. Only eve...                13   \n",
       "1  This is Tilly. She's just checking pup on you....                13   \n",
       "2  This is Archie. He is a rare Norwegian Pouncin...                12   \n",
       "3  This is Darla. She commenced a snooze mid meal...                13   \n",
       "4  This is Franklin. He would like you to stop ca...                12   \n",
       "\n",
       "   rating_denominator      name stage  \n",
       "0                  10   Phineas   NaN  \n",
       "1                  10     Tilly   NaN  \n",
       "2                  10    Archie   NaN  \n",
       "3                  10     Darla   NaN  \n",
       "4                  10  Franklin   NaN  "
      ]
     },
     "execution_count": 110,
     "metadata": {},
     "output_type": "execute_result"
    }
   ],
   "source": [
    "df_clean.head(5)"
   ]
  },
  {
   "cell_type": "markdown",
   "id": "dad0a6d0",
   "metadata": {},
   "source": [
    "### 2.Change tweet_id to type int64 for tweet json data in order to merge with the other 2 tables"
   ]
  },
  {
   "cell_type": "markdown",
   "id": "acd4a427",
   "metadata": {},
   "source": [
    "#### Code"
   ]
  },
  {
   "cell_type": "code",
   "execution_count": 111,
   "id": "90327232",
   "metadata": {},
   "outputs": [],
   "source": [
    "df_json_clean.tweet_id = pd.to_numeric(df_json_clean.tweet_id)"
   ]
  },
  {
   "cell_type": "code",
   "execution_count": 112,
   "id": "bfba972e",
   "metadata": {
    "scrolled": true
   },
   "outputs": [
    {
     "data": {
      "text/plain": [
       "tweet_id          int64\n",
       "favorite_count    int64\n",
       "retweet_count     int64\n",
       "dtype: object"
      ]
     },
     "execution_count": 112,
     "metadata": {},
     "output_type": "execute_result"
    }
   ],
   "source": [
    "df_json_clean.dtypes\n"
   ]
  },
  {
   "cell_type": "markdown",
   "id": "9a4609f4",
   "metadata": {},
   "source": [
    "### FINAL BEFORE STORING THE DATA: Join 'df_json_clean' and 'df_image_clean' to 'df_clean'"
   ]
  },
  {
   "cell_type": "code",
   "execution_count": 113,
   "id": "f45b749f",
   "metadata": {},
   "outputs": [],
   "source": [
    "twitter = pd.merge(df_clean, df_image_clean, how = 'left', on = ['tweet_id'])"
   ]
  },
  {
   "cell_type": "code",
   "execution_count": 114,
   "id": "7180fa03",
   "metadata": {},
   "outputs": [],
   "source": [
    "#only keep rows that have pictures\n",
    "twitter = twitter[twitter['jpg_url'].notnull()]"
   ]
  },
  {
   "cell_type": "code",
   "execution_count": 115,
   "id": "367d70cf",
   "metadata": {},
   "outputs": [
    {
     "name": "stdout",
     "output_type": "stream",
     "text": [
      "<class 'pandas.core.frame.DataFrame'>\n",
      "Int64Index: 1994 entries, 0 to 2174\n",
      "Data columns (total 18 columns):\n",
      " #   Column              Non-Null Count  Dtype              \n",
      "---  ------              --------------  -----              \n",
      " 0   tweet_id            1994 non-null   object             \n",
      " 1   timestamp           1994 non-null   datetime64[ns, UTC]\n",
      " 2   text                1994 non-null   object             \n",
      " 3   rating_numerator    1994 non-null   int64              \n",
      " 4   rating_denominator  1994 non-null   int64              \n",
      " 5   name                1994 non-null   object             \n",
      " 6   stage               306 non-null    object             \n",
      " 7   jpg_url             1994 non-null   object             \n",
      " 8   img_num             1994 non-null   float64            \n",
      " 9   first_prediction    1994 non-null   object             \n",
      " 10  first_confidence    1994 non-null   float64            \n",
      " 11  first_dog           1994 non-null   object             \n",
      " 12  second_prediction   1994 non-null   object             \n",
      " 13  second_confidence   1994 non-null   float64            \n",
      " 14  second_dog          1994 non-null   object             \n",
      " 15  third_prediction    1994 non-null   object             \n",
      " 16  third_confidence    1994 non-null   float64            \n",
      " 17  third_dog           1994 non-null   object             \n",
      "dtypes: datetime64[ns, UTC](1), float64(4), int64(2), object(11)\n",
      "memory usage: 296.0+ KB\n"
     ]
    }
   ],
   "source": [
    "twitter.info()"
   ]
  },
  {
   "cell_type": "code",
   "execution_count": 116,
   "id": "25f540b2",
   "metadata": {},
   "outputs": [],
   "source": [
    "twitter_clean = pd.merge(twitter, df_json_clean, how = 'left', on = ['tweet_id'])"
   ]
  },
  {
   "cell_type": "code",
   "execution_count": 117,
   "id": "9b876275",
   "metadata": {},
   "outputs": [
    {
     "name": "stdout",
     "output_type": "stream",
     "text": [
      "<class 'pandas.core.frame.DataFrame'>\n",
      "Int64Index: 1994 entries, 0 to 1993\n",
      "Data columns (total 20 columns):\n",
      " #   Column              Non-Null Count  Dtype              \n",
      "---  ------              --------------  -----              \n",
      " 0   tweet_id            1994 non-null   object             \n",
      " 1   timestamp           1994 non-null   datetime64[ns, UTC]\n",
      " 2   text                1994 non-null   object             \n",
      " 3   rating_numerator    1994 non-null   int64              \n",
      " 4   rating_denominator  1994 non-null   int64              \n",
      " 5   name                1994 non-null   object             \n",
      " 6   stage               306 non-null    object             \n",
      " 7   jpg_url             1994 non-null   object             \n",
      " 8   img_num             1994 non-null   float64            \n",
      " 9   first_prediction    1994 non-null   object             \n",
      " 10  first_confidence    1994 non-null   float64            \n",
      " 11  first_dog           1994 non-null   object             \n",
      " 12  second_prediction   1994 non-null   object             \n",
      " 13  second_confidence   1994 non-null   float64            \n",
      " 14  second_dog          1994 non-null   object             \n",
      " 15  third_prediction    1994 non-null   object             \n",
      " 16  third_confidence    1994 non-null   float64            \n",
      " 17  third_dog           1994 non-null   object             \n",
      " 18  favorite_count      1986 non-null   float64            \n",
      " 19  retweet_count       1986 non-null   float64            \n",
      "dtypes: datetime64[ns, UTC](1), float64(6), int64(2), object(11)\n",
      "memory usage: 327.1+ KB\n"
     ]
    }
   ],
   "source": [
    "twitter_clean.info()"
   ]
  },
  {
   "cell_type": "markdown",
   "id": "b3d989fc",
   "metadata": {},
   "source": [
    "## Storing Data\n",
    "Save gathered, assessed, and cleaned master dataset (twitter_clean) to a CSV file \"twitter_archive_master.csv\"."
   ]
  },
  {
   "cell_type": "code",
   "execution_count": 118,
   "id": "4dc026f5",
   "metadata": {},
   "outputs": [],
   "source": [
    "twitter_clean.to_csv(\"twitter_archive_master.csv\", index = False, encoding = 'utf-8')"
   ]
  },
  {
   "cell_type": "markdown",
   "id": "23b97df4",
   "metadata": {},
   "source": [
    "## Analyzing and Visualizing Data\n",
    "In this section, analyze and visualize your wrangled data. You must produce at least **three (3) insights and one (1) visualization.**"
   ]
  },
  {
   "cell_type": "code",
   "execution_count": 119,
   "id": "1fb77c91",
   "metadata": {
    "scrolled": true
   },
   "outputs": [
    {
     "data": {
      "text/html": [
       "<div>\n",
       "<style scoped>\n",
       "    .dataframe tbody tr th:only-of-type {\n",
       "        vertical-align: middle;\n",
       "    }\n",
       "\n",
       "    .dataframe tbody tr th {\n",
       "        vertical-align: top;\n",
       "    }\n",
       "\n",
       "    .dataframe thead th {\n",
       "        text-align: right;\n",
       "    }\n",
       "</style>\n",
       "<table border=\"1\" class=\"dataframe\">\n",
       "  <thead>\n",
       "    <tr style=\"text-align: right;\">\n",
       "      <th></th>\n",
       "      <th>tweet_id</th>\n",
       "      <th>timestamp</th>\n",
       "      <th>text</th>\n",
       "      <th>rating_numerator</th>\n",
       "      <th>rating_denominator</th>\n",
       "      <th>name</th>\n",
       "      <th>stage</th>\n",
       "      <th>jpg_url</th>\n",
       "      <th>img_num</th>\n",
       "      <th>first_prediction</th>\n",
       "      <th>first_confidence</th>\n",
       "      <th>first_dog</th>\n",
       "      <th>second_prediction</th>\n",
       "      <th>second_confidence</th>\n",
       "      <th>second_dog</th>\n",
       "      <th>third_prediction</th>\n",
       "      <th>third_confidence</th>\n",
       "      <th>third_dog</th>\n",
       "      <th>favorite_count</th>\n",
       "      <th>retweet_count</th>\n",
       "    </tr>\n",
       "  </thead>\n",
       "  <tbody>\n",
       "    <tr>\n",
       "      <th>0</th>\n",
       "      <td>892420643555336193</td>\n",
       "      <td>2017-08-01 16:23:56+00:00</td>\n",
       "      <td>This is Phineas. He's a mystical boy. Only eve...</td>\n",
       "      <td>13</td>\n",
       "      <td>10</td>\n",
       "      <td>Phineas</td>\n",
       "      <td>NaN</td>\n",
       "      <td>https://pbs.twimg.com/media/DGKD1-bXoAAIAUK.jpg</td>\n",
       "      <td>1.0</td>\n",
       "      <td>Orange</td>\n",
       "      <td>0.097049</td>\n",
       "      <td>False</td>\n",
       "      <td>Bagel</td>\n",
       "      <td>0.085851</td>\n",
       "      <td>False</td>\n",
       "      <td>Banana</td>\n",
       "      <td>0.076110</td>\n",
       "      <td>False</td>\n",
       "      <td>33783.0</td>\n",
       "      <td>6996.0</td>\n",
       "    </tr>\n",
       "    <tr>\n",
       "      <th>1</th>\n",
       "      <td>892177421306343426</td>\n",
       "      <td>2017-08-01 00:17:27+00:00</td>\n",
       "      <td>This is Tilly. She's just checking pup on you....</td>\n",
       "      <td>13</td>\n",
       "      <td>10</td>\n",
       "      <td>Tilly</td>\n",
       "      <td>NaN</td>\n",
       "      <td>https://pbs.twimg.com/media/DGGmoV4XsAAUL6n.jpg</td>\n",
       "      <td>1.0</td>\n",
       "      <td>Chihuahua</td>\n",
       "      <td>0.323581</td>\n",
       "      <td>True</td>\n",
       "      <td>Pekinese</td>\n",
       "      <td>0.090647</td>\n",
       "      <td>True</td>\n",
       "      <td>Papillon</td>\n",
       "      <td>0.068957</td>\n",
       "      <td>True</td>\n",
       "      <td>29308.0</td>\n",
       "      <td>5296.0</td>\n",
       "    </tr>\n",
       "    <tr>\n",
       "      <th>2</th>\n",
       "      <td>891815181378084864</td>\n",
       "      <td>2017-07-31 00:18:03+00:00</td>\n",
       "      <td>This is Archie. He is a rare Norwegian Pouncin...</td>\n",
       "      <td>12</td>\n",
       "      <td>10</td>\n",
       "      <td>Archie</td>\n",
       "      <td>NaN</td>\n",
       "      <td>https://pbs.twimg.com/media/DGBdLU1WsAANxJ9.jpg</td>\n",
       "      <td>1.0</td>\n",
       "      <td>Chihuahua</td>\n",
       "      <td>0.716012</td>\n",
       "      <td>True</td>\n",
       "      <td>Malamute</td>\n",
       "      <td>0.078253</td>\n",
       "      <td>True</td>\n",
       "      <td>Kelpie</td>\n",
       "      <td>0.031379</td>\n",
       "      <td>True</td>\n",
       "      <td>22036.0</td>\n",
       "      <td>3475.0</td>\n",
       "    </tr>\n",
       "    <tr>\n",
       "      <th>3</th>\n",
       "      <td>891689557279858688</td>\n",
       "      <td>2017-07-30 15:58:51+00:00</td>\n",
       "      <td>This is Darla. She commenced a snooze mid meal...</td>\n",
       "      <td>13</td>\n",
       "      <td>10</td>\n",
       "      <td>Darla</td>\n",
       "      <td>NaN</td>\n",
       "      <td>https://pbs.twimg.com/media/DF_q7IAWsAEuuN8.jpg</td>\n",
       "      <td>1.0</td>\n",
       "      <td>Paper_towel</td>\n",
       "      <td>0.170278</td>\n",
       "      <td>False</td>\n",
       "      <td>Labrador_retriever</td>\n",
       "      <td>0.168086</td>\n",
       "      <td>True</td>\n",
       "      <td>Spatula</td>\n",
       "      <td>0.040836</td>\n",
       "      <td>False</td>\n",
       "      <td>36899.0</td>\n",
       "      <td>7218.0</td>\n",
       "    </tr>\n",
       "    <tr>\n",
       "      <th>4</th>\n",
       "      <td>891327558926688256</td>\n",
       "      <td>2017-07-29 16:00:24+00:00</td>\n",
       "      <td>This is Franklin. He would like you to stop ca...</td>\n",
       "      <td>12</td>\n",
       "      <td>10</td>\n",
       "      <td>Franklin</td>\n",
       "      <td>NaN</td>\n",
       "      <td>https://pbs.twimg.com/media/DF6hr6BUMAAzZgT.jpg</td>\n",
       "      <td>2.0</td>\n",
       "      <td>Basset</td>\n",
       "      <td>0.555712</td>\n",
       "      <td>True</td>\n",
       "      <td>English_springer</td>\n",
       "      <td>0.225770</td>\n",
       "      <td>True</td>\n",
       "      <td>German_short-haired_pointer</td>\n",
       "      <td>0.175219</td>\n",
       "      <td>True</td>\n",
       "      <td>35286.0</td>\n",
       "      <td>7750.0</td>\n",
       "    </tr>\n",
       "  </tbody>\n",
       "</table>\n",
       "</div>"
      ],
      "text/plain": [
       "             tweet_id                 timestamp  \\\n",
       "0  892420643555336193 2017-08-01 16:23:56+00:00   \n",
       "1  892177421306343426 2017-08-01 00:17:27+00:00   \n",
       "2  891815181378084864 2017-07-31 00:18:03+00:00   \n",
       "3  891689557279858688 2017-07-30 15:58:51+00:00   \n",
       "4  891327558926688256 2017-07-29 16:00:24+00:00   \n",
       "\n",
       "                                                text  rating_numerator  \\\n",
       "0  This is Phineas. He's a mystical boy. Only eve...                13   \n",
       "1  This is Tilly. She's just checking pup on you....                13   \n",
       "2  This is Archie. He is a rare Norwegian Pouncin...                12   \n",
       "3  This is Darla. She commenced a snooze mid meal...                13   \n",
       "4  This is Franklin. He would like you to stop ca...                12   \n",
       "\n",
       "   rating_denominator      name stage  \\\n",
       "0                  10   Phineas   NaN   \n",
       "1                  10     Tilly   NaN   \n",
       "2                  10    Archie   NaN   \n",
       "3                  10     Darla   NaN   \n",
       "4                  10  Franklin   NaN   \n",
       "\n",
       "                                           jpg_url  img_num first_prediction  \\\n",
       "0  https://pbs.twimg.com/media/DGKD1-bXoAAIAUK.jpg      1.0           Orange   \n",
       "1  https://pbs.twimg.com/media/DGGmoV4XsAAUL6n.jpg      1.0        Chihuahua   \n",
       "2  https://pbs.twimg.com/media/DGBdLU1WsAANxJ9.jpg      1.0        Chihuahua   \n",
       "3  https://pbs.twimg.com/media/DF_q7IAWsAEuuN8.jpg      1.0      Paper_towel   \n",
       "4  https://pbs.twimg.com/media/DF6hr6BUMAAzZgT.jpg      2.0           Basset   \n",
       "\n",
       "   first_confidence first_dog   second_prediction  second_confidence  \\\n",
       "0          0.097049     False               Bagel           0.085851   \n",
       "1          0.323581      True            Pekinese           0.090647   \n",
       "2          0.716012      True            Malamute           0.078253   \n",
       "3          0.170278     False  Labrador_retriever           0.168086   \n",
       "4          0.555712      True    English_springer           0.225770   \n",
       "\n",
       "  second_dog             third_prediction  third_confidence third_dog  \\\n",
       "0      False                       Banana          0.076110     False   \n",
       "1       True                     Papillon          0.068957      True   \n",
       "2       True                       Kelpie          0.031379      True   \n",
       "3       True                      Spatula          0.040836     False   \n",
       "4       True  German_short-haired_pointer          0.175219      True   \n",
       "\n",
       "   favorite_count  retweet_count  \n",
       "0         33783.0         6996.0  \n",
       "1         29308.0         5296.0  \n",
       "2         22036.0         3475.0  \n",
       "3         36899.0         7218.0  \n",
       "4         35286.0         7750.0  "
      ]
     },
     "execution_count": 119,
     "metadata": {},
     "output_type": "execute_result"
    }
   ],
   "source": [
    "twitter_clean.head()"
   ]
  },
  {
   "cell_type": "markdown",
   "id": "3709919b",
   "metadata": {},
   "source": [
    "# Most Popular Dog Breeds"
   ]
  },
  {
   "cell_type": "code",
   "execution_count": 122,
   "id": "64f62130",
   "metadata": {
    "scrolled": true
   },
   "outputs": [
    {
     "data": {
      "text/plain": [
       "Index(['Golden_retriever', 'Labrador_retriever', 'Pembroke', 'Chihuahua',\n",
       "       'Pug', 'Chow', 'Samoyed', 'Toy_poodle'],\n",
       "      dtype='object')"
      ]
     },
     "execution_count": 122,
     "metadata": {},
     "output_type": "execute_result"
    }
   ],
   "source": [
    "twitter_clean.first_prediction.value_counts()[0:8].index"
   ]
  },
  {
   "cell_type": "code",
   "execution_count": 123,
   "id": "a0c2a355",
   "metadata": {
    "scrolled": false
   },
   "outputs": [
    {
     "data": {
      "image/png": "[encoded data removed]",
      "text/plain": [
       "<Figure size 1080x432 with 1 Axes>"
      ]
     },
     "metadata": {},
     "output_type": "display_data"
    }
   ],
   "source": [
    "#PLOTTING A BARCHART TO SHOW THE MOST POPULAR DOG BREEDS\n",
    "plt.figure(figsize = (15,6))\n",
    "base_color = sb.color_palette()[0]\n",
    "sb.set_style('whitegrid')\n",
    "sb.barplot(data = twitter_clean, x = twitter_clean.first_prediction.value_counts()[0:8].index,\n",
    "            y = twitter_clean.first_prediction.value_counts()[0:8], color = base_color);\n",
    "plt.xticks(rotation=90);\n",
    "sb.set(font_scale = 2);\n",
    "plt.xlabel(\"Dog Breeds\",fontsize = 22);\n",
    "plt.ylabel(\"Prediction Count\",fontsize = 18);\n",
    "plt.title(\"Popular Dog Breeds\",fontsize = 18);    "
   ]
  },
  {
   "cell_type": "markdown",
   "id": "db485f46",
   "metadata": {},
   "source": [
    "## Most Popular Dog Stage by Retweet Count"
   ]
  },
  {
   "cell_type": "code",
   "execution_count": 124,
   "id": "ae0a1849",
   "metadata": {},
   "outputs": [
    {
     "name": "stdout",
     "output_type": "stream",
     "text": [
      "Count of the Unique Dog breeds is :  5\n"
     ]
    }
   ],
   "source": [
    "# Generating a copy of the dataframe\n",
    "df_stage=twitter_clean.copy()\n",
    "\n",
    "# Fetching the count of unique stages\n",
    "print('Count of the Unique Dog breeds is : ', df_stage['stage'].nunique())"
   ]
  },
  {
   "cell_type": "code",
   "execution_count": 125,
   "id": "ae2a274a",
   "metadata": {
    "scrolled": false
   },
   "outputs": [
    {
     "data": {
      "text/html": [
       "<div>\n",
       "<style scoped>\n",
       "    .dataframe tbody tr th:only-of-type {\n",
       "        vertical-align: middle;\n",
       "    }\n",
       "\n",
       "    .dataframe tbody tr th {\n",
       "        vertical-align: top;\n",
       "    }\n",
       "\n",
       "    .dataframe thead th {\n",
       "        text-align: right;\n",
       "    }\n",
       "</style>\n",
       "<table border=\"1\" class=\"dataframe\">\n",
       "  <thead>\n",
       "    <tr style=\"text-align: right;\">\n",
       "      <th></th>\n",
       "      <th>stage</th>\n",
       "      <th>frequency</th>\n",
       "    </tr>\n",
       "  </thead>\n",
       "  <tbody>\n",
       "    <tr>\n",
       "      <th>0</th>\n",
       "      <td>pupper</td>\n",
       "      <td>203</td>\n",
       "    </tr>\n",
       "    <tr>\n",
       "      <th>1</th>\n",
       "      <td>doggo</td>\n",
       "      <td>63</td>\n",
       "    </tr>\n",
       "    <tr>\n",
       "      <th>2</th>\n",
       "      <td>puppo</td>\n",
       "      <td>22</td>\n",
       "    </tr>\n",
       "    <tr>\n",
       "      <th>3</th>\n",
       "      <td>doggo, pupper</td>\n",
       "      <td>11</td>\n",
       "    </tr>\n",
       "    <tr>\n",
       "      <th>4</th>\n",
       "      <td>floofer</td>\n",
       "      <td>7</td>\n",
       "    </tr>\n",
       "  </tbody>\n",
       "</table>\n",
       "</div>"
      ],
      "text/plain": [
       "           stage  frequency\n",
       "0         pupper        203\n",
       "1          doggo         63\n",
       "2          puppo         22\n",
       "3  doggo, pupper         11\n",
       "4        floofer          7"
      ]
     },
     "execution_count": 125,
     "metadata": {},
     "output_type": "execute_result"
    }
   ],
   "source": [
    "df_stage.stage.value_counts()[0:5]\n",
    "frequency_dict = df_stage.stage.value_counts().to_dict()\n",
    "frequency = pd.DataFrame(list(frequency_dict.items()), columns = ['stage', 'frequency'])\n",
    "frequency"
   ]
  },
  {
   "cell_type": "code",
   "execution_count": 126,
   "id": "4e95378c",
   "metadata": {},
   "outputs": [
    {
     "data": {
      "text/html": [
       "<div>\n",
       "<style scoped>\n",
       "    .dataframe tbody tr th:only-of-type {\n",
       "        vertical-align: middle;\n",
       "    }\n",
       "\n",
       "    .dataframe tbody tr th {\n",
       "        vertical-align: top;\n",
       "    }\n",
       "\n",
       "    .dataframe thead th {\n",
       "        text-align: right;\n",
       "    }\n",
       "</style>\n",
       "<table border=\"1\" class=\"dataframe\">\n",
       "  <thead>\n",
       "    <tr style=\"text-align: right;\">\n",
       "      <th></th>\n",
       "      <th>stage</th>\n",
       "      <th>frequency</th>\n",
       "      <th>total_retweets</th>\n",
       "    </tr>\n",
       "  </thead>\n",
       "  <tbody>\n",
       "    <tr>\n",
       "      <th>0</th>\n",
       "      <td>pupper</td>\n",
       "      <td>203</td>\n",
       "      <td>387192.0</td>\n",
       "    </tr>\n",
       "    <tr>\n",
       "      <th>1</th>\n",
       "      <td>doggo</td>\n",
       "      <td>63</td>\n",
       "      <td>369920.0</td>\n",
       "    </tr>\n",
       "    <tr>\n",
       "      <th>2</th>\n",
       "      <td>puppo</td>\n",
       "      <td>22</td>\n",
       "      <td>117044.0</td>\n",
       "    </tr>\n",
       "    <tr>\n",
       "      <th>3</th>\n",
       "      <td>doggo, pupper</td>\n",
       "      <td>11</td>\n",
       "      <td>49990.0</td>\n",
       "    </tr>\n",
       "    <tr>\n",
       "      <th>4</th>\n",
       "      <td>floofer</td>\n",
       "      <td>7</td>\n",
       "      <td>27851.0</td>\n",
       "    </tr>\n",
       "  </tbody>\n",
       "</table>\n",
       "</div>"
      ],
      "text/plain": [
       "           stage  frequency  total_retweets\n",
       "0         pupper        203        387192.0\n",
       "1          doggo         63        369920.0\n",
       "2          puppo         22        117044.0\n",
       "3  doggo, pupper         11         49990.0\n",
       "4        floofer          7         27851.0"
      ]
     },
     "execution_count": 126,
     "metadata": {},
     "output_type": "execute_result"
    }
   ],
   "source": [
    "# Generating a new field \"total_retweet\"\n",
    "total_retwt =[]\n",
    "for i in frequency.stage:\n",
    "    tr = twitter_clean[twitter_clean.stage == i]['retweet_count'].sum()\n",
    "    total_retwt.append(tr)\n",
    "\n",
    "frequency['total_retweets'] = total_retwt\n",
    "frequency"
   ]
  },
  {
   "cell_type": "code",
   "execution_count": 127,
   "id": "a233f89f",
   "metadata": {
    "scrolled": true
   },
   "outputs": [
    {
     "data": {
      "text/html": [
       "<div>\n",
       "<style scoped>\n",
       "    .dataframe tbody tr th:only-of-type {\n",
       "        vertical-align: middle;\n",
       "    }\n",
       "\n",
       "    .dataframe tbody tr th {\n",
       "        vertical-align: top;\n",
       "    }\n",
       "\n",
       "    .dataframe thead th {\n",
       "        text-align: right;\n",
       "    }\n",
       "</style>\n",
       "<table border=\"1\" class=\"dataframe\">\n",
       "  <thead>\n",
       "    <tr style=\"text-align: right;\">\n",
       "      <th></th>\n",
       "      <th>stage</th>\n",
       "      <th>frequency</th>\n",
       "      <th>total_retweets</th>\n",
       "      <th>retweet_mean</th>\n",
       "    </tr>\n",
       "  </thead>\n",
       "  <tbody>\n",
       "    <tr>\n",
       "      <th>0</th>\n",
       "      <td>pupper</td>\n",
       "      <td>203</td>\n",
       "      <td>387192.0</td>\n",
       "      <td>1907.0</td>\n",
       "    </tr>\n",
       "    <tr>\n",
       "      <th>1</th>\n",
       "      <td>doggo</td>\n",
       "      <td>63</td>\n",
       "      <td>369920.0</td>\n",
       "      <td>5871.0</td>\n",
       "    </tr>\n",
       "    <tr>\n",
       "      <th>2</th>\n",
       "      <td>puppo</td>\n",
       "      <td>22</td>\n",
       "      <td>117044.0</td>\n",
       "      <td>5320.0</td>\n",
       "    </tr>\n",
       "    <tr>\n",
       "      <th>3</th>\n",
       "      <td>doggo, pupper</td>\n",
       "      <td>11</td>\n",
       "      <td>49990.0</td>\n",
       "      <td>4544.0</td>\n",
       "    </tr>\n",
       "    <tr>\n",
       "      <th>4</th>\n",
       "      <td>floofer</td>\n",
       "      <td>7</td>\n",
       "      <td>27851.0</td>\n",
       "      <td>3978.0</td>\n",
       "    </tr>\n",
       "  </tbody>\n",
       "</table>\n",
       "</div>"
      ],
      "text/plain": [
       "           stage  frequency  total_retweets  retweet_mean\n",
       "0         pupper        203        387192.0        1907.0\n",
       "1          doggo         63        369920.0        5871.0\n",
       "2          puppo         22        117044.0        5320.0\n",
       "3  doggo, pupper         11         49990.0        4544.0\n",
       "4        floofer          7         27851.0        3978.0"
      ]
     },
     "execution_count": 127,
     "metadata": {},
     "output_type": "execute_result"
    }
   ],
   "source": [
    "# Calculating the retweet mean\n",
    "frequency['retweet_mean']=frequency['total_retweets']//frequency['frequency']\n",
    "frequency"
   ]
  },
  {
   "cell_type": "code",
   "execution_count": 128,
   "id": "bd3811b9",
   "metadata": {},
   "outputs": [
    {
     "data": {
      "text/html": [
       "<div>\n",
       "<style scoped>\n",
       "    .dataframe tbody tr th:only-of-type {\n",
       "        vertical-align: middle;\n",
       "    }\n",
       "\n",
       "    .dataframe tbody tr th {\n",
       "        vertical-align: top;\n",
       "    }\n",
       "\n",
       "    .dataframe thead th {\n",
       "        text-align: right;\n",
       "    }\n",
       "</style>\n",
       "<table border=\"1\" class=\"dataframe\">\n",
       "  <thead>\n",
       "    <tr style=\"text-align: right;\">\n",
       "      <th></th>\n",
       "      <th>stage</th>\n",
       "      <th>frequency</th>\n",
       "      <th>total_retweets</th>\n",
       "      <th>retweet_mean</th>\n",
       "    </tr>\n",
       "  </thead>\n",
       "  <tbody>\n",
       "    <tr>\n",
       "      <th>0</th>\n",
       "      <td>pupper</td>\n",
       "      <td>203</td>\n",
       "      <td>387192.0</td>\n",
       "      <td>1907.0</td>\n",
       "    </tr>\n",
       "    <tr>\n",
       "      <th>1</th>\n",
       "      <td>doggo</td>\n",
       "      <td>63</td>\n",
       "      <td>369920.0</td>\n",
       "      <td>5871.0</td>\n",
       "    </tr>\n",
       "    <tr>\n",
       "      <th>2</th>\n",
       "      <td>puppo</td>\n",
       "      <td>22</td>\n",
       "      <td>117044.0</td>\n",
       "      <td>5320.0</td>\n",
       "    </tr>\n",
       "    <tr>\n",
       "      <th>3</th>\n",
       "      <td>doggo, pupper</td>\n",
       "      <td>11</td>\n",
       "      <td>49990.0</td>\n",
       "      <td>4544.0</td>\n",
       "    </tr>\n",
       "    <tr>\n",
       "      <th>4</th>\n",
       "      <td>floofer</td>\n",
       "      <td>7</td>\n",
       "      <td>27851.0</td>\n",
       "      <td>3978.0</td>\n",
       "    </tr>\n",
       "  </tbody>\n",
       "</table>\n",
       "</div>"
      ],
      "text/plain": [
       "           stage  frequency  total_retweets  retweet_mean\n",
       "0         pupper        203        387192.0        1907.0\n",
       "1          doggo         63        369920.0        5871.0\n",
       "2          puppo         22        117044.0        5320.0\n",
       "3  doggo, pupper         11         49990.0        4544.0\n",
       "4        floofer          7         27851.0        3978.0"
      ]
     },
     "execution_count": 128,
     "metadata": {},
     "output_type": "execute_result"
    }
   ],
   "source": [
    "#Remove doggopuppo and doggofloofer stages as they will cause outliers due to their frequency being one\n",
    "frequency = frequency[0:5]\n",
    "frequency"
   ]
  },
  {
   "cell_type": "code",
   "execution_count": 129,
   "id": "138ebdc6",
   "metadata": {
    "scrolled": false
   },
   "outputs": [
    {
     "data": {
      "image/png": "[encoded data removed]",
      "text/plain": [
       "<Figure size 1080x432 with 1 Axes>"
      ]
     },
     "metadata": {},
     "output_type": "display_data"
    }
   ],
   "source": [
    "sb.set_style('whitegrid')\n",
    "plt.figure(figsize = (15,6))\n",
    "sb.barplot(data = frequency, x = frequency.stage, y = frequency.retweet_mean, color = base_color, \n",
    "           order = frequency.sort_values('retweet_mean', ascending = False).stage);\n",
    "plt.xticks(rotation=90);\n",
    "sb.set(font_scale = 2);\n",
    "plt.xlabel(\"Dog Stage\",fontsize = 22);\n",
    "plt.ylabel(\"Retweet Mean\",fontsize = 18);\n",
    "plt.title(\"Dog Stage and Retweets\",fontsize = 18); "
   ]
  },
  {
   "cell_type": "markdown",
   "id": "1ed48770",
   "metadata": {},
   "source": [
    "## Most Popular Dog Stage by Retweet Count"
   ]
  },
  {
   "cell_type": "code",
   "execution_count": 130,
   "id": "914aa2b5",
   "metadata": {},
   "outputs": [
    {
     "name": "stdout",
     "output_type": "stream",
     "text": [
      "Count of the Unique Dog breeds is :  374\n"
     ]
    }
   ],
   "source": [
    "# Generating a copy of the dataframe\n",
    "df_breed=twitter_clean.copy()\n",
    "\n",
    "# Fetching the count of unique stages\n",
    "print('Count of the Unique Dog breeds is : ', df_breed['first_prediction'].nunique())"
   ]
  },
  {
   "cell_type": "code",
   "execution_count": 131,
   "id": "5f145d69",
   "metadata": {},
   "outputs": [
    {
     "data": {
      "text/html": [
       "<div>\n",
       "<style scoped>\n",
       "    .dataframe tbody tr th:only-of-type {\n",
       "        vertical-align: middle;\n",
       "    }\n",
       "\n",
       "    .dataframe tbody tr th {\n",
       "        vertical-align: top;\n",
       "    }\n",
       "\n",
       "    .dataframe thead th {\n",
       "        text-align: right;\n",
       "    }\n",
       "</style>\n",
       "<table border=\"1\" class=\"dataframe\">\n",
       "  <thead>\n",
       "    <tr style=\"text-align: right;\">\n",
       "      <th></th>\n",
       "      <th>first_prediction</th>\n",
       "      <th>frequency</th>\n",
       "    </tr>\n",
       "  </thead>\n",
       "  <tbody>\n",
       "    <tr>\n",
       "      <th>0</th>\n",
       "      <td>Golden_retriever</td>\n",
       "      <td>139</td>\n",
       "    </tr>\n",
       "    <tr>\n",
       "      <th>1</th>\n",
       "      <td>Labrador_retriever</td>\n",
       "      <td>95</td>\n",
       "    </tr>\n",
       "    <tr>\n",
       "      <th>2</th>\n",
       "      <td>Pembroke</td>\n",
       "      <td>88</td>\n",
       "    </tr>\n",
       "    <tr>\n",
       "      <th>3</th>\n",
       "      <td>Chihuahua</td>\n",
       "      <td>79</td>\n",
       "    </tr>\n",
       "    <tr>\n",
       "      <th>4</th>\n",
       "      <td>Pug</td>\n",
       "      <td>54</td>\n",
       "    </tr>\n",
       "    <tr>\n",
       "      <th>...</th>\n",
       "      <td>...</td>\n",
       "      <td>...</td>\n",
       "    </tr>\n",
       "    <tr>\n",
       "      <th>369</th>\n",
       "      <td>Nail</td>\n",
       "      <td>1</td>\n",
       "    </tr>\n",
       "    <tr>\n",
       "      <th>370</th>\n",
       "      <td>Timber_wolf</td>\n",
       "      <td>1</td>\n",
       "    </tr>\n",
       "    <tr>\n",
       "      <th>371</th>\n",
       "      <td>Espresso</td>\n",
       "      <td>1</td>\n",
       "    </tr>\n",
       "    <tr>\n",
       "      <th>372</th>\n",
       "      <td>Bib</td>\n",
       "      <td>1</td>\n",
       "    </tr>\n",
       "    <tr>\n",
       "      <th>373</th>\n",
       "      <td>Desktop_computer</td>\n",
       "      <td>1</td>\n",
       "    </tr>\n",
       "  </tbody>\n",
       "</table>\n",
       "<p>374 rows × 2 columns</p>\n",
       "</div>"
      ],
      "text/plain": [
       "       first_prediction  frequency\n",
       "0      Golden_retriever        139\n",
       "1    Labrador_retriever         95\n",
       "2              Pembroke         88\n",
       "3             Chihuahua         79\n",
       "4                   Pug         54\n",
       "..                  ...        ...\n",
       "369                Nail          1\n",
       "370         Timber_wolf          1\n",
       "371            Espresso          1\n",
       "372                 Bib          1\n",
       "373    Desktop_computer          1\n",
       "\n",
       "[374 rows x 2 columns]"
      ]
     },
     "execution_count": 131,
     "metadata": {},
     "output_type": "execute_result"
    }
   ],
   "source": [
    "df_breed.first_prediction.value_counts()\n",
    "breed_frequency_dict = df_breed.first_prediction.value_counts().to_dict()\n",
    "breed_frequency = pd.DataFrame(list(breed_frequency_dict.items()), columns = ['first_prediction', 'frequency'])\n",
    "breed_frequency"
   ]
  },
  {
   "cell_type": "code",
   "execution_count": 132,
   "id": "f468eb75",
   "metadata": {},
   "outputs": [],
   "source": [
    "# Generating a new field \"total_likes\"\n",
    "total_like = []\n",
    "for i in breed_frequency.first_prediction:\n",
    "    tl = twitter_clean[twitter_clean.first_prediction == i]['favorite_count'].sum()\n",
    "    total_like.append(tl)\n",
    "    \n",
    "breed_frequency['total_likes'] = total_like"
   ]
  },
  {
   "cell_type": "code",
   "execution_count": 133,
   "id": "7e5987f9",
   "metadata": {
    "scrolled": true
   },
   "outputs": [
    {
     "data": {
      "text/html": [
       "<div>\n",
       "<style scoped>\n",
       "    .dataframe tbody tr th:only-of-type {\n",
       "        vertical-align: middle;\n",
       "    }\n",
       "\n",
       "    .dataframe tbody tr th {\n",
       "        vertical-align: top;\n",
       "    }\n",
       "\n",
       "    .dataframe thead th {\n",
       "        text-align: right;\n",
       "    }\n",
       "</style>\n",
       "<table border=\"1\" class=\"dataframe\">\n",
       "  <thead>\n",
       "    <tr style=\"text-align: right;\">\n",
       "      <th></th>\n",
       "      <th>first_prediction</th>\n",
       "      <th>frequency</th>\n",
       "      <th>total_likes</th>\n",
       "      <th>like_mean</th>\n",
       "    </tr>\n",
       "  </thead>\n",
       "  <tbody>\n",
       "    <tr>\n",
       "      <th>0</th>\n",
       "      <td>Golden_retriever</td>\n",
       "      <td>139</td>\n",
       "      <td>1474527.0</td>\n",
       "      <td>10608.0</td>\n",
       "    </tr>\n",
       "    <tr>\n",
       "      <th>1</th>\n",
       "      <td>Labrador_retriever</td>\n",
       "      <td>95</td>\n",
       "      <td>909872.0</td>\n",
       "      <td>9577.0</td>\n",
       "    </tr>\n",
       "    <tr>\n",
       "      <th>2</th>\n",
       "      <td>Pembroke</td>\n",
       "      <td>88</td>\n",
       "      <td>866837.0</td>\n",
       "      <td>9850.0</td>\n",
       "    </tr>\n",
       "    <tr>\n",
       "      <th>3</th>\n",
       "      <td>Chihuahua</td>\n",
       "      <td>79</td>\n",
       "      <td>597879.0</td>\n",
       "      <td>7568.0</td>\n",
       "    </tr>\n",
       "    <tr>\n",
       "      <th>4</th>\n",
       "      <td>Pug</td>\n",
       "      <td>54</td>\n",
       "      <td>271018.0</td>\n",
       "      <td>5018.0</td>\n",
       "    </tr>\n",
       "    <tr>\n",
       "      <th>...</th>\n",
       "      <td>...</td>\n",
       "      <td>...</td>\n",
       "      <td>...</td>\n",
       "      <td>...</td>\n",
       "    </tr>\n",
       "    <tr>\n",
       "      <th>369</th>\n",
       "      <td>Nail</td>\n",
       "      <td>1</td>\n",
       "      <td>5046.0</td>\n",
       "      <td>5046.0</td>\n",
       "    </tr>\n",
       "    <tr>\n",
       "      <th>370</th>\n",
       "      <td>Timber_wolf</td>\n",
       "      <td>1</td>\n",
       "      <td>4096.0</td>\n",
       "      <td>4096.0</td>\n",
       "    </tr>\n",
       "    <tr>\n",
       "      <th>371</th>\n",
       "      <td>Espresso</td>\n",
       "      <td>1</td>\n",
       "      <td>7423.0</td>\n",
       "      <td>7423.0</td>\n",
       "    </tr>\n",
       "    <tr>\n",
       "      <th>372</th>\n",
       "      <td>Bib</td>\n",
       "      <td>1</td>\n",
       "      <td>609.0</td>\n",
       "      <td>609.0</td>\n",
       "    </tr>\n",
       "    <tr>\n",
       "      <th>373</th>\n",
       "      <td>Desktop_computer</td>\n",
       "      <td>1</td>\n",
       "      <td>100.0</td>\n",
       "      <td>100.0</td>\n",
       "    </tr>\n",
       "  </tbody>\n",
       "</table>\n",
       "<p>374 rows × 4 columns</p>\n",
       "</div>"
      ],
      "text/plain": [
       "       first_prediction  frequency  total_likes  like_mean\n",
       "0      Golden_retriever        139    1474527.0    10608.0\n",
       "1    Labrador_retriever         95     909872.0     9577.0\n",
       "2              Pembroke         88     866837.0     9850.0\n",
       "3             Chihuahua         79     597879.0     7568.0\n",
       "4                   Pug         54     271018.0     5018.0\n",
       "..                  ...        ...          ...        ...\n",
       "369                Nail          1       5046.0     5046.0\n",
       "370         Timber_wolf          1       4096.0     4096.0\n",
       "371            Espresso          1       7423.0     7423.0\n",
       "372                 Bib          1        609.0      609.0\n",
       "373    Desktop_computer          1        100.0      100.0\n",
       "\n",
       "[374 rows x 4 columns]"
      ]
     },
     "execution_count": 133,
     "metadata": {},
     "output_type": "execute_result"
    }
   ],
   "source": [
    "# Generating a new field \"like_mean\"\n",
    "breed_frequency['like_mean'] = breed_frequency.total_likes // breed_frequency.frequency\n",
    "breed_frequency"
   ]
  },
  {
   "cell_type": "code",
   "execution_count": 134,
   "id": "70d1bbbe",
   "metadata": {},
   "outputs": [],
   "source": [
    "#Visualize only the top 10 breeds\n",
    "breed_frequency = breed_frequency.sort_values(['frequency', 'total_likes'], ascending = False).iloc[0:10]"
   ]
  },
  {
   "cell_type": "code",
   "execution_count": 135,
   "id": "aaae1464",
   "metadata": {},
   "outputs": [
    {
     "data": {
      "text/html": [
       "<div>\n",
       "<style scoped>\n",
       "    .dataframe tbody tr th:only-of-type {\n",
       "        vertical-align: middle;\n",
       "    }\n",
       "\n",
       "    .dataframe tbody tr th {\n",
       "        vertical-align: top;\n",
       "    }\n",
       "\n",
       "    .dataframe thead th {\n",
       "        text-align: right;\n",
       "    }\n",
       "</style>\n",
       "<table border=\"1\" class=\"dataframe\">\n",
       "  <thead>\n",
       "    <tr style=\"text-align: right;\">\n",
       "      <th></th>\n",
       "      <th>first_prediction</th>\n",
       "      <th>frequency</th>\n",
       "      <th>total_likes</th>\n",
       "      <th>like_mean</th>\n",
       "    </tr>\n",
       "  </thead>\n",
       "  <tbody>\n",
       "    <tr>\n",
       "      <th>0</th>\n",
       "      <td>Golden_retriever</td>\n",
       "      <td>139</td>\n",
       "      <td>1474527.0</td>\n",
       "      <td>10608.0</td>\n",
       "    </tr>\n",
       "    <tr>\n",
       "      <th>1</th>\n",
       "      <td>Labrador_retriever</td>\n",
       "      <td>95</td>\n",
       "      <td>909872.0</td>\n",
       "      <td>9577.0</td>\n",
       "    </tr>\n",
       "    <tr>\n",
       "      <th>2</th>\n",
       "      <td>Pembroke</td>\n",
       "      <td>88</td>\n",
       "      <td>866837.0</td>\n",
       "      <td>9850.0</td>\n",
       "    </tr>\n",
       "    <tr>\n",
       "      <th>3</th>\n",
       "      <td>Chihuahua</td>\n",
       "      <td>79</td>\n",
       "      <td>597879.0</td>\n",
       "      <td>7568.0</td>\n",
       "    </tr>\n",
       "    <tr>\n",
       "      <th>4</th>\n",
       "      <td>Pug</td>\n",
       "      <td>54</td>\n",
       "      <td>271018.0</td>\n",
       "      <td>5018.0</td>\n",
       "    </tr>\n",
       "    <tr>\n",
       "      <th>5</th>\n",
       "      <td>Chow</td>\n",
       "      <td>41</td>\n",
       "      <td>353200.0</td>\n",
       "      <td>8614.0</td>\n",
       "    </tr>\n",
       "    <tr>\n",
       "      <th>6</th>\n",
       "      <td>Samoyed</td>\n",
       "      <td>40</td>\n",
       "      <td>447579.0</td>\n",
       "      <td>11189.0</td>\n",
       "    </tr>\n",
       "    <tr>\n",
       "      <th>8</th>\n",
       "      <td>Pomeranian</td>\n",
       "      <td>38</td>\n",
       "      <td>264319.0</td>\n",
       "      <td>6955.0</td>\n",
       "    </tr>\n",
       "    <tr>\n",
       "      <th>7</th>\n",
       "      <td>Toy_poodle</td>\n",
       "      <td>38</td>\n",
       "      <td>202421.0</td>\n",
       "      <td>5326.0</td>\n",
       "    </tr>\n",
       "    <tr>\n",
       "      <th>9</th>\n",
       "      <td>Malamute</td>\n",
       "      <td>29</td>\n",
       "      <td>216781.0</td>\n",
       "      <td>7475.0</td>\n",
       "    </tr>\n",
       "  </tbody>\n",
       "</table>\n",
       "</div>"
      ],
      "text/plain": [
       "     first_prediction  frequency  total_likes  like_mean\n",
       "0    Golden_retriever        139    1474527.0    10608.0\n",
       "1  Labrador_retriever         95     909872.0     9577.0\n",
       "2            Pembroke         88     866837.0     9850.0\n",
       "3           Chihuahua         79     597879.0     7568.0\n",
       "4                 Pug         54     271018.0     5018.0\n",
       "5                Chow         41     353200.0     8614.0\n",
       "6             Samoyed         40     447579.0    11189.0\n",
       "8          Pomeranian         38     264319.0     6955.0\n",
       "7          Toy_poodle         38     202421.0     5326.0\n",
       "9            Malamute         29     216781.0     7475.0"
      ]
     },
     "execution_count": 135,
     "metadata": {},
     "output_type": "execute_result"
    }
   ],
   "source": [
    "breed_frequency"
   ]
  },
  {
   "cell_type": "code",
   "execution_count": null,
   "id": "e07048e4",
   "metadata": {},
   "outputs": [],
   "source": []
  },
  {
   "cell_type": "code",
   "execution_count": 136,
   "id": "c4e7ae42",
   "metadata": {
    "scrolled": true
   },
   "outputs": [
    {
     "data": {
      "image/png": "[encoded data removed]",
      "text/plain": [
       "<Figure size 1080x432 with 1 Axes>"
      ]
     },
     "metadata": {},
     "output_type": "display_data"
    }
   ],
   "source": [
    "sb.set_style('whitegrid')\n",
    "plt.figure(figsize = (15,6))\n",
    "sb.barplot(data = breed_frequency, x = breed_frequency.first_prediction, y = breed_frequency.like_mean, color = base_color, \n",
    "           order = breed_frequency.sort_values('like_mean', ascending = False).first_prediction);\n",
    "plt.xticks(rotation=90);\n",
    "sb.set(font_scale = 1.5)\n",
    "plt.xlabel(\"Dog Stage\",fontsize = 22);\n",
    "plt.ylabel(\"Retweet Mean\",fontsize = 18);\n",
    "plt.title(\"Dog Stage and Likes\",fontsize = 18); "
   ]
  },
  {
   "cell_type": "markdown",
   "id": "c81e363f",
   "metadata": {},
   "source": [
    "### Insights:\n",
    "1.Golden retriever is the most popular dog breed\n",
    "\n",
    "2.Puppo stage is the most popular by retweet count\n",
    "\n",
    "3.Samoyed breed is the most popular by favorite count"
   ]
  },
  {
   "cell_type": "code",
   "execution_count": null,
   "id": "3e9bd31c",
   "metadata": {},
   "outputs": [],
   "source": []
  }
 ],
 "metadata": {
  "kernelspec": {
   "display_name": "Python 3 (ipykernel)",
   "language": "python",
   "name": "python3"
  },
  "language_info": {
   "codemirror_mode": {
    "name": "ipython",
    "version": 3
   },
   "file_extension": ".py",
   "mimetype": "text/x-python",
   "name": "python",
   "nbconvert_exporter": "python",
   "pygments_lexer": "ipython3",
   "version": "3.9.7"
  }
 },
 "nbformat": 4,
 "nbformat_minor": 5
}
